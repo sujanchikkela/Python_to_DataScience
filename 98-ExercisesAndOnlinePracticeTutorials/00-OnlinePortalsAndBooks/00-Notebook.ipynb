{
  "cells": [
    {
      "metadata": {},
      "cell_type": "markdown",
      "source": "### Practice portals online Tutorials"
    },
    {
      "metadata": {},
      "cell_type": "markdown",
      "source": "https://snakify.org/en/  \nhttps://www.hackerrank.com/domains/python  \nhttps://www.w3resource.com/python/python-tutorial.php  \nhttps://pynative.com/python-basic-exercise-for-beginners/   "
    },
    {
      "metadata": {},
      "cell_type": "markdown",
      "source": "### Recommended Books"
    },
    {
      "metadata": {},
      "cell_type": "markdown",
      "source": "**\"Python for Data Analysis\"** By Wes McKinney:  \nhttps://github.com/wesm/pydata-book  \n  \n**\"Python Data Science Handbook\"** By Jake VanderPlas:  \nhttps://github.com/jakevdp/PythonDataScienceHandbook  "
    }
  ],
  "metadata": {
    "kernelspec": {
      "name": "python3",
      "display_name": "Python 3",
      "language": "python"
    },
    "language_info": {
      "mimetype": "text/x-python",
      "nbconvert_exporter": "python",
      "name": "python",
      "file_extension": ".py",
      "version": "3.5.4",
      "pygments_lexer": "ipython3",
      "codemirror_mode": {
        "version": 3,
        "name": "ipython"
      }
    },
    "toc": {
      "nav_menu": {},
      "number_sections": true,
      "sideBar": true,
      "skip_h1_title": false,
      "base_numbering": 1,
      "title_cell": "Table of Contents",
      "title_sidebar": "Contents",
      "toc_cell": false,
      "toc_position": {},
      "toc_section_display": true,
      "toc_window_display": false
    }
  },
  "nbformat": 4,
  "nbformat_minor": 2
}