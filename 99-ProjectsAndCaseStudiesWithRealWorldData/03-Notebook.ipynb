{
  "cells": [
    {
      "metadata": {},
      "cell_type": "markdown",
      "source": "# Sales Analysis\n(using read world dataset)  "
    },
    {
      "metadata": {},
      "cell_type": "markdown",
      "source": "### Import necessary libraries"
    },
    {
      "metadata": {
        "trusted": false
      },
      "cell_type": "code",
      "source": "# your code here",
      "execution_count": 1,
      "outputs": []
    },
    {
      "metadata": {},
      "cell_type": "markdown",
      "source": "### Merge data from each month into one CSV\n`path = \"data/Sales_Data\"`"
    },
    {
      "metadata": {
        "trusted": false
      },
      "cell_type": "code",
      "source": "# your code here",
      "execution_count": 2,
      "outputs": []
    },
    {
      "metadata": {},
      "cell_type": "markdown",
      "source": "### load the merged csv here and read first five rows from dataframe"
    },
    {
      "metadata": {
        "trusted": true
      },
      "cell_type": "code",
      "source": "# your code here",
      "execution_count": 1,
      "outputs": []
    },
    {
      "metadata": {},
      "cell_type": "markdown",
      "source": "### Clean up the data!\nThe first step in this is figuring out what we need to clean. I have found in practice, that you find things you need to clean as you perform operations and get errors. Based on the error, you decide how you should go about cleaning the data"
    },
    {
      "metadata": {},
      "cell_type": "markdown",
      "source": "##### Drop rows of NAN"
    },
    {
      "metadata": {
        "trusted": true
      },
      "cell_type": "code",
      "source": "# your code here",
      "execution_count": 2,
      "outputs": []
    },
    {
      "metadata": {},
      "cell_type": "markdown",
      "source": "##### Get rid of text in order date column"
    },
    {
      "metadata": {
        "trusted": false
      },
      "cell_type": "code",
      "source": "# your code here",
      "execution_count": 22,
      "outputs": []
    },
    {
      "metadata": {},
      "cell_type": "markdown",
      "source": "#### Make columns correct type"
    },
    {
      "metadata": {
        "trusted": false
      },
      "cell_type": "code",
      "source": "# your code here",
      "execution_count": 23,
      "outputs": []
    },
    {
      "metadata": {},
      "cell_type": "markdown",
      "source": "### Augment data with additional columns"
    },
    {
      "metadata": {},
      "cell_type": "markdown",
      "source": "#### Add month column"
    },
    {
      "metadata": {
        "trusted": true
      },
      "cell_type": "code",
      "source": "# your code here",
      "execution_count": 3,
      "outputs": []
    },
    {
      "metadata": {},
      "cell_type": "markdown",
      "source": "#### Add month column (alternative method)"
    },
    {
      "metadata": {
        "trusted": true
      },
      "cell_type": "code",
      "source": "# your code here",
      "execution_count": 4,
      "outputs": []
    },
    {
      "metadata": {},
      "cell_type": "markdown",
      "source": "#### Add city column"
    },
    {
      "metadata": {
        "trusted": true
      },
      "cell_type": "code",
      "source": "# your code here",
      "execution_count": 5,
      "outputs": []
    },
    {
      "metadata": {},
      "cell_type": "markdown",
      "source": "## Data Exploration!"
    },
    {
      "metadata": {},
      "cell_type": "markdown",
      "source": "#### Question 1: What was the best month for sales? How much was earned that month? "
    },
    {
      "metadata": {
        "trusted": false
      },
      "cell_type": "code",
      "source": "# your code here",
      "execution_count": 26,
      "outputs": []
    },
    {
      "metadata": {},
      "cell_type": "markdown",
      "source": "#### Question 2: What city sold the most product?"
    },
    {
      "metadata": {
        "trusted": true
      },
      "cell_type": "code",
      "source": "# your code here",
      "execution_count": 7,
      "outputs": []
    },
    {
      "metadata": {},
      "cell_type": "markdown",
      "source": "#### Question 3: What time should we display advertisements to maximize likelihood of customer's buying product?"
    },
    {
      "metadata": {
        "trusted": true
      },
      "cell_type": "code",
      "source": "# your code here",
      "execution_count": 9,
      "outputs": []
    },
    {
      "metadata": {},
      "cell_type": "markdown",
      "source": "#### Question 4: What products are most often sold together?"
    },
    {
      "metadata": {
        "trusted": true
      },
      "cell_type": "code",
      "source": "# your code here\n\n#### What product sold the most? Why do you think it sold the most?",
      "execution_count": 10,
      "outputs": []
    }
  ],
  "metadata": {
    "kernelspec": {
      "name": "python36",
      "display_name": "Python 3.6",
      "language": "python"
    },
    "language_info": {
      "mimetype": "text/x-python",
      "nbconvert_exporter": "python",
      "name": "python",
      "pygments_lexer": "ipython3",
      "version": "3.6.6",
      "file_extension": ".py",
      "codemirror_mode": {
        "version": 3,
        "name": "ipython"
      }
    },
    "toc": {
      "nav_menu": {},
      "number_sections": true,
      "sideBar": true,
      "skip_h1_title": false,
      "base_numbering": 1,
      "title_cell": "Table of Contents",
      "title_sidebar": "Contents",
      "toc_cell": false,
      "toc_position": {},
      "toc_section_display": true,
      "toc_window_display": false
    }
  },
  "nbformat": 4,
  "nbformat_minor": 2
}