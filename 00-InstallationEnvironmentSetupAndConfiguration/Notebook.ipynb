{
  "cells": [
    {
      "metadata": {
        "toc": true
      },
      "cell_type": "markdown",
      "source": "<h1>Table of Contents<span class=\"tocSkip\"></span></h1>\n<div class=\"toc\"><ul class=\"toc-item\"><li><span><a href=\"#What-is-python\" data-toc-modified-id=\"What-is-python-1\"><span class=\"toc-item-num\">1&nbsp;&nbsp;</span>What is python</a></span></li><li><span><a href=\"#History\" data-toc-modified-id=\"History-2\"><span class=\"toc-item-num\">2&nbsp;&nbsp;</span>History</a></span></li><li><span><a href=\"#Features\" data-toc-modified-id=\"Features-3\"><span class=\"toc-item-num\">3&nbsp;&nbsp;</span>Features</a></span></li><li><span><a href=\"#Setting-up-your-machine-(step-by-step-Installation-on-windows)\" data-toc-modified-id=\"Setting-up-your-machine-(step-by-step-Installation-on-windows)-4\"><span class=\"toc-item-num\">4&nbsp;&nbsp;</span>Setting up your machine (step by step Installation on windows)</a></span><ul class=\"toc-item\"><li><span><a href=\"#From-python-project-site\" data-toc-modified-id=\"From-python-project-site-4.1\"><span class=\"toc-item-num\">4.1&nbsp;&nbsp;</span>From python project site</a></span></li><li><span><a href=\"#From-Anaconda-distribution-(Recommended)\" data-toc-modified-id=\"From-Anaconda-distribution-(Recommended)-4.2\"><span class=\"toc-item-num\">4.2&nbsp;&nbsp;</span>From Anaconda distribution (<em>Recommended</em>)</a></span></li></ul></li><li><span><a href=\"#Spyder-IDE-Overview\" data-toc-modified-id=\"Spyder-IDE-Overview-5\"><span class=\"toc-item-num\">5&nbsp;&nbsp;</span>Spyder IDE Overview</a></span></li><li><span><a href=\"#Jupyter-Notebooks-&amp;-Markdown\" data-toc-modified-id=\"Jupyter-Notebooks-&amp;-Markdown-6\"><span class=\"toc-item-num\">6&nbsp;&nbsp;</span>Jupyter Notebooks &amp; Markdown</a></span></li><li><span><a href=\"#Anaconda-Installation-for-all-operating-systems\" data-toc-modified-id=\"Anaconda-Installation-for-all-operating-systems-7\"><span class=\"toc-item-num\">7&nbsp;&nbsp;</span>Anaconda Installation for all operating systems</a></span></li></ul></div>"
    },
    {
      "metadata": {},
      "cell_type": "markdown",
      "source": "## What is python\n> Python is a general purpose, dynamic, high level programming language, It supports object-oriented, procedure-oriented, and functional programming."
    },
    {
      "metadata": {},
      "cell_type": "markdown",
      "source": "## History"
    },
    {
      "metadata": {},
      "cell_type": "markdown",
      "source": "* Python laid its foundation in the late 1980s.    \n* The implementation of Python was started in the December 1989 by **Guido Van Rossum** at CWI in Netherland.  \n* In February 1991,van Rossum published the code (labeled version 0.9.0) to alt.sources.   \n* In 1994, Python 1.0 was released with new features like: lambda, map, filter, and reduce.    \n* In October 16, 2000 Python 2.0 released \n* On December 3, 2008, Python 3.0        "
    },
    {
      "metadata": {},
      "cell_type": "markdown",
      "source": "## Features "
    },
    {
      "metadata": {},
      "cell_type": "markdown",
      "source": "1. Open Source – free to install\n2. Awesome online community\n3. Very easy to learn\n4. dynamically typed\n4. Become a common language for data science and production of web based analytics products.\n1. Readability. ...  \n2. Expressive Language. ...  \n3. Interpreted Language. ...         \n4. Cross-platform Language. ...  \n5. Extensible. ...  \n6. Large Standard Library.  "
    },
    {
      "metadata": {},
      "cell_type": "markdown",
      "source": "## Setting up your machine (step by step Installation on windows)\nThere are 2 approaches to install Python:\n\n* You can download Python directly from its project site and install individual components and libraries you want\n* Alternately, you can download and install a package using **Anaconda**, which comes with pre-installed libraries."
    },
    {
      "metadata": {},
      "cell_type": "markdown",
      "source": "### From python project site"
    },
    {
      "metadata": {},
      "cell_type": "markdown",
      "source": "* First Open a Web browser and go to https://www.python.org/downloads/.\n* Check the latest version and then Click the Download Python 3.6.2 button.\n* Move this file to a more permanent location, so that you can install Python.\n* If you want to immediately installation then close the web browser.\n* Then go to the python-3.6.2.exe file where it is located and Double-click the icon labeling the file python-3.6.2.exe.  \n\n![Imgur](https://i.imgur.com/ziexz2W.jpg)\n\nClick Run.\n            You will see Python 3.6.2 (32-bit) Setup pop-up window.\n            \n![Imgur](https://i.imgur.com/NL66gMV.jpg)\n            \n            Then click on both check box option Install launcher for all users (recommended) and the Add Python 3.6 to PATH.\n\nThen seems User Account Control pop-up window, in that ask the question Do you want the allow the following program to make changes to this computer?\n\n![Imgur](https://i.imgur.com/6n00SjK.jpg)\n\nClick the Yes button.\n           After that you will see new Python 3.6.2 (32-bit) Setup pop-up window.\n           \n![Imgur](https://i.imgur.com/TGcp92l.jpg)\n\nAfter the completion of setup process, window will appear with a Setup was successfully message.\n\n![Imgur](https://i.imgur.com/YdNhuCr.jpg)\n\nClick on Close Button."
    },
    {
      "metadata": {},
      "cell_type": "markdown",
      "source": "### From Anaconda distribution (*Recommended*)"
    },
    {
      "metadata": {},
      "cell_type": "markdown",
      "source": "* Visit the Anaconda downloads page  \nGo to the following link: [Anaconda.com/downloads](https://www.anaconda.com/download/)  \nThe Anaconda Downloads Page will look something like this:    \n![Imgur](https://i.imgur.com/mWbsPTA.png)  \n\n* Select the Windows  \nSelect Windows where the three opperating systems are listed.  \n![Imgur](https://i.imgur.com/MYrJYwb.png)\n\n* Download  \nDownload the Python 3.6 distribution. Python 2.7 is legacy Python. For undergraduate engineers, select the Python 3.6 version.     \n\n![Imgur](https://i.imgur.com/N1GngpX.png)\n\nYou may be prompted to enter your email. You can still download Anaconda if you click **No Thanks** and don't enter your Work Email address.  \n\n![Imgur](https://i.imgur.com/VfgJNUa.png)\n\nThe download is quite large (over 500 MB) so it may take a while for the download to complete.  \n\n* Double-click the installation file.  \n![Imgur](https://i.imgur.com/6ZG0Bwq.png)\n\n* Click Next.             \n![Imgur](https://i.imgur.com/bV8fNtz.jpg)\n* Click I Agree if you agree to the licensing agreement.         \n\n\n* Choose one of the installation types and then click Next.     \n![Imgur](https://i.imgur.com/FeTLdQf.jpg)\n\n* Choose an installation location (if necessary) and then click Next.    \n![Imgur](https://i.imgur.com/tkMG1yj.jpg)\n\n* Change the advanced installation options (if necessary) and then click Install.  \n\n![Imgur](https://i.imgur.com/VM1v9MG.jpg)\n\n* Click Next.  \nThe wizard tells you that the installation is complete.\n\n* Click Finish.  \nYou’re ready to begin using Anaconda."
    },
    {
      "metadata": {},
      "cell_type": "markdown",
      "source": "**Installing Anaconda on Windows:**  \nhttps://www.datacamp.com/community/tutorials/installing-anaconda-windows  "
    },
    {
      "metadata": {},
      "cell_type": "markdown",
      "source": "## Spyder IDE Overview\n(The Scientific Python Development Environment)"
    },
    {
      "metadata": {},
      "cell_type": "markdown",
      "source": "**Features** Spyder contains features like a text editor with syntax highlighting, code completion and variable exploring, which you can edit its values using a Graphical User Interface (GUI)."
    },
    {
      "metadata": {},
      "cell_type": "markdown",
      "source": "**Opening the Spyder application should present you with the following window**  \nCode Editor that lets you create and edit existing Python source files [YELLOW CIRCLE 1]  \nIPython interpreter pane, which gives you access to the Python interactive mode [YELLOW CIRCLE 2]  \n\n![Imgur](https://i.imgur.com/4jjNnUw.png)\n\n* Using the IPython prompt    \n![Imgur](https://i.imgur.com/ruHDK9J.png)\n\n* To create, save, and run a file  \n![Imgur](https://i.imgur.com/e3tobBR.png)\n\n* Installing and Testing Matplotlib and Numpy\n![Imgur](https://i.imgur.com/vi5t2qn.png)"
    },
    {
      "metadata": {},
      "cell_type": "markdown",
      "source": "https://medium.com/edureka/spyder-ide-2a91caac4e46  "
    },
    {
      "metadata": {},
      "cell_type": "markdown",
      "source": "## Jupyter Notebooks & Markdown"
    },
    {
      "metadata": {},
      "cell_type": "markdown",
      "source": "**about jupyter:** http://jupyter.org/"
    },
    {
      "metadata": {},
      "cell_type": "markdown",
      "source": "**markdown syntax:** https://www.markdownguide.org/basic-syntax/"
    },
    {
      "metadata": {},
      "cell_type": "markdown",
      "source": "**Other popular IDEs:**  \nPyCharm  \nVisual studio code  \nSublime Text  \nAtom...etc  "
    },
    {
      "metadata": {},
      "cell_type": "markdown",
      "source": "## Anaconda Installation for all operating systems"
    },
    {
      "metadata": {},
      "cell_type": "markdown",
      "source": "Operating System | Blog Post | Youtube Video\n--- | --- | ---\nMac | [Install Anaconda on Mac](https://medium.com/@GalarnykMichael/install-python-on-mac-anaconda-ccd9f2014072#.lvhw2gt3k \"Install Anaconda on Mac\") | [Youtube Video](https://www.youtube.com/watch?v=B6d5LrA8bNE \"Youtube Video\")\nWindows | [Install Anaconda on Windows](https://medium.com/@GalarnykMichael/install-python-on-windows-anaconda-c63c7c3d1444#.66f7y3whf) | [Youtube Video](https://www.youtube.com/watch?v=dgjEUcccRwM)\nUbuntu | [Install Anaconda on Ubuntu](https://medium.com/@GalarnykMichael/install-python-on-ubuntu-anaconda-65623042cb5a#.4kwsp0wjl) | [Youtube Video](https://www.youtube.com/watch?v=jo4RMiM-ihs)\nAll | [Environment Management with Conda (Python 2 + 3, Configuring Jupyter Notebooks)](https://medium.com/towards-data-science/environment-management-with-conda-python-2-3-b9961a8a5097) | [Youtube Video](https://www.youtube.com/watch?v=rFCBiP9Gkoo)"
    }
  ],
  "metadata": {
    "kernelspec": {
      "name": "python36",
      "display_name": "Python 3.6",
      "language": "python"
    },
    "language_info": {
      "mimetype": "text/x-python",
      "nbconvert_exporter": "python",
      "name": "python",
      "pygments_lexer": "ipython3",
      "version": "3.6.6",
      "file_extension": ".py",
      "codemirror_mode": {
        "version": 3,
        "name": "ipython"
      }
    },
    "toc": {
      "nav_menu": {},
      "number_sections": true,
      "sideBar": true,
      "skip_h1_title": false,
      "base_numbering": 1,
      "title_cell": "Table of Contents",
      "title_sidebar": "Contents",
      "toc_cell": true,
      "toc_position": {},
      "toc_section_display": "block",
      "toc_window_display": false
    }
  },
  "nbformat": 4,
  "nbformat_minor": 2
}