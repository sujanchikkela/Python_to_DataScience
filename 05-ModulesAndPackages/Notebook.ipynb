{
  "cells": [
    {
      "metadata": {
        "toc": true
      },
      "cell_type": "markdown",
      "source": "<h1>Table of Contents<span class=\"tocSkip\"></span></h1>\n<div class=\"toc\"><ul class=\"toc-item\"><li><span><a href=\"#File-handling-:-Working-with-files---Reading-and-Writing\" data-toc-modified-id=\"File-handling-:-Working-with-files---Reading-and-Writing-1\"><span class=\"toc-item-num\">1&nbsp;&nbsp;</span>File handling : Working with files - Reading and Writing</a></span></li><li><span><a href=\"#Standard-libraries\" data-toc-modified-id=\"Standard-libraries-2\"><span class=\"toc-item-num\">2&nbsp;&nbsp;</span>Standard libraries</a></span><ul class=\"toc-item\"><li><span><a href=\"#os-module\" data-toc-modified-id=\"os-module-2.1\"><span class=\"toc-item-num\">2.1&nbsp;&nbsp;</span>os module</a></span></li><li><span><a href=\"#datetime-module\" data-toc-modified-id=\"datetime-module-2.2\"><span class=\"toc-item-num\">2.2&nbsp;&nbsp;</span>datetime module</a></span></li><li><span><a href=\"#calendar-module\" data-toc-modified-id=\"calendar-module-2.3\"><span class=\"toc-item-num\">2.3&nbsp;&nbsp;</span>calendar module</a></span></li><li><span><a href=\"#math-module\" data-toc-modified-id=\"math-module-2.4\"><span class=\"toc-item-num\">2.4&nbsp;&nbsp;</span>math module</a></span></li><li><span><a href=\"#random-module\" data-toc-modified-id=\"random-module-2.5\"><span class=\"toc-item-num\">2.5&nbsp;&nbsp;</span>random module</a></span></li><li><span><a href=\"#statistics-module\" data-toc-modified-id=\"statistics-module-2.6\"><span class=\"toc-item-num\">2.6&nbsp;&nbsp;</span>statistics module</a></span></li><li><span><a href=\"#itertools-module\" data-toc-modified-id=\"itertools-module-2.7\"><span class=\"toc-item-num\">2.7&nbsp;&nbsp;</span>itertools module</a></span></li><li><span><a href=\"#collections-module\" data-toc-modified-id=\"collections-module-2.8\"><span class=\"toc-item-num\">2.8&nbsp;&nbsp;</span>collections module</a></span></li><li><span><a href=\"#re-module\" data-toc-modified-id=\"re-module-2.9\"><span class=\"toc-item-num\">2.9&nbsp;&nbsp;</span>re module</a></span></li><li><span><a href=\"#warnings-module\" data-toc-modified-id=\"warnings-module-2.10\"><span class=\"toc-item-num\">2.10&nbsp;&nbsp;</span>warnings module</a></span></li></ul></li><li><span><a href=\"#External-Packages/libraries\" data-toc-modified-id=\"External-Packages/libraries-3\"><span class=\"toc-item-num\">3&nbsp;&nbsp;</span>External Packages/libraries</a></span></li></ul></div>"
    },
    {
      "metadata": {},
      "cell_type": "markdown",
      "source": "## File handling : Working with files - Reading and Writing"
    },
    {
      "metadata": {
        "trusted": true
      },
      "cell_type": "code",
      "source": "#\n# Read and write files using the built-in Python file methods\n#",
      "execution_count": null,
      "outputs": []
    },
    {
      "metadata": {
        "trusted": true
      },
      "cell_type": "code",
      "source": "#def main():  \n  # Open a file for writing and create it if it doesn't exist\nf = open(\"data/textfile.txt\",\"w+\")\n  \n  # Open the file for appending text to the end\n  # f = open(\"textfile.txt\",\"a+\")\n\n  # write some lines of data to the file\nfor i in range(10):\n    f.write(\"This is line %d\\r\\n\" % (i+1))\n  \n      # close the file when done\nf.close()",
      "execution_count": null,
      "outputs": []
    },
    {
      "metadata": {
        "trusted": true
      },
      "cell_type": "code",
      "source": "  \n  # Open the file back up and read the contents\nf = open(\"data/textfile.txt\",\"r\")\nif f.mode == 'r': # check to make sure that the file was opened\n    # use the read() function to read the entire file\n    contents = f.read()\n    print (contents)\n    \nfl = f.readlines() # readlines reads the individual lines into a list\nfor x in fl:\n      print (x)\n    \n# w --> write\n# r --> read\n# r+ --> read and write\n# a --> append\n\n#https://www.pythonforbeginners.com/systems-programming/python-file-handling b",
      "execution_count": null,
      "outputs": []
    },
    {
      "metadata": {},
      "cell_type": "markdown",
      "source": "https://medium.com/edureka/file-handling-in-python-e0a6ff96ede9"
    },
    {
      "metadata": {},
      "cell_type": "markdown",
      "source": "# Modules/Libraries and Packages"
    },
    {
      "metadata": {},
      "cell_type": "markdown",
      "source": "A **module** is a file containing Python definitions and statements. This code can either be functions, classes or variables.    The file name is the module name with the suffix `.py` contains executable code.  \n"
    },
    {
      "metadata": {},
      "cell_type": "markdown",
      "source": "A **package** which can holds collection of module in it, with specific purpose  \npackages are also a special type of modules, which we can import the same way as the module   "
    },
    {
      "metadata": {},
      "cell_type": "markdown",
      "source": "**urllib package:**"
    },
    {
      "metadata": {
        "trusted": true
      },
      "cell_type": "code",
      "source": "import urllib.request\nurllib.request.urlopen('http://www.google.com') # returns http responce object",
      "execution_count": 1,
      "outputs": [
        {
          "output_type": "execute_result",
          "execution_count": 1,
          "data": {
            "text/plain": "<http.client.HTTPResponse at 0x7fa119cb7080>"
          },
          "metadata": {}
        }
      ]
    },
    {
      "metadata": {
        "trusted": true
      },
      "cell_type": "code",
      "source": "# package has additional special attribute called __path__  which points to the folder for the package which contains the modules\nurllib.__path__",
      "execution_count": 2,
      "outputs": [
        {
          "output_type": "execute_result",
          "execution_count": 2,
          "data": {
            "text/plain": "['/home/nbuser/anaconda3_420/lib/python3.5/urllib']"
          },
          "metadata": {}
        }
      ]
    },
    {
      "metadata": {},
      "cell_type": "markdown",
      "source": "https://www.programiz.com/python-programming/modules   \nhttps://data-flair.training/blogs/python-modules/  \nhttps://data-flair.training/blogs/python-packages/  \nhttps://data-flair.training/blogs/python-modules-vs-packages/  "
    },
    {
      "metadata": {},
      "cell_type": "markdown",
      "source": " **if `__name__` `==` \"`__main__`\"**"
    },
    {
      "metadata": {},
      "cell_type": "markdown",
      "source": "![Imgur](https://i.imgur.com/8qlV1GG.png)"
    },
    {
      "metadata": {},
      "cell_type": "markdown",
      "source": "\n```{py}\n# create one module area.py with following code\n\ndef calculate_area(base, height):\n    print(\"__name__:\", __name__)\n    return 1/2 * (base * height) \nif __name__ == \"__main__\":\n    print(\"I am in area.py\")\n    a = calculate_area(10,20)\n    print(\"area:\", a)\n\n```"
    },
    {
      "metadata": {},
      "cell_type": "markdown",
      "source": "```{py}\n# create one module caller.py with following code\nimport area\nprint(\"i am in caller.py\")\narea.calculate_area(5,10)\n```"
    },
    {
      "metadata": {},
      "cell_type": "markdown",
      "source": "```{py}\n# Run in console\nimport area\narea.calculate_area(10,20)\n__name__: area\nOut[24]: 100.0\nimport caller\ni am in caller.py\n__name__: area\n```"
    },
    {
      "metadata": {},
      "cell_type": "markdown",
      "source": "https://thepythonguru.com/what-is-if-__name__-__main__/  "
    },
    {
      "metadata": {},
      "cell_type": "markdown",
      "source": "## Standard libraries\n(built-in modules)"
    },
    {
      "metadata": {},
      "cell_type": "markdown",
      "source": "**List of Python Standard Libraries**  \nhttps://docs.python.org/3/library/  "
    },
    {
      "metadata": {
        "trusted": true
      },
      "cell_type": "markdown",
      "source": "**Some of the commonly used built-in/standard modules/libraries are:  **  \n* os\n* datetime\n* calendar\n* math\n* random\n* statistics\n* itertools\n* collections\n* warnings"
    },
    {
      "metadata": {},
      "cell_type": "markdown",
      "source": "### os module"
    },
    {
      "metadata": {
        "trusted": true
      },
      "cell_type": "code",
      "source": "import os",
      "execution_count": 1,
      "outputs": []
    },
    {
      "metadata": {
        "trusted": true
      },
      "cell_type": "code",
      "source": "#Returns the current working directory.\nos.getcwd()   ",
      "execution_count": 2,
      "outputs": [
        {
          "output_type": "execute_result",
          "execution_count": 2,
          "data": {
            "text/plain": "'/home/nbuser/library/04-ModulesPackages'"
          },
          "metadata": {}
        }
      ]
    },
    {
      "metadata": {
        "trusted": true
      },
      "cell_type": "code",
      "source": "# Change the current workiing directory to specified path.\nos.chdir(path) \n\n# Change the root directory of the current process to path.\nos.chroot(path)   \n\n# Return a list of the entries in the directory given by path.\nos.listdir(path) \n\n# Create a directory named path with numeric mode mode.\nos.mkdir(path)    \n\n# Recursive directory creation function.\nos.makedirs(path)  \n\n# Remove (delete) the file path.\nos.remove(path)    \n\n# Remove directories recursively.\nos.removedirs(path) \n\n# Rename the file or directory src to dst.\nos.rename(src, dst)  \n\n# Remove (delete) the directory path.\nos.rmdir(path)    ",
      "execution_count": null,
      "outputs": []
    },
    {
      "metadata": {},
      "cell_type": "markdown",
      "source": "https://stackabuse.com/introduction-to-python-os-module/"
    },
    {
      "metadata": {},
      "cell_type": "markdown",
      "source": "### datetime module"
    },
    {
      "metadata": {
        "scrolled": true,
        "trusted": false
      },
      "cell_type": "code",
      "source": "from datetime import date\nfrom datetime import time\nfrom datetime import datetime\n\ndef main():\n  ## DATE OBJECTS\n  # Get today's date from the simple today() method from the date class\n  today = date.today()\n  print (\"Today's date is \", today)\n  \n  # print out the date's individual components\n  print (\"Date Components: \", today.day, today.month, today.year)\n  \n  # retrieve today's weekday (0=Monday, 6=Sunday)\n  print (\"Today's Weekday #: \", today.weekday())\n  days = [\"monday\",\"tuesday\",\"wednesday\",\"thursday\",\"friday\",\"saturday\",\"sunday\"]\n  print (\"Which is a \" + days[today.weekday()])\n  \n  ## DATETIME OBJECTS\n  # Get today's date from the datetime class\n  today = datetime.now()\n  print  (\"The current date and time is \", today)\n  \n  # Get the current time\n  t = datetime.time(datetime.now())\n  print (\"The current time is \", t)\nif __name__ == \"__main__\":\n  main();",
      "execution_count": 1,
      "outputs": [
        {
          "name": "stdout",
          "output_type": "stream",
          "text": "Today's date is  2018-08-25\nDate Components:  25 8 2018\nToday's Weekday #:  5\nWhich is a saturday\nThe current date and time is  2018-08-25 10:53:30.072175\nThe current time is  10:53:30.072460\n"
        }
      ]
    },
    {
      "metadata": {},
      "cell_type": "markdown",
      "source": "**`time.sleep()`** : number of seconds you want the program to halt or to be suspended before it moves forward to the next step.  \nsyntax: `time.sleep(sec)` where `sec` is the argument that specifies the number of seconds the program is to be suspended for. "
    },
    {
      "metadata": {
        "scrolled": true,
        "trusted": true
      },
      "cell_type": "code",
      "source": "import time\nfor count in range(5):\n    print(time.ctime())\n    # Prints the current time with a five second difference\n    time.sleep(5)",
      "execution_count": 3,
      "outputs": [
        {
          "output_type": "stream",
          "text": "Tue Feb  5 16:54:42 2019\nTue Feb  5 16:54:47 2019\nTue Feb  5 16:54:52 2019\nTue Feb  5 16:54:57 2019\nTue Feb  5 16:55:02 2019\n",
          "name": "stdout"
        }
      ]
    },
    {
      "metadata": {},
      "cell_type": "markdown",
      "source": "**COMPLETE GUIDE TO DATE AND TIME FUNCTIONS**  \nhttps://www.listendata.com/2019/07/how-to-use-datetime-in-python.html  \n**timedelta object for time duration to estimate the time for both future and the past**  \nhttps://www.journaldev.com/23334/python-timedelta  "
    },
    {
      "metadata": {},
      "cell_type": "markdown",
      "source": "### calendar module"
    },
    {
      "metadata": {
        "trusted": true
      },
      "cell_type": "code",
      "source": "import calendar",
      "execution_count": 2,
      "outputs": []
    },
    {
      "metadata": {
        "trusted": true
      },
      "cell_type": "code",
      "source": "cal = calendar.month(2017, 3)\nprint(cal)",
      "execution_count": 2,
      "outputs": [
        {
          "output_type": "stream",
          "text": "     March 2017\nMo Tu We Th Fr Sa Su\n       1  2  3  4  5\n 6  7  8  9 10 11 12\n13 14 15 16 17 18 19\n20 21 22 23 24 25 26\n27 28 29 30 31\n\n",
          "name": "stdout"
        }
      ]
    },
    {
      "metadata": {
        "trusted": true
      },
      "cell_type": "code",
      "source": "calendar.isleap(2019)",
      "execution_count": 3,
      "outputs": [
        {
          "output_type": "execute_result",
          "execution_count": 3,
          "data": {
            "text/plain": "False"
          },
          "metadata": {}
        }
      ]
    },
    {
      "metadata": {
        "trusted": true
      },
      "cell_type": "code",
      "source": "calendar.isleap(2016)",
      "execution_count": 5,
      "outputs": [
        {
          "output_type": "execute_result",
          "execution_count": 5,
          "data": {
            "text/plain": "True"
          },
          "metadata": {}
        }
      ]
    },
    {
      "metadata": {
        "trusted": true
      },
      "cell_type": "code",
      "source": "print(calendar.weekheader(3))\nprint(calendar.weekheader(2))\nprint(calendar.weekheader(1))",
      "execution_count": 3,
      "outputs": [
        {
          "output_type": "stream",
          "text": "Mon Tue Wed Thu Fri Sat Sun\nMo Tu We Th Fr Sa Su\nM T W T F S S\n",
          "name": "stdout"
        }
      ]
    },
    {
      "metadata": {
        "trusted": true
      },
      "cell_type": "code",
      "source": "{v: k for k,v in enumerate(calendar.month_abbr)}",
      "execution_count": 4,
      "outputs": [
        {
          "output_type": "execute_result",
          "execution_count": 4,
          "data": {
            "text/plain": "{'': 0,\n 'Apr': 4,\n 'Aug': 8,\n 'Dec': 12,\n 'Feb': 2,\n 'Jan': 1,\n 'Jul': 7,\n 'Jun': 6,\n 'Mar': 3,\n 'May': 5,\n 'Nov': 11,\n 'Oct': 10,\n 'Sep': 9}"
          },
          "metadata": {}
        }
      ]
    },
    {
      "metadata": {
        "trusted": true
      },
      "cell_type": "code",
      "source": "{v: k for k,v in enumerate(calendar.month_name)}",
      "execution_count": 5,
      "outputs": [
        {
          "output_type": "execute_result",
          "execution_count": 5,
          "data": {
            "text/plain": "{'': 0,\n 'April': 4,\n 'August': 8,\n 'December': 12,\n 'February': 2,\n 'January': 1,\n 'July': 7,\n 'June': 6,\n 'March': 3,\n 'May': 5,\n 'November': 11,\n 'October': 10,\n 'September': 9}"
          },
          "metadata": {}
        }
      ]
    },
    {
      "metadata": {},
      "cell_type": "markdown",
      "source": "https://stackabuse.com/introduction-to-the-python-calendar-module/  \nhttps://www.guru99.com/calendar-in-python.html  "
    },
    {
      "metadata": {},
      "cell_type": "markdown",
      "source": "### math module"
    },
    {
      "metadata": {
        "trusted": false
      },
      "cell_type": "code",
      "source": "import math # to load/import library",
      "execution_count": null,
      "outputs": []
    },
    {
      "metadata": {
        "trusted": false
      },
      "cell_type": "code",
      "source": "print(math.pi)\nprint(math.e)\n\nprint(math.nan)\nprint(math.inf)\nprint(-math.inf)",
      "execution_count": null,
      "outputs": []
    },
    {
      "metadata": {
        "trusted": false
      },
      "cell_type": "code",
      "source": "# Trigonometry \nobst_direction = math.cos(math.pi/4)\nprint(obst_direction)\nprint(math.sin(math.pi/4))",
      "execution_count": null,
      "outputs": []
    },
    {
      "metadata": {
        "trusted": false
      },
      "cell_type": "code",
      "source": "# ceiling and floor\nprint(math.ceil(10.3))\nprint(math.floor(10.3))\nprint(math.ceil(10.985))\nprint(math.floor(10.985))",
      "execution_count": 4,
      "outputs": [
        {
          "name": "stdout",
          "output_type": "stream",
          "text": "11\n10\n11\n10\n"
        }
      ]
    },
    {
      "metadata": {
        "trusted": false
      },
      "cell_type": "code",
      "source": "# factorial and square root\nprint(math.factorial(5))\nprint(math.sqrt(81))",
      "execution_count": 5,
      "outputs": [
        {
          "name": "stdout",
          "output_type": "stream",
          "text": "120\n9.0\n"
        }
      ]
    },
    {
      "metadata": {
        "trusted": false
      },
      "cell_type": "code",
      "source": "# greatest common demominator (GCD) (both numbers are divisible by a greatest common number)\nprint(math.gcd(52, 8))\nprint(math.gcd(24, 8))\nprint(math.gcd(25, 8))",
      "execution_count": 8,
      "outputs": [
        {
          "name": "stdout",
          "output_type": "stream",
          "text": "4\n8\n1\n"
        }
      ]
    },
    {
      "metadata": {
        "trusted": false
      },
      "cell_type": "code",
      "source": "# degrees and radians\nprint(math.radians(360)) # to convert degrees to radians for circle\nprint(math.pi*2) # same\nprint(math.degrees(math.pi*2)) # #  convert radians to degrees",
      "execution_count": 11,
      "outputs": [
        {
          "name": "stdout",
          "output_type": "stream",
          "text": "6.283185307179586\n6.283185307179586\n360.0\n"
        }
      ]
    },
    {
      "metadata": {},
      "cell_type": "markdown",
      "source": "### random module"
    },
    {
      "metadata": {
        "run_control": {
          "marked": false
        },
        "trusted": false
      },
      "cell_type": "code",
      "source": "import random\n# random.seed(2) # to get same sample results for every random run\n\nprint(random.random())  # floating point number in the range [0.0, 1.0).\nprint(random.randrange(2)) \ndecider = random.randrange(2) \nif decider == 0:\n    print(\"Heads\")\nelse:\n    print(\"Tails\")\nprint(random.randrange(1,7)) # prints ranges from 1 to 6\n\n# random sample\nprint(random.sample(range(100), 5)) # to get 5 random sample numbers between 0 to 99\n\n# random choices\npossiblePets =  [\"cat\", \"dog\", \"fish\"]\nprint(random.choice(possiblePets))\n\n# shuffle \ncards = [\"Jack\", \"Queen\", \"King\", \"Aces\"]\nprint(random.shuffle(cards)) # it will shuffle the original cards object\nprint(cards)",
      "execution_count": 116,
      "outputs": [
        {
          "name": "stdout",
          "output_type": "stream",
          "text": "0.5171034866539107\n0\nTails\n4\n[7, 94, 17, 58, 85]\ncat\nNone\n['Jack', 'Aces', 'Queen', 'King']\n"
        }
      ]
    },
    {
      "metadata": {},
      "cell_type": "markdown",
      "source": "### statistics module"
    },
    {
      "metadata": {
        "scrolled": false,
        "trusted": false
      },
      "cell_type": "code",
      "source": "import statistics\nageData = [10, 13, 14, 12, 11, 10, 11, 10, 15]\n\n# mean, median and mode\nprint(statistics.mean(ageData))\nprint(statistics.mode(ageData))\nprint(statistics.median(ageData))\nprint(sorted(ageData)) # clearly see 11 is midpoint",
      "execution_count": 119,
      "outputs": [
        {
          "name": "stdout",
          "output_type": "stream",
          "text": "11.777777777777779\n10\n11\n[10, 10, 10, 11, 11, 12, 13, 14, 15]\n"
        }
      ]
    },
    {
      "metadata": {},
      "cell_type": "markdown",
      "source": "https://docs.python.org/3/library/statistics.html  "
    },
    {
      "metadata": {},
      "cell_type": "markdown",
      "source": "### itertools module\n* For infinite iteration"
    },
    {
      "metadata": {
        "scrolled": false,
        "trusted": false
      },
      "cell_type": "code",
      "source": "# Itertools\nimport itertools\n\n# infinite counting\nfor x in itertools.count(50):\n    print(x)\n    if x == 80:\n        break;\n\n# infinite cycling\nx = 0;\nfor c in itertools.cycle(\"RACECAR\"):\n    print(c)\n    x = x+1\n    if x > 50:\n        break\n        \nx = 0;\nfor c in itertools.cycle([1,2,3,4]):\n    print(c)\n    x = x+1\n    if x > 50:\n        break\n\n# infinite repeating\nx = 0;\nfor r in itertools.repeat(True):\n    print(r)\n    x = x+1\n    if x > 100:\n        break;\n    ",
      "execution_count": 126,
      "outputs": [
        {
          "name": "stdout",
          "output_type": "stream",
          "text": "50\n51\n52\n53\n54\n55\n56\n57\n58\n59\n60\n61\n62\n63\n64\n65\n66\n67\n68\n69\n70\n71\n72\n73\n74\n75\n76\n77\n78\n79\n80\nR\nA\nC\nE\nC\nA\nR\nR\nA\nC\nE\nC\nA\nR\nR\nA\nC\nE\nC\nA\nR\nR\nA\nC\nE\nC\nA\nR\nR\nA\nC\nE\nC\nA\nR\nR\nA\nC\nE\nC\nA\nR\nR\nA\nC\nE\nC\nA\nR\nR\nA\n1\n2\n3\n4\n1\n2\n3\n4\n1\n2\n3\n4\n1\n2\n3\n4\n1\n2\n3\n4\n1\n2\n3\n4\n1\n2\n3\n4\n1\n2\n3\n4\n1\n2\n3\n4\n1\n2\n3\n4\n1\n2\n3\n4\n1\n2\n3\n4\n1\n2\n3\nTrue\nTrue\nTrue\nTrue\nTrue\nTrue\nTrue\nTrue\nTrue\nTrue\nTrue\nTrue\nTrue\nTrue\nTrue\nTrue\nTrue\nTrue\nTrue\nTrue\nTrue\nTrue\nTrue\nTrue\nTrue\nTrue\nTrue\nTrue\nTrue\nTrue\nTrue\nTrue\nTrue\nTrue\nTrue\nTrue\nTrue\nTrue\nTrue\nTrue\nTrue\nTrue\nTrue\nTrue\nTrue\nTrue\nTrue\nTrue\nTrue\nTrue\n"
        }
      ]
    },
    {
      "metadata": {
        "scrolled": true,
        "trusted": false
      },
      "cell_type": "code",
      "source": "# Permutations(ordered or arranged): same items with different order(several possible variations)\nelections = {1: \"Barb\", 2: \"Karen\", 3: \"Erin\"}\nfor p in itertools.permutations(elections):\n    print(p)\n\n# with keys and items permutations\nfor p1 in itertools.permutations(elections.values()):\n    print(p1)\n    \n# Combinations: No set will have the same exact elements as another\n# combination of 2 from [work, eat, play] is (work, eat), (work, play), (eat, play)\n# order doesn't matter\n# you cannot have sperate combinations with the exact same items bcz they are the same combination.\ncolorForPainting = [\"Red\", \"Blue\", \"Purple\", \"Orange\", \"Yellow\", \"Pink\"]\n\nfor c in itertools.combinations(colorForPainting, 2):\n    print(c)\n\nfor c in itertools.combinations(colorForPainting, 3):\n    print(c)",
      "execution_count": 130,
      "outputs": [
        {
          "name": "stdout",
          "output_type": "stream",
          "text": "(1, 2, 3)\n(1, 3, 2)\n(2, 1, 3)\n(2, 3, 1)\n(3, 1, 2)\n(3, 2, 1)\n('Barb', 'Karen', 'Erin')\n('Barb', 'Erin', 'Karen')\n('Karen', 'Barb', 'Erin')\n('Karen', 'Erin', 'Barb')\n('Erin', 'Barb', 'Karen')\n('Erin', 'Karen', 'Barb')\n('Red', 'Blue')\n('Red', 'Purple')\n('Red', 'Orange')\n('Red', 'Yellow')\n('Red', 'Pink')\n('Blue', 'Purple')\n('Blue', 'Orange')\n('Blue', 'Yellow')\n('Blue', 'Pink')\n('Purple', 'Orange')\n('Purple', 'Yellow')\n('Purple', 'Pink')\n('Orange', 'Yellow')\n('Orange', 'Pink')\n('Yellow', 'Pink')\n('Red', 'Blue', 'Purple')\n('Red', 'Blue', 'Orange')\n('Red', 'Blue', 'Yellow')\n('Red', 'Blue', 'Pink')\n('Red', 'Purple', 'Orange')\n('Red', 'Purple', 'Yellow')\n('Red', 'Purple', 'Pink')\n('Red', 'Orange', 'Yellow')\n('Red', 'Orange', 'Pink')\n('Red', 'Yellow', 'Pink')\n('Blue', 'Purple', 'Orange')\n('Blue', 'Purple', 'Yellow')\n('Blue', 'Purple', 'Pink')\n('Blue', 'Orange', 'Yellow')\n('Blue', 'Orange', 'Pink')\n('Blue', 'Yellow', 'Pink')\n('Purple', 'Orange', 'Yellow')\n('Purple', 'Orange', 'Pink')\n('Purple', 'Yellow', 'Pink')\n('Orange', 'Yellow', 'Pink')\n"
        }
      ]
    },
    {
      "metadata": {},
      "cell_type": "markdown",
      "source": "### collections module"
    },
    {
      "metadata": {},
      "cell_type": "markdown",
      "source": "**Counter**"
    },
    {
      "metadata": {
        "trusted": true
      },
      "cell_type": "code",
      "source": "from collections import Counter",
      "execution_count": 2,
      "outputs": []
    },
    {
      "metadata": {
        "trusted": true
      },
      "cell_type": "code",
      "source": "l = [2,2,2,2,4,4,5,4,6,4,6,6,6,2,2,]\nCounter(l)",
      "execution_count": 3,
      "outputs": [
        {
          "output_type": "execute_result",
          "execution_count": 3,
          "data": {
            "text/plain": "Counter({2: 6, 4: 4, 5: 1, 6: 4})"
          },
          "metadata": {}
        }
      ]
    },
    {
      "metadata": {
        "trusted": true
      },
      "cell_type": "code",
      "source": "s = 'sdfffffdereeeeeddffffeeerrrr'\nCounter(s)",
      "execution_count": 4,
      "outputs": [
        {
          "output_type": "execute_result",
          "execution_count": 4,
          "data": {
            "text/plain": "Counter({'d': 4, 'e': 9, 'f': 9, 'r': 5, 's': 1})"
          },
          "metadata": {}
        }
      ]
    },
    {
      "metadata": {
        "trusted": true
      },
      "cell_type": "code",
      "source": "s = 'it may use a mapy different and parser and different and behave differently a'\nwords =s.split()\nCounter(words)",
      "execution_count": 7,
      "outputs": [
        {
          "output_type": "execute_result",
          "execution_count": 7,
          "data": {
            "text/plain": "Counter({'a': 2,\n         'and': 3,\n         'behave': 1,\n         'different': 2,\n         'differently': 1,\n         'it': 1,\n         'mapy': 1,\n         'may': 1,\n         'parser': 1,\n         'use': 1})"
          },
          "metadata": {}
        }
      ]
    },
    {
      "metadata": {
        "scrolled": true,
        "trusted": true
      },
      "cell_type": "code",
      "source": "c=Counter(words)\ndir(c)",
      "execution_count": null,
      "outputs": []
    },
    {
      "metadata": {
        "scrolled": false,
        "trusted": true
      },
      "cell_type": "code",
      "source": "c.most_common()",
      "execution_count": 9,
      "outputs": [
        {
          "output_type": "execute_result",
          "execution_count": 9,
          "data": {
            "text/plain": "[('and', 3),\n ('different', 2),\n ('a', 2),\n ('may', 1),\n ('parser', 1),\n ('it', 1),\n ('mapy', 1),\n ('differently', 1),\n ('use', 1),\n ('behave', 1)]"
          },
          "metadata": {}
        }
      ]
    },
    {
      "metadata": {
        "trusted": true
      },
      "cell_type": "code",
      "source": "sum(c.values())",
      "execution_count": 10,
      "outputs": [
        {
          "output_type": "execute_result",
          "execution_count": 10,
          "data": {
            "text/plain": "14"
          },
          "metadata": {}
        }
      ]
    },
    {
      "metadata": {},
      "cell_type": "markdown",
      "source": "**Deque**"
    },
    {
      "metadata": {},
      "cell_type": "markdown",
      "source": "* for quicker append and pop operations from both the ends of container \n* preferred over list\n* `appendleft()` :- This function is used to insert the value in its argument to the left end of deque.\n* `popleft()` :- This function is used to delete an argument from the left end of deque."
    },
    {
      "metadata": {
        "trusted": true
      },
      "cell_type": "code",
      "source": "import collections \n# initializing deque \nde = collections.deque([1,2,3]) \nprint(de)\nde.append(4) \nprint(de)  ",
      "execution_count": 1,
      "outputs": [
        {
          "output_type": "stream",
          "text": "deque([1, 2, 3])\ndeque([1, 2, 3, 4])\n",
          "name": "stdout"
        }
      ]
    },
    {
      "metadata": {
        "trusted": true
      },
      "cell_type": "code",
      "source": "de.appendleft(6) \nprint(de)",
      "execution_count": 2,
      "outputs": [
        {
          "output_type": "stream",
          "text": "deque([6, 1, 2, 3, 4])\n",
          "name": "stdout"
        }
      ]
    },
    {
      "metadata": {
        "trusted": true
      },
      "cell_type": "code",
      "source": "de.pop() \nprint(de)",
      "execution_count": 3,
      "outputs": [
        {
          "output_type": "stream",
          "text": "deque([6, 1, 2, 3])\n",
          "name": "stdout"
        }
      ]
    },
    {
      "metadata": {
        "trusted": true
      },
      "cell_type": "code",
      "source": "de.popleft()\nprint(de)",
      "execution_count": 4,
      "outputs": [
        {
          "output_type": "stream",
          "text": "deque([1, 2, 3])\n",
          "name": "stdout"
        }
      ]
    },
    {
      "metadata": {},
      "cell_type": "markdown",
      "source": "https://stackabuse.com/introduction-to-pythons-collections-module/"
    },
    {
      "metadata": {},
      "cell_type": "markdown",
      "source": "### re module\n(RegEx)  "
    },
    {
      "metadata": {},
      "cell_type": "markdown",
      "source": "**Processing free-text**"
    },
    {
      "metadata": {
        "scrolled": false,
        "trusted": true
      },
      "cell_type": "code",
      "source": "text5 = '\"Ethics are built right into the ideals and objectives of the United Nations\" \\\n#UNSG @ NY Society for Ethical Culture bit.ly/2guVelr'\ntext6 = text5.split(' ')\n\ntext6",
      "execution_count": 1,
      "outputs": [
        {
          "output_type": "execute_result",
          "execution_count": 1,
          "data": {
            "text/plain": "['\"Ethics',\n 'are',\n 'built',\n 'right',\n 'into',\n 'the',\n 'ideals',\n 'and',\n 'objectives',\n 'of',\n 'the',\n 'United',\n 'Nations\"',\n '#UNSG',\n '@',\n 'NY',\n 'Society',\n 'for',\n 'Ethical',\n 'Culture',\n 'bit.ly/2guVelr']"
          },
          "metadata": {}
        }
      ]
    },
    {
      "metadata": {
        "trusted": true
      },
      "cell_type": "code",
      "source": "# Finding hastags:\n[w for w in text6 if w.startswith('#')]",
      "execution_count": 2,
      "outputs": [
        {
          "output_type": "execute_result",
          "execution_count": 2,
          "data": {
            "text/plain": "['#UNSG']"
          },
          "metadata": {}
        }
      ]
    },
    {
      "metadata": {
        "trusted": true
      },
      "cell_type": "code",
      "source": "# Finding callouts:\n[w for w in text6 if w.startswith('@')]",
      "execution_count": 3,
      "outputs": [
        {
          "output_type": "execute_result",
          "execution_count": 3,
          "data": {
            "text/plain": "['@']"
          },
          "metadata": {}
        }
      ]
    },
    {
      "metadata": {
        "trusted": true
      },
      "cell_type": "code",
      "source": "text7 = '@UN @UN_Women \"Ethics are built right into the ideals and objectives of the United Nations\" \\\n#UNSG @ NY Society for Ethical Culture bit.ly/2guVelr'\ntext8 = text7.split(' ')",
      "execution_count": 4,
      "outputs": []
    },
    {
      "metadata": {},
      "cell_type": "markdown",
      "source": "<br>\n\nWe can use regular expressions to help us with more complex parsing. \n\nFor example `'@[A-Za-z0-9_]+'` will return all words that: \n* start with `'@'` and are followed by at least one: \n* capital letter (`'A-Z'`)\n* lowercase letter (`'a-z'`) \n* number (`'0-9'`)\n* or underscore (`'_'`)"
    },
    {
      "metadata": {
        "trusted": true
      },
      "cell_type": "code",
      "source": "import re # import re - a module that provides support for regular expressions\n\n[w for w in text8 if re.search('@[A-Za-z0-9_]+', w)]\n# the pattern is @ and then capital letters or small letters and number and underscore occurring one, or more times.",
      "execution_count": 5,
      "outputs": [
        {
          "output_type": "execute_result",
          "execution_count": 5,
          "data": {
            "text/plain": "['@UN', '@UN_Women']"
          },
          "metadata": {}
        }
      ]
    },
    {
      "metadata": {},
      "cell_type": "markdown",
      "source": "https://www.programiz.com/python-programming/regex  "
    },
    {
      "metadata": {},
      "cell_type": "markdown",
      "source": "### warnings module"
    },
    {
      "metadata": {},
      "cell_type": "markdown",
      "source": "* To ignore warnings"
    },
    {
      "metadata": {
        "trusted": true
      },
      "cell_type": "code",
      "source": "import seaborn as sns",
      "execution_count": null,
      "outputs": []
    },
    {
      "metadata": {
        "scrolled": true,
        "trusted": true
      },
      "cell_type": "code",
      "source": "sns.get_dataset_names() # below we got some warnings",
      "execution_count": null,
      "outputs": []
    },
    {
      "metadata": {
        "trusted": true
      },
      "cell_type": "code",
      "source": "import warnings\nwarnings.filterwarnings('ignore') ",
      "execution_count": 5,
      "outputs": []
    },
    {
      "metadata": {
        "scrolled": false,
        "trusted": true
      },
      "cell_type": "code",
      "source": "sns.get_dataset_names() # with same command get rid of warnings after importing warnings module",
      "execution_count": 6,
      "outputs": [
        {
          "output_type": "execute_result",
          "execution_count": 6,
          "data": {
            "text/plain": "['anscombe',\n 'attention',\n 'brain_networks',\n 'car_crashes',\n 'diamonds',\n 'dots',\n 'exercise',\n 'flights',\n 'fmri',\n 'gammas',\n 'iris',\n 'mpg',\n 'planets',\n 'tips',\n 'titanic']"
          },
          "metadata": {}
        }
      ]
    },
    {
      "metadata": {},
      "cell_type": "markdown",
      "source": "**list of all python standard libraries(modules)**  \nhttps://docs.python.org/3/py-modindex.html"
    },
    {
      "metadata": {},
      "cell_type": "markdown",
      "source": "**Source code of the modules**"
    },
    {
      "metadata": {},
      "cell_type": "markdown",
      "source": "* **Modules which are implemented in C:** https://hg.python.org/cpython/file/tip/Modules\n* **Modules which are implemented in pure python:** https://hg.python.org/cpython/file/tip/Lib"
    },
    {
      "metadata": {},
      "cell_type": "markdown",
      "source": "**To know more about cpython **"
    },
    {
      "metadata": {},
      "cell_type": "markdown",
      "source": "https://en.wikipedia.org/wiki/CPython  \nhttps://github.com/python/cpython  "
    },
    {
      "metadata": {},
      "cell_type": "markdown",
      "source": "## External Packages/libraries"
    },
    {
      "metadata": {},
      "cell_type": "markdown",
      "source": "** Numpy, Pandas, matplotlib, sklearn, ....etc **"
    },
    {
      "metadata": {},
      "cell_type": "markdown",
      "source": "* we need to download & install from internet before importing this modules into environment\n* some data science libraries already installed with Anaconda distribution (so no need to install again we can directly load/import them)"
    },
    {
      "metadata": {},
      "cell_type": "markdown",
      "source": "**How to install libraris?**"
    },
    {
      "metadata": {},
      "cell_type": "markdown",
      "source": "`pip install <library name>`  \nOR  \n`conda install <library name>`  "
    },
    {
      "metadata": {},
      "cell_type": "markdown",
      "source": "**to uninstall**  \n`pip uninstall <library name>`"
    },
    {
      "metadata": {},
      "cell_type": "markdown",
      "source": "\n"
    }
  ],
  "metadata": {
    "kernelspec": {
      "name": "python36",
      "display_name": "Python 3.6",
      "language": "python"
    },
    "language_info": {
      "mimetype": "text/x-python",
      "nbconvert_exporter": "python",
      "name": "python",
      "pygments_lexer": "ipython3",
      "version": "3.6.6",
      "file_extension": ".py",
      "codemirror_mode": {
        "version": 3,
        "name": "ipython"
      }
    },
    "toc": {
      "nav_menu": {},
      "number_sections": true,
      "sideBar": true,
      "skip_h1_title": true,
      "base_numbering": 1,
      "title_cell": "Table of Contents",
      "title_sidebar": "Contents",
      "toc_cell": true,
      "toc_position": {},
      "toc_section_display": true,
      "toc_window_display": false
    }
  },
  "nbformat": 4,
  "nbformat_minor": 2
}