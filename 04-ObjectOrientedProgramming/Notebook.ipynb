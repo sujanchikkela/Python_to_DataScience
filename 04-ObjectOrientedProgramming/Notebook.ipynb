{
  "cells": [
    {
      "metadata": {},
      "cell_type": "markdown",
      "source": "## Classes and Methods"
    },
    {
      "metadata": {},
      "cell_type": "markdown",
      "source": "Generally almost all the code is implemented using a special construct called classes. Programmers use classes to keep related things together. This is done using the keyword “class,” which is a grouping of object-oriented constructs.  \n\n* Define what is a class\n* Describe how to create a class\n* Define what is a method\n* Describe how to do object instantiation\n* Describe how to create instance attributes in Python"
    },
    {
      "metadata": {},
      "cell_type": "markdown",
      "source": "### What is a class?"
    },
    {
      "metadata": {},
      "cell_type": "markdown",
      "source": "A class is a code template for creating objects. Objects have member variables and have behaviour associated with them. In python a class is created by the keyword class.\n\nAn object is created using the constructor of the class. This object will then be called the instance of the class. In Python we create instances in the following manner\n\n`Instance = class(arguments)`"
    },
    {
      "metadata": {},
      "cell_type": "markdown",
      "source": "### How to create a class"
    },
    {
      "metadata": {
        "trusted": false
      },
      "cell_type": "code",
      "source": "# The simplest class can be created using the class keyword. For example, let's create a simple, empty class with no functionalities.\n\nclass Snake:   # creatinig/defiining a class\n    pass\n\nsnake = Snake() # object instantiation\nprint(snake)\n# <__main__.Snake object at 0x7f315c573550>",
      "execution_count": 2,
      "outputs": [
        {
          "name": "stdout",
          "output_type": "stream",
          "text": "<__main__.Snake object at 0x0000000005DDE9E8>\n"
        }
      ]
    },
    {
      "metadata": {},
      "cell_type": "markdown",
      "source": "### Attributes and Methods in class:"
    },
    {
      "metadata": {},
      "cell_type": "markdown",
      "source": "A class by itself is of no use unless there is some functionality associated with it. Functionalities are defined by setting attributes, which act as containers for data and functions related to those attributes. Those functions are called methods."
    },
    {
      "metadata": {},
      "cell_type": "markdown",
      "source": "**Attributes:**  \nYou can define the following class with the name Snake. This class will have an attribute name."
    },
    {
      "metadata": {
        "trusted": false
      },
      "cell_type": "code",
      "source": "class Snake:\n    name = \"python\" # set an attribute `name` of the class\n\n\"\"\"\nYou can assign the class to a variable. This is called object instantiation. You will then be able to access \nthe attributes that are present inside the class using the dot . operator. \nFor example, in the Snake example, you can access the attribute name of the class Snake.\n\"\"\"\n\n# instantiate the class Snake and assign it to variable snake\nsnake = Snake()\n\n# access the class attribute name inside the class Snake.\nprint(snake.name)\n",
      "execution_count": 4,
      "outputs": [
        {
          "name": "stdout",
          "output_type": "stream",
          "text": "python\n"
        }
      ]
    },
    {
      "metadata": {},
      "cell_type": "markdown",
      "source": "**Methods**  \nOnce there are attributes that “belong” to the class, you can define functions that will access the class attribute. These functions are called methods. When you define methods, you will need to always provide the first argument to the method with a self keyword.\n  \nFor example, you can define a class Snake, which has one attribute name and one method change_name. The method change name will take in an argument new_name along with the keyword self."
    },
    {
      "metadata": {
        "trusted": true
      },
      "cell_type": "code",
      "source": "class Snake:\n    name = \"python\"\n    def change_name(self, new_name): # note that the first argument is self\n        self.name = new_name # access the class attribute with the self keyword\n\n# Now, you can instantiate this class Snake with a variable snake and then change the name with the method change_name.",
      "execution_count": 1,
      "outputs": []
    },
    {
      "metadata": {
        "trusted": false
      },
      "cell_type": "code",
      "source": "# instantiate the class\nsnake = Snake()\n\n# print the current object name \nprint(snake.name)\n\n\n# change the name using the change_name method\nsnake.change_name(\"anaconda\")\nprint(snake.name)",
      "execution_count": 12,
      "outputs": [
        {
          "name": "stdout",
          "output_type": "stream",
          "text": "python\nanaconda\n"
        }
      ]
    },
    {
      "metadata": {},
      "cell_type": "markdown",
      "source": "**Instance attributes in python and the init method**   \nYou can also provide the values for the attributes at runtime. This is done by defining the attributes inside the init method. The following example illustrates this."
    },
    {
      "metadata": {
        "scrolled": true,
        "trusted": false
      },
      "cell_type": "code",
      "source": "class Snake:\n    def __init__(self, name):\n        self.name = name\n\n    def change_name(self, new_name):\n        self.name = new_name\n\n#Now you can directly define separate attribute values for separate objects. For example,\n\n# two variables are instantiated\npython = Snake(\"python\")\nanaconda = Snake(\"anaconda\")\n\n# print the names of the two variables\nprint(python.name)\n\nprint(anaconda.name)",
      "execution_count": 13,
      "outputs": [
        {
          "name": "stdout",
          "output_type": "stream",
          "text": "python\nanaconda\n"
        }
      ]
    },
    {
      "metadata": {},
      "cell_type": "markdown",
      "source": "**DO YOU NEED TO LEARN OOPs FOR A JOB IN DATA ANALYTICS?**  \nhttps://analyticsindiamag.com/do-you-need-to-learn-oop-for-a-job-in-data-analytics/  "
    },
    {
      "metadata": {},
      "cell_type": "markdown",
      "source": "<span style=\"color:red; font-family:brandon\">follow along</span>  \nhttps://stackabuse.com/object-oriented-programming-in-python/  \nhttps://towardsdatascience.com/explain-python-classes-and-objects-to-my-nephew-advanced-use-ca108c1856cd  "
    },
    {
      "metadata": {},
      "cell_type": "markdown",
      "source": "<span style=\"color:red; font-family:brandon\">Classes inside Modules </span>  \nhttps://en.wikibooks.org/wiki/A_Beginner%27s_Python_Tutorial/Importing_Modules"
    },
    {
      "metadata": {},
      "cell_type": "markdown",
      "source": "<span style=\"color:red; font-family:brandon\">Further  Resources</span>  \n<a href=\"https://www.programiz.com/python-programming/object-oriented-programming\" target=\"_blank\">https://www.programiz.com/python-programming/object-oriented-programming</a>  \n<a href=\"https://realpython.com/python3-object-oriented-programming/\" target=\"_blank\">https://realpython.com/python3-object-oriented-programming/</a>  "
    },
    {
      "metadata": {},
      "cell_type": "markdown",
      "source": "<span style=\"color:red; font-family:Comic Sans MS\">**Sources & References** </span>     \n<a href=\"https://www.hackerearth.com/practice/python/object-oriented-programming/classes-and-objects-i/tutorial/\" target=\"_blank\">https://www.hackerearth.com/practice/python/object-oriented-programming/classes-and-objects-i/tutorial/</a>  \n"
    }
  ],
  "metadata": {
    "kernelspec": {
      "name": "python36",
      "display_name": "Python 3.6",
      "language": "python"
    },
    "language_info": {
      "mimetype": "text/x-python",
      "nbconvert_exporter": "python",
      "name": "python",
      "pygments_lexer": "ipython3",
      "version": "3.6.6",
      "file_extension": ".py",
      "codemirror_mode": {
        "version": 3,
        "name": "ipython"
      }
    },
    "toc": {
      "nav_menu": {},
      "number_sections": true,
      "sideBar": true,
      "skip_h1_title": false,
      "base_numbering": 1,
      "title_cell": "Table of Contents",
      "title_sidebar": "Contents",
      "toc_cell": false,
      "toc_position": {},
      "toc_section_display": true,
      "toc_window_display": false
    }
  },
  "nbformat": 4,
  "nbformat_minor": 2
}