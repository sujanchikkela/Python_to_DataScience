{
  "cells": [
    {
      "metadata": {
        "toc": true
      },
      "cell_type": "markdown",
      "source": "<h1>Table of Contents<span class=\"tocSkip\"></span></h1>\n<div class=\"toc\"><ul class=\"toc-item\"><li><span><a href=\"#Basics\" data-toc-modified-id=\"Basics-1\"><span class=\"toc-item-num\">1&nbsp;&nbsp;</span>Basics</a></span><ul class=\"toc-item\"><li><span><a href=\"#print()-function:\" data-toc-modified-id=\"print()-function:-1.1\"><span class=\"toc-item-num\">1.1&nbsp;&nbsp;</span><code>print()</code> function:</a></span></li><li><span><a href=\"#comment-with-#-symbol:\" data-toc-modified-id=\"comment-with-#-symbol:-1.2\"><span class=\"toc-item-num\">1.2&nbsp;&nbsp;</span>comment with <code>#</code> symbol:</a></span></li></ul></li><li><span><a href=\"#Operators\" data-toc-modified-id=\"Operators-2\"><span class=\"toc-item-num\">2&nbsp;&nbsp;</span>Operators</a></span></li><li><span><a href=\"#Primitive-Data-Types\" data-toc-modified-id=\"Primitive-Data-Types-3\"><span class=\"toc-item-num\">3&nbsp;&nbsp;</span>Primitive Data Types</a></span><ul class=\"toc-item\"><li><span><a href=\"#Booleans\" data-toc-modified-id=\"Booleans-3.1\"><span class=\"toc-item-num\">3.1&nbsp;&nbsp;</span>Booleans</a></span></li><li><span><a href=\"#Numbers\" data-toc-modified-id=\"Numbers-3.2\"><span class=\"toc-item-num\">3.2&nbsp;&nbsp;</span>Numbers</a></span><ul class=\"toc-item\"><li><span><a href=\"#integer\" data-toc-modified-id=\"integer-3.2.1\"><span class=\"toc-item-num\">3.2.1&nbsp;&nbsp;</span>integer</a></span></li><li><span><a href=\"#float\" data-toc-modified-id=\"float-3.2.2\"><span class=\"toc-item-num\">3.2.2&nbsp;&nbsp;</span>float</a></span></li><li><span><a href=\"#complex\" data-toc-modified-id=\"complex-3.2.3\"><span class=\"toc-item-num\">3.2.3&nbsp;&nbsp;</span>complex</a></span></li></ul></li><li><span><a href=\"#Strings\" data-toc-modified-id=\"Strings-3.3\"><span class=\"toc-item-num\">3.3&nbsp;&nbsp;</span>Strings</a></span></li><li><span><a href=\"#Date-and-Time\" data-toc-modified-id=\"Date-and-Time-3.4\"><span class=\"toc-item-num\">3.4&nbsp;&nbsp;</span>Date and Time</a></span></li></ul></li><li><span><a href=\"#Data-Structures\" data-toc-modified-id=\"Data-Structures-4\"><span class=\"toc-item-num\">4&nbsp;&nbsp;</span>Data Structures</a></span><ul class=\"toc-item\"><li><span><a href=\"#Composite-Data-Types\" data-toc-modified-id=\"Composite-Data-Types-4.1\"><span class=\"toc-item-num\">4.1&nbsp;&nbsp;</span>Composite Data Types</a></span><ul class=\"toc-item\"><li><span><a href=\"#Lists\" data-toc-modified-id=\"Lists-4.1.1\"><span class=\"toc-item-num\">4.1.1&nbsp;&nbsp;</span>Lists</a></span></li><li><span><a href=\"#Tuples\" data-toc-modified-id=\"Tuples-4.1.2\"><span class=\"toc-item-num\">4.1.2&nbsp;&nbsp;</span>Tuples</a></span></li></ul></li><li><span><a href=\"#Collection-data-types\" data-toc-modified-id=\"Collection-data-types-4.2\"><span class=\"toc-item-num\">4.2&nbsp;&nbsp;</span>Collection data types</a></span><ul class=\"toc-item\"><li><span><a href=\"#Dictionaries\" data-toc-modified-id=\"Dictionaries-4.2.1\"><span class=\"toc-item-num\">4.2.1&nbsp;&nbsp;</span>Dictionaries</a></span></li><li><span><a href=\"#Sets\" data-toc-modified-id=\"Sets-4.2.2\"><span class=\"toc-item-num\">4.2.2&nbsp;&nbsp;</span>Sets</a></span></li></ul></li></ul></li><li><span><a href=\"#Data-types-Tree\" data-toc-modified-id=\"Data-types-Tree-5\"><span class=\"toc-item-num\">5&nbsp;&nbsp;</span>Data types Tree</a></span></li><li><span><a href=\"#Queues(FIFO)-and-Stacks(LIFO)\" data-toc-modified-id=\"Queues(FIFO)-and-Stacks(LIFO)-6\"><span class=\"toc-item-num\">6&nbsp;&nbsp;</span>Queues(FIFO) and Stacks(LIFO)</a></span></li><li><span><a href=\"#Type-conversion\" data-toc-modified-id=\"Type-conversion-7\"><span class=\"toc-item-num\">7&nbsp;&nbsp;</span>Type conversion</a></span><ul class=\"toc-item\"><li><span><a href=\"#Implicit-type-conversion\" data-toc-modified-id=\"Implicit-type-conversion-7.1\"><span class=\"toc-item-num\">7.1&nbsp;&nbsp;</span>Implicit type conversion</a></span></li><li><span><a href=\"#Explicit-type-conversion\" data-toc-modified-id=\"Explicit-type-conversion-7.2\"><span class=\"toc-item-num\">7.2&nbsp;&nbsp;</span>Explicit type conversion</a></span></li></ul></li></ul></div>"
    },
    {
      "metadata": {},
      "cell_type": "markdown",
      "source": "## Basics"
    },
    {
      "metadata": {},
      "cell_type": "markdown",
      "source": "### `print()` function:"
    },
    {
      "metadata": {
        "trusted": true
      },
      "cell_type": "code",
      "source": "print('hello world')",
      "execution_count": 1,
      "outputs": [
        {
          "output_type": "stream",
          "text": "hello world\n",
          "name": "stdout"
        }
      ]
    },
    {
      "metadata": {
        "trusted": true
      },
      "cell_type": "code",
      "source": "print(\"hello\", 'world')",
      "execution_count": 2,
      "outputs": [
        {
          "output_type": "stream",
          "text": "hello world\n",
          "name": "stdout"
        }
      ]
    },
    {
      "metadata": {
        "trusted": true
      },
      "cell_type": "code",
      "source": "print(\"hello world\" + \"!\")",
      "execution_count": 4,
      "outputs": [
        {
          "output_type": "stream",
          "text": "hello world!\n",
          "name": "stdout"
        }
      ]
    },
    {
      "metadata": {
        "trusted": true
      },
      "cell_type": "code",
      "source": "print(\"welcome\", \"to\", \"python\", sep=\"_\", end=\";\")",
      "execution_count": 6,
      "outputs": [
        {
          "output_type": "stream",
          "text": "welcome_to_python;",
          "name": "stdout"
        }
      ]
    },
    {
      "metadata": {
        "trusted": true
      },
      "cell_type": "code",
      "source": "print(\"welcome\", \"to\", \"python\", sep=\"_\", end=\";\")\nprint(\"data science\")",
      "execution_count": 8,
      "outputs": [
        {
          "output_type": "stream",
          "text": "welcome_to_python;data science\n",
          "name": "stdout"
        }
      ]
    },
    {
      "metadata": {
        "trusted": true
      },
      "cell_type": "code",
      "source": "print(\"welcome\", \"to\", \"python\", sep=\"_\", end=\"\\n\") # end with new line(by default)\nprint(\"data science\")",
      "execution_count": 10,
      "outputs": [
        {
          "output_type": "stream",
          "text": "welcome_to_python\ndata science\n",
          "name": "stdout"
        }
      ]
    },
    {
      "metadata": {},
      "cell_type": "markdown",
      "source": "### comment with `#` symbol: "
    },
    {
      "metadata": {
        "trusted": true
      },
      "cell_type": "code",
      "source": "# this statement will print the statement inside in it\nprint(\"welcome to data science\")",
      "execution_count": 7,
      "outputs": [
        {
          "output_type": "stream",
          "text": "welcome to data science\n",
          "name": "stdout"
        }
      ]
    },
    {
      "metadata": {},
      "cell_type": "markdown",
      "source": "Python has many native datatypes. Here are the important ones:\n\n* Booleans are either True or False.\n* Numbers can be integers (1 and 2), floats (1.1 and 1.2), fractions (1/2 and 2/3), or even complex numbers.\n* Strings are sequences of Unicode characters, e.g. an html document.\n* Lists are ordered sequences of values.\n* Dictionaries are unordered bags of key-value pairs.\n* Tuples are ordered, sequences of values and immutable (cannot be modified inplace)\n* Sets are unordered bags of values."
    },
    {
      "metadata": {},
      "cell_type": "markdown",
      "source": "## Operators"
    },
    {
      "metadata": {},
      "cell_type": "markdown",
      "source": "| Operators (Decreasing order of precedence) | Operators (Decreasing order of precedence)        |\n|--------------------------------------------|---------------------------------------------------|\n| `**`                                       | Exponent                                          |\n| `+, -, *, /, //, %`                        | Addition, Subtraction, Multiplication, Division, Floor division, Modulus |\n| `< > <= >= == !=`                          | Comparison operators                              |\n| `= %= /= //= -= += *= **=`                 | Assignment Operators                              |\n| `is is not`                                | Identity operators                                |\n| `in not in`                                | Membership operators                              |\n| `not or and`                               | Logical operators                                 |\n\n<span style=\"color:red; font-family:centurygothic \">Continue...</span><a href=\"https://www.guru99.com/python-operators-complete-tutorial.html\" target=\"_blank\">https://www.guru99.com/python-operators-complete-tutorial.html</a>  "
    },
    {
      "metadata": {},
      "cell_type": "markdown",
      "source": "## Primitive Data Types"
    },
    {
      "metadata": {},
      "cell_type": "markdown",
      "source": "### Booleans"
    },
    {
      "metadata": {
        "trusted": true
      },
      "cell_type": "code",
      "source": "t = True",
      "execution_count": 1,
      "outputs": []
    },
    {
      "metadata": {
        "trusted": true
      },
      "cell_type": "code",
      "source": "type(t)",
      "execution_count": 2,
      "outputs": [
        {
          "output_type": "execute_result",
          "execution_count": 2,
          "data": {
            "text/plain": "bool"
          },
          "metadata": {}
        }
      ]
    },
    {
      "metadata": {
        "trusted": false
      },
      "cell_type": "code",
      "source": "False",
      "execution_count": 32,
      "outputs": [
        {
          "execution_count": 32,
          "output_type": "execute_result",
          "data": {
            "text/plain": "False"
          },
          "metadata": {}
        }
      ]
    },
    {
      "metadata": {},
      "cell_type": "markdown",
      "source": "### Numbers"
    },
    {
      "metadata": {},
      "cell_type": "markdown",
      "source": "#### integer"
    },
    {
      "metadata": {
        "trusted": true
      },
      "cell_type": "code",
      "source": "i = 4 \ntype(i)",
      "execution_count": 3,
      "outputs": [
        {
          "output_type": "execute_result",
          "execution_count": 3,
          "data": {
            "text/plain": "int"
          },
          "metadata": {}
        }
      ]
    },
    {
      "metadata": {},
      "cell_type": "markdown",
      "source": "#### float"
    },
    {
      "metadata": {
        "trusted": true
      },
      "cell_type": "code",
      "source": "f = 3.45 \ntype(f)",
      "execution_count": 4,
      "outputs": [
        {
          "output_type": "execute_result",
          "execution_count": 4,
          "data": {
            "text/plain": "float"
          },
          "metadata": {}
        }
      ]
    },
    {
      "metadata": {},
      "cell_type": "markdown",
      "source": "#### complex"
    },
    {
      "metadata": {
        "trusted": true
      },
      "cell_type": "code",
      "source": "cmp = 3+4j\ntype(cmp)",
      "execution_count": 5,
      "outputs": [
        {
          "output_type": "execute_result",
          "execution_count": 5,
          "data": {
            "text/plain": "complex"
          },
          "metadata": {}
        }
      ]
    },
    {
      "metadata": {
        "trusted": true
      },
      "cell_type": "code",
      "source": "cmp.real",
      "execution_count": 6,
      "outputs": [
        {
          "output_type": "execute_result",
          "execution_count": 6,
          "data": {
            "text/plain": "3.0"
          },
          "metadata": {}
        }
      ]
    },
    {
      "metadata": {
        "trusted": true
      },
      "cell_type": "code",
      "source": "cmp.imag",
      "execution_count": 7,
      "outputs": [
        {
          "output_type": "execute_result",
          "execution_count": 7,
          "data": {
            "text/plain": "4.0"
          },
          "metadata": {}
        }
      ]
    },
    {
      "metadata": {
        "trusted": false
      },
      "cell_type": "code",
      "source": "1 + 1",
      "execution_count": 33,
      "outputs": [
        {
          "execution_count": 33,
          "output_type": "execute_result",
          "data": {
            "text/plain": "2"
          },
          "metadata": {}
        }
      ]
    },
    {
      "metadata": {
        "trusted": false
      },
      "cell_type": "code",
      "source": "1 * 3",
      "execution_count": 34,
      "outputs": [
        {
          "execution_count": 34,
          "output_type": "execute_result",
          "data": {
            "text/plain": "3"
          },
          "metadata": {}
        }
      ]
    },
    {
      "metadata": {
        "trusted": false
      },
      "cell_type": "code",
      "source": "1 / 2",
      "execution_count": 35,
      "outputs": [
        {
          "execution_count": 35,
          "output_type": "execute_result",
          "data": {
            "text/plain": "0.5"
          },
          "metadata": {}
        }
      ]
    },
    {
      "metadata": {
        "trusted": true
      },
      "cell_type": "code",
      "source": "print(7+8)\nprint(4*6)\n2 ** 4",
      "execution_count": 5,
      "outputs": [
        {
          "output_type": "stream",
          "text": "15\n24\n",
          "name": "stdout"
        },
        {
          "output_type": "execute_result",
          "execution_count": 5,
          "data": {
            "text/plain": "16"
          },
          "metadata": {}
        }
      ]
    },
    {
      "metadata": {
        "trusted": true
      },
      "cell_type": "code",
      "source": "4 % 2",
      "execution_count": 6,
      "outputs": [
        {
          "output_type": "execute_result",
          "execution_count": 6,
          "data": {
            "text/plain": "0"
          },
          "metadata": {}
        }
      ]
    },
    {
      "metadata": {
        "trusted": false
      },
      "cell_type": "code",
      "source": "5 % 2",
      "execution_count": 38,
      "outputs": [
        {
          "execution_count": 38,
          "output_type": "execute_result",
          "data": {
            "text/plain": "1"
          },
          "metadata": {}
        }
      ]
    },
    {
      "metadata": {
        "scrolled": false,
        "trusted": true
      },
      "cell_type": "code",
      "source": "(2 + 3) * (5 + 5)",
      "execution_count": 7,
      "outputs": [
        {
          "output_type": "execute_result",
          "execution_count": 7,
          "data": {
            "text/plain": "50"
          },
          "metadata": {}
        }
      ]
    },
    {
      "metadata": {},
      "cell_type": "markdown",
      "source": "**Number Calculations**  \n(Operator Precedence)  \n\n* PEMDAS(parenthesis, exponents, multiplication, division, addition, subtraction)"
    },
    {
      "metadata": {
        "trusted": true
      },
      "cell_type": "code",
      "source": "3+3/3",
      "execution_count": 1,
      "outputs": [
        {
          "output_type": "execute_result",
          "execution_count": 1,
          "data": {
            "text/plain": "4.0"
          },
          "metadata": {}
        }
      ]
    },
    {
      "metadata": {
        "scrolled": true,
        "trusted": true
      },
      "cell_type": "code",
      "source": "(3+3)/3",
      "execution_count": 2,
      "outputs": [
        {
          "output_type": "execute_result",
          "execution_count": 2,
          "data": {
            "text/plain": "2.0"
          },
          "metadata": {}
        }
      ]
    },
    {
      "metadata": {
        "trusted": true
      },
      "cell_type": "code",
      "source": "((((13+5)*2)-4)/2)-13\n# How did that happen? Let’s work it out.\n# 13+5 gives us 18\n# 18*2 gives us 36\n# 36-4 gives us 32\n# 32/2 gives us 16.0 #Note that division gives us floats!\n# 16-13 gives us 3.0",
      "execution_count": 3,
      "outputs": [
        {
          "output_type": "execute_result",
          "execution_count": 3,
          "data": {
            "text/plain": "3.0"
          },
          "metadata": {}
        }
      ]
    },
    {
      "metadata": {},
      "cell_type": "markdown",
      "source": "https://data-flair.training/blogs/python-operator-precedence/"
    },
    {
      "metadata": {},
      "cell_type": "markdown",
      "source": "### Strings"
    },
    {
      "metadata": {},
      "cell_type": "markdown",
      "source": "* string is a ordered sequence of characters. \n* A string is contained within two quotes or single quotes. \n* A string can be spaces or digits. \n* A string can also be special characters. \n* Positive / Negative indexing applicable\n* Strings are immutable(we cannot change inplace but we can create another string from it)"
    },
    {
      "metadata": {
        "trusted": true
      },
      "cell_type": "code",
      "source": "st = 'data science and machine learning with python'",
      "execution_count": 2,
      "outputs": []
    },
    {
      "metadata": {
        "trusted": true
      },
      "cell_type": "code",
      "source": "type(st)",
      "execution_count": 2,
      "outputs": [
        {
          "output_type": "execute_result",
          "execution_count": 2,
          "data": {
            "text/plain": "str"
          },
          "metadata": {}
        }
      ]
    },
    {
      "metadata": {},
      "cell_type": "markdown",
      "source": "**Indexing:**"
    },
    {
      "metadata": {
        "trusted": true
      },
      "cell_type": "code",
      "source": "# positive indexing\nprint(st[0])\nprint(st[1])\nprint(st[2])",
      "execution_count": 3,
      "outputs": [
        {
          "output_type": "stream",
          "text": "d\na\nt\n",
          "name": "stdout"
        }
      ]
    },
    {
      "metadata": {
        "trusted": true
      },
      "cell_type": "code",
      "source": "# negative indexing\nprint(st[-1])\nprint(st[-2])\nprint(st[-3])",
      "execution_count": 4,
      "outputs": [
        {
          "output_type": "stream",
          "text": "n\no\nh\n",
          "name": "stdout"
        }
      ]
    },
    {
      "metadata": {},
      "cell_type": "markdown",
      "source": "**Slicing:**"
    },
    {
      "metadata": {
        "trusted": true
      },
      "cell_type": "code",
      "source": "print(st[0:4])\nprint(st[:4])\nprint(st[4:])\nprint(st[5:9])\nprint(st[::2]) # step 2\nprint(st[::3]) # step 2\nprint(st[2:12:4]) # \nprint(st[::-1])  # reverse the string\nprint(st[::-2])  # reverse the string with step 1",
      "execution_count": 3,
      "outputs": [
        {
          "output_type": "stream",
          "text": "data\ndata\n science and machine learning with python\nscie\ndt cec n ahn erigwt yhn\ndacn dai ai tph\ntcc\nnohtyp htiw gninrael enihcam dna ecneics atad\nnhy twgire nha n cec td\n",
          "name": "stdout"
        }
      ]
    },
    {
      "metadata": {},
      "cell_type": "markdown",
      "source": "**String Methods:**"
    },
    {
      "metadata": {
        "trusted": true
      },
      "cell_type": "code",
      "source": "s= \"hello world\" # using double quotes",
      "execution_count": 5,
      "outputs": []
    },
    {
      "metadata": {
        "trusted": true
      },
      "cell_type": "code",
      "source": "s= 'hello world' # using single quotes",
      "execution_count": 6,
      "outputs": []
    },
    {
      "metadata": {
        "trusted": true
      },
      "cell_type": "code",
      "source": "# Multi-line Strings\nto_you = \"\"\"Stranger, if you passing meet me and desire to speak to me, why\n  should you not speak to me?\nAnd why should I not speak to you?\"\"\"\n\nprint(to_you)",
      "execution_count": 7,
      "outputs": [
        {
          "output_type": "stream",
          "text": "Stranger, if you passing meet me and desire to speak to me, why\n  should you not speak to me?\nAnd why should I not speak to you?\n",
          "name": "stdout"
        }
      ]
    },
    {
      "metadata": {
        "scrolled": false,
        "trusted": true
      },
      "cell_type": "code",
      "source": "s.index('d')",
      "execution_count": 8,
      "outputs": [
        {
          "output_type": "execute_result",
          "execution_count": 8,
          "data": {
            "text/plain": "10"
          },
          "metadata": {}
        }
      ]
    },
    {
      "metadata": {
        "trusted": true
      },
      "cell_type": "code",
      "source": "s.capitalize()",
      "execution_count": 9,
      "outputs": [
        {
          "output_type": "execute_result",
          "execution_count": 9,
          "data": {
            "text/plain": "'Hello world'"
          },
          "metadata": {}
        }
      ]
    },
    {
      "metadata": {
        "trusted": true
      },
      "cell_type": "code",
      "source": "s.count('o')",
      "execution_count": 16,
      "outputs": [
        {
          "output_type": "execute_result",
          "execution_count": 16,
          "data": {
            "text/plain": "2"
          },
          "metadata": {}
        }
      ]
    },
    {
      "metadata": {
        "run_control": {
          "marked": false
        },
        "scrolled": true,
        "trusted": true
      },
      "cell_type": "code",
      "source": "value = \"cat ppicture is cat picture\"\n\n# Find first index of this string.\ni = value.find(\"p\")\nprint(i)\n\n# Find first index (of this string) after previous index.\nb = value.find(\"p\", i + 1)\nprint(b)\n\n\nb = value.find(\"p\", i + 2)\nprint(b)",
      "execution_count": 18,
      "outputs": [
        {
          "output_type": "stream",
          "text": "4\n5\n20\n",
          "name": "stdout"
        }
      ]
    },
    {
      "metadata": {},
      "cell_type": "markdown",
      "source": "The `index()` method is similar to `find()` method for strings. The only difference is that `find()` method returns -1 if the substring is not found, whereas `index()` throws an exception."
    },
    {
      "metadata": {
        "scrolled": true,
        "trusted": true
      },
      "cell_type": "code",
      "source": "s.title()",
      "execution_count": 12,
      "outputs": [
        {
          "output_type": "execute_result",
          "execution_count": 12,
          "data": {
            "text/plain": "'Hello World'"
          },
          "metadata": {}
        }
      ]
    },
    {
      "metadata": {
        "trusted": false
      },
      "cell_type": "code",
      "source": "s.upper()",
      "execution_count": 128,
      "outputs": [
        {
          "execution_count": 128,
          "output_type": "execute_result",
          "data": {
            "text/plain": "'HELLO WORLD'"
          },
          "metadata": {}
        }
      ]
    },
    {
      "metadata": {
        "trusted": false
      },
      "cell_type": "code",
      "source": "s.islower()",
      "execution_count": 129,
      "outputs": [
        {
          "execution_count": 129,
          "output_type": "execute_result",
          "data": {
            "text/plain": "True"
          },
          "metadata": {}
        }
      ]
    },
    {
      "metadata": {
        "trusted": false
      },
      "cell_type": "code",
      "source": "s= \"HELLO WORLD\"",
      "execution_count": 130,
      "outputs": []
    },
    {
      "metadata": {
        "trusted": false
      },
      "cell_type": "code",
      "source": "s.islower()",
      "execution_count": 131,
      "outputs": [
        {
          "execution_count": 131,
          "output_type": "execute_result",
          "data": {
            "text/plain": "False"
          },
          "metadata": {}
        }
      ]
    },
    {
      "metadata": {
        "trusted": false
      },
      "cell_type": "code",
      "source": "s.capitalize()",
      "execution_count": 132,
      "outputs": [
        {
          "execution_count": 132,
          "output_type": "execute_result",
          "data": {
            "text/plain": "'Hello world'"
          },
          "metadata": {}
        }
      ]
    },
    {
      "metadata": {
        "trusted": false
      },
      "cell_type": "code",
      "source": "s.lower()",
      "execution_count": 133,
      "outputs": [
        {
          "execution_count": 133,
          "output_type": "execute_result",
          "data": {
            "text/plain": "'hello world'"
          },
          "metadata": {}
        }
      ]
    },
    {
      "metadata": {
        "trusted": false
      },
      "cell_type": "code",
      "source": "s = \"HeLlO WoRlD\"",
      "execution_count": 134,
      "outputs": []
    },
    {
      "metadata": {
        "trusted": false
      },
      "cell_type": "code",
      "source": "s.swapcase()",
      "execution_count": 135,
      "outputs": [
        {
          "execution_count": 135,
          "output_type": "execute_result",
          "data": {
            "text/plain": "'hElLo wOrLd'"
          },
          "metadata": {}
        }
      ]
    },
    {
      "metadata": {
        "trusted": false
      },
      "cell_type": "code",
      "source": "s = \" Hello world how are you \"",
      "execution_count": 136,
      "outputs": []
    },
    {
      "metadata": {
        "trusted": false
      },
      "cell_type": "code",
      "source": "s = \"hello world how are you\"",
      "execution_count": 137,
      "outputs": []
    },
    {
      "metadata": {
        "trusted": false
      },
      "cell_type": "code",
      "source": "s.capitalize()",
      "execution_count": 138,
      "outputs": [
        {
          "execution_count": 138,
          "output_type": "execute_result",
          "data": {
            "text/plain": "'Hello world how are you'"
          },
          "metadata": {}
        }
      ]
    },
    {
      "metadata": {
        "trusted": false
      },
      "cell_type": "code",
      "source": "s.title()",
      "execution_count": 139,
      "outputs": [
        {
          "execution_count": 139,
          "output_type": "execute_result",
          "data": {
            "text/plain": "'Hello World How Are You'"
          },
          "metadata": {}
        }
      ]
    },
    {
      "metadata": {
        "trusted": false
      },
      "cell_type": "code",
      "source": "s.upper()",
      "execution_count": 140,
      "outputs": [
        {
          "execution_count": 140,
          "output_type": "execute_result",
          "data": {
            "text/plain": "'HELLO WORLD HOW ARE YOU'"
          },
          "metadata": {}
        }
      ]
    },
    {
      "metadata": {
        "trusted": false
      },
      "cell_type": "code",
      "source": "\"H\" in s",
      "execution_count": 141,
      "outputs": [
        {
          "execution_count": 141,
          "output_type": "execute_result",
          "data": {
            "text/plain": "False"
          },
          "metadata": {}
        }
      ]
    },
    {
      "metadata": {
        "trusted": false
      },
      "cell_type": "code",
      "source": "\"h\" in s",
      "execution_count": 142,
      "outputs": [
        {
          "execution_count": 142,
          "output_type": "execute_result",
          "data": {
            "text/plain": "True"
          },
          "metadata": {}
        }
      ]
    },
    {
      "metadata": {
        "trusted": true
      },
      "cell_type": "code",
      "source": "len(s)",
      "execution_count": 14,
      "outputs": [
        {
          "output_type": "execute_result",
          "execution_count": 14,
          "data": {
            "text/plain": "11"
          },
          "metadata": {}
        }
      ]
    },
    {
      "metadata": {
        "trusted": false
      },
      "cell_type": "code",
      "source": "s = ' hello world how are you'",
      "execution_count": 144,
      "outputs": []
    },
    {
      "metadata": {
        "trusted": false
      },
      "cell_type": "code",
      "source": "s.strip()",
      "execution_count": 145,
      "outputs": [
        {
          "execution_count": 145,
          "output_type": "execute_result",
          "data": {
            "text/plain": "'hello world how are you'"
          },
          "metadata": {}
        }
      ]
    },
    {
      "metadata": {
        "trusted": false
      },
      "cell_type": "code",
      "source": "min(s.strip())",
      "execution_count": 146,
      "outputs": [
        {
          "execution_count": 146,
          "output_type": "execute_result",
          "data": {
            "text/plain": "' '"
          },
          "metadata": {}
        }
      ]
    },
    {
      "metadata": {
        "trusted": false
      },
      "cell_type": "code",
      "source": "max(s)",
      "execution_count": 147,
      "outputs": [
        {
          "execution_count": 147,
          "output_type": "execute_result",
          "data": {
            "text/plain": "'y'"
          },
          "metadata": {}
        }
      ]
    },
    {
      "metadata": {
        "trusted": false
      },
      "cell_type": "code",
      "source": "s",
      "execution_count": 148,
      "outputs": [
        {
          "execution_count": 148,
          "output_type": "execute_result",
          "data": {
            "text/plain": "' hello world how are you'"
          },
          "metadata": {}
        }
      ]
    },
    {
      "metadata": {
        "trusted": false
      },
      "cell_type": "code",
      "source": "s.isspace()",
      "execution_count": 149,
      "outputs": [
        {
          "execution_count": 149,
          "output_type": "execute_result",
          "data": {
            "text/plain": "False"
          },
          "metadata": {}
        }
      ]
    },
    {
      "metadata": {
        "trusted": false
      },
      "cell_type": "code",
      "source": "s.strip()",
      "execution_count": 150,
      "outputs": [
        {
          "execution_count": 150,
          "output_type": "execute_result",
          "data": {
            "text/plain": "'hello world how are you'"
          },
          "metadata": {}
        }
      ]
    },
    {
      "metadata": {},
      "cell_type": "markdown",
      "source": "**strings immutable nature **"
    },
    {
      "metadata": {},
      "cell_type": "markdown",
      "source": "\n`my_string = \"abc\"`  \n`my_string[0] = \"d\"`  \n```{py}\n---------------------------------------------------------------------------\nTypeError                                 Traceback (most recent call last)\n<ipython-input-1-f26f28798517> in <module>()\n      1 my_string = \"abc\"\n----> 2 my_string[0] = \"d\"\n\nTypeError: 'str' object does not support item assignment\n```"
    },
    {
      "metadata": {},
      "cell_type": "markdown",
      "source": "*strings are immutable, which means you can't change an existing string (inplace). The best you can do is create a new string that is a variation on the original:*"
    },
    {
      "metadata": {
        "trusted": true
      },
      "cell_type": "code",
      "source": "greeting = 'Hello, world!'\nnew_greeting = 'J' + greeting[1:]\nprint(new_greeting)\nprint(greeting)",
      "execution_count": 2,
      "outputs": [
        {
          "output_type": "stream",
          "text": "Jello, world!\nHello, world!\n",
          "name": "stdout"
        }
      ]
    },
    {
      "metadata": {},
      "cell_type": "markdown",
      "source": "**String.format()**  "
    },
    {
      "metadata": {
        "trusted": true
      },
      "cell_type": "code",
      "source": "name = \"sumendar\"\ngreeting = \"My name is {}\".format(name)\ngreeting",
      "execution_count": 16,
      "outputs": [
        {
          "output_type": "execute_result",
          "execution_count": 16,
          "data": {
            "text/plain": "'My name is sumendar'"
          },
          "metadata": {}
        }
      ]
    },
    {
      "metadata": {},
      "cell_type": "markdown",
      "source": "**String concatenation**"
    },
    {
      "metadata": {
        "trusted": false
      },
      "cell_type": "code",
      "source": "print(\"happy\" + \" \" + \"birthday\")\nprint(\"my name is \" + \"john\")",
      "execution_count": 7,
      "outputs": [
        {
          "name": "stdout",
          "output_type": "stream",
          "text": "happy birthday\nmy name is john\n"
        }
      ]
    },
    {
      "metadata": {},
      "cell_type": "markdown",
      "source": "**Escape Sequences in Strings**"
    },
    {
      "metadata": {},
      "cell_type": "markdown",
      "source": "* backslash (\\) character is used in some strings to be treated one or more characters specially. \n* This is referred to as an escape sequence, because `the backslash causes the subsequent character sequence to “escape”` its usual meaning."
    },
    {
      "metadata": {
        "trusted": false
      },
      "cell_type": "code",
      "source": "print('This string contains a single quote (') character.')\n# gives a syntaxError",
      "execution_count": 8,
      "outputs": [
        {
          "ename": "SyntaxError",
          "evalue": "invalid syntax (<ipython-input-8-4fb72c6c5730>, line 1)",
          "output_type": "error",
          "traceback": [
            "\u001b[1;36m  File \u001b[1;32m\"<ipython-input-8-4fb72c6c5730>\"\u001b[1;36m, line \u001b[1;32m1\u001b[0m\n\u001b[1;33m    print('This string contains a single quote (') character.')\u001b[0m\n\u001b[1;37m                                                           ^\u001b[0m\n\u001b[1;31mSyntaxError\u001b[0m\u001b[1;31m:\u001b[0m invalid syntax\n"
          ]
        }
      ]
    },
    {
      "metadata": {
        "trusted": false
      },
      "cell_type": "code",
      "source": "print('This string contains a single quote (\\') character.')\nprint(\"This string contains a double quote (\\\") character.\")",
      "execution_count": 10,
      "outputs": [
        {
          "name": "stdout",
          "output_type": "stream",
          "text": "This string contains a single quote (') character.\nThis string contains a double quote (\") character.\n"
        }
      ]
    },
    {
      "metadata": {
        "trusted": false
      },
      "cell_type": "code",
      "source": "print('a,\n      b,\n      c)    # if we press Enter will gives SyntaxError after each letter",
      "execution_count": 11,
      "outputs": [
        {
          "ename": "SyntaxError",
          "evalue": "EOL while scanning string literal (<ipython-input-11-06aeb0cb83d6>, line 1)",
          "output_type": "error",
          "traceback": [
            "\u001b[1;36m  File \u001b[1;32m\"<ipython-input-11-06aeb0cb83d6>\"\u001b[1;36m, line \u001b[1;32m1\u001b[0m\n\u001b[1;33m    print('a,\u001b[0m\n\u001b[1;37m             ^\u001b[0m\n\u001b[1;31mSyntaxError\u001b[0m\u001b[1;31m:\u001b[0m EOL while scanning string literal\n"
          ]
        }
      ]
    },
    {
      "metadata": {
        "trusted": true
      },
      "cell_type": "code",
      "source": "print('a\\\nb\\\nc')\n\nprint('a\\\nb\\\nc')",
      "execution_count": 5,
      "outputs": [
        {
          "output_type": "stream",
          "text": "abc\nabc\n",
          "name": "stdout"
        }
      ]
    },
    {
      "metadata": {
        "scrolled": true,
        "trusted": true
      },
      "cell_type": "code",
      "source": "print('foo\\\\bar') # o include a literal backslash in a string, escape it with a backslash",
      "execution_count": 9,
      "outputs": [
        {
          "output_type": "stream",
          "text": "foo\\bar\n",
          "name": "stdout"
        }
      ]
    },
    {
      "metadata": {
        "trusted": true
      },
      "cell_type": "code",
      "source": "print(r'foo\\bar') # o include a literal backslash in a string, escape it with a letter r ",
      "execution_count": 10,
      "outputs": [
        {
          "output_type": "stream",
          "text": "foo\\bar\n",
          "name": "stdout"
        }
      ]
    },
    {
      "metadata": {},
      "cell_type": "markdown",
      "source": "**Applying Special Meaning to Characters**"
    },
    {
      "metadata": {
        "trusted": false
      },
      "cell_type": "code",
      "source": "print('foo\\tbar')\nprint(\"a\\tb\")\nprint(\"a\\141\\x61\")\nprint(\"a\\nb\")\nprint('\\u2192 \\N{rightwards arrow}')",
      "execution_count": 13,
      "outputs": [
        {
          "name": "stdout",
          "output_type": "stream",
          "text": "foo\tbar\na\tb\naaa\na\nb\n→ →\n"
        }
      ]
    },
    {
      "metadata": {},
      "cell_type": "markdown",
      "source": "**Raw Strings**"
    },
    {
      "metadata": {},
      "cell_type": "markdown",
      "source": "* A raw string literal is preceded by r or R.  \n* Escape sequences in the associated string are not translated. The backslash character is left in the string:"
    },
    {
      "metadata": {
        "trusted": false
      },
      "cell_type": "code",
      "source": "print('foo\\nbar')",
      "execution_count": 14,
      "outputs": [
        {
          "name": "stdout",
          "output_type": "stream",
          "text": "foo\nbar\n"
        }
      ]
    },
    {
      "metadata": {
        "trusted": false
      },
      "cell_type": "code",
      "source": "print(r'foo\\nbar')",
      "execution_count": 15,
      "outputs": [
        {
          "name": "stdout",
          "output_type": "stream",
          "text": "foo\\nbar\n"
        }
      ]
    },
    {
      "metadata": {
        "trusted": false
      },
      "cell_type": "code",
      "source": "print('foo\\\\bar')",
      "execution_count": 16,
      "outputs": [
        {
          "name": "stdout",
          "output_type": "stream",
          "text": "foo\\bar\n"
        }
      ]
    },
    {
      "metadata": {
        "trusted": false
      },
      "cell_type": "code",
      "source": "print(r'foo\\\\bar')",
      "execution_count": 17,
      "outputs": [
        {
          "name": "stdout",
          "output_type": "stream",
          "text": "foo\\\\bar\n"
        }
      ]
    },
    {
      "metadata": {},
      "cell_type": "markdown",
      "source": "**Triple-Quoted Strings**"
    },
    {
      "metadata": {},
      "cell_type": "markdown",
      "source": "* Escape sequences still work in triple-quoted strings, but single quotes, double quotes, and newlines can be included without escaping them. \n* This provides a convenient way to create a string with both single and double quotes in it:"
    },
    {
      "metadata": {
        "trusted": false
      },
      "cell_type": "code",
      "source": "print('''This string has a single (') and a double (\") quote.''')",
      "execution_count": 18,
      "outputs": [
        {
          "name": "stdout",
          "output_type": "stream",
          "text": "This string has a single (') and a double (\") quote.\n"
        }
      ]
    },
    {
      "metadata": {
        "trusted": true
      },
      "cell_type": "code",
      "source": "print(\"\"\"This is a\nstring that spans\nacross several lines\"\"\")\n# this also allows for multiline strings:",
      "execution_count": 9,
      "outputs": [
        {
          "output_type": "stream",
          "text": "This is a\nstring that spans\nacross several lines\n",
          "name": "stdout"
        }
      ]
    },
    {
      "metadata": {},
      "cell_type": "markdown",
      "source": "https://towardsdatascience.com/useful-string-methods-in-python-5047ea4d3f90  "
    },
    {
      "metadata": {},
      "cell_type": "markdown",
      "source": "**Python Syntax:**  \nhttps://www.codecademy.com/learn/learn-python-3/modules/learn-python3-syntax/reference  "
    },
    {
      "metadata": {},
      "cell_type": "markdown",
      "source": "### Date and Time\n\nA date in Python is not a data type of its own, but we can import a module named datetime to work with dates as date objects."
    },
    {
      "metadata": {
        "trusted": true
      },
      "cell_type": "code",
      "source": "import datetime\n\nx = datetime.datetime.now()\nprint(x)",
      "execution_count": 7,
      "outputs": [
        {
          "output_type": "stream",
          "text": "2019-03-07 10:33:50.931781\n",
          "name": "stdout"
        }
      ]
    },
    {
      "metadata": {
        "trusted": true
      },
      "cell_type": "code",
      "source": "print(x.year)",
      "execution_count": 8,
      "outputs": [
        {
          "output_type": "stream",
          "text": "2019\n",
          "name": "stdout"
        }
      ]
    },
    {
      "metadata": {
        "scrolled": true,
        "trusted": true
      },
      "cell_type": "code",
      "source": "# strftime is a method for formatting date objects into readable strings.\nprint(x.strftime(\"%A\"))\n# it takes one parameter called format\n# http://strftime.org/",
      "execution_count": 11,
      "outputs": [
        {
          "output_type": "stream",
          "text": "Thursday\n",
          "name": "stdout"
        }
      ]
    },
    {
      "metadata": {
        "trusted": true
      },
      "cell_type": "code",
      "source": "# Create a date object\nx = datetime.datetime(2020, 5, 17)\nprint(x)",
      "execution_count": 4,
      "outputs": [
        {
          "output_type": "stream",
          "text": "2020-05-17 00:00:00\n",
          "name": "stdout"
        }
      ]
    },
    {
      "metadata": {},
      "cell_type": "markdown",
      "source": "https://www.guru99.com/date-time-and-datetime-classes-in-python.html  \nhttps://dzone.com/articles/python-101-working-with-dates-and-time  "
    },
    {
      "metadata": {},
      "cell_type": "markdown",
      "source": "## Data Structures \n(Non-primitive data structures)"
    },
    {
      "metadata": {},
      "cell_type": "markdown",
      "source": "Non-primitive types are the sophisticated members of the data structure family. They don't just store a value, but rather a collection of values in various formats."
    },
    {
      "metadata": {},
      "cell_type": "markdown",
      "source": "### Composite Data Types"
    },
    {
      "metadata": {},
      "cell_type": "markdown",
      "source": "#### Lists"
    },
    {
      "metadata": {},
      "cell_type": "markdown",
      "source": "* General purpose\n* Most widely used data structures\n* contain any type of objects\n* similar to arrays\n* can be extended or reduce the size as we needed\n* Sequence type\n* sortable\n* declare them using square brackets separated with commas of each value/item\n* Better to use this object for list of values which we need some flexibility to add/remove/sort/reverse/delete...etc operations."
    },
    {
      "metadata": {},
      "cell_type": "markdown",
      "source": "> **Example:** \n* List of employees in your department\n* List of stocks you want to analyze"
    },
    {
      "metadata": {},
      "cell_type": "raw",
      "source": "A = [ ] # This is a blank list variable\nB = [1, 23, 45, 67] # this list creates an initial list of 4 numbers.\nC = [2, 4, 'john'] # lists can contain different variable types."
    },
    {
      "metadata": {
        "trusted": false
      },
      "cell_type": "code",
      "source": "[1,2,3]",
      "execution_count": 152,
      "outputs": [
        {
          "execution_count": 152,
          "output_type": "execute_result",
          "data": {
            "text/plain": "[1, 2, 3]"
          },
          "metadata": {}
        }
      ]
    },
    {
      "metadata": {
        "trusted": false
      },
      "cell_type": "code",
      "source": "['hi',1,[1,2]]",
      "execution_count": 153,
      "outputs": [
        {
          "execution_count": 153,
          "output_type": "execute_result",
          "data": {
            "text/plain": "['hi', 1, [1, 2]]"
          },
          "metadata": {}
        }
      ]
    },
    {
      "metadata": {
        "trusted": false
      },
      "cell_type": "code",
      "source": "my_list = ['a','b','c']",
      "execution_count": 154,
      "outputs": []
    },
    {
      "metadata": {
        "trusted": false
      },
      "cell_type": "code",
      "source": "my_list.append('d')",
      "execution_count": 155,
      "outputs": []
    },
    {
      "metadata": {
        "trusted": false
      },
      "cell_type": "code",
      "source": "my_list",
      "execution_count": 156,
      "outputs": [
        {
          "execution_count": 156,
          "output_type": "execute_result",
          "data": {
            "text/plain": "['a', 'b', 'c', 'd']"
          },
          "metadata": {}
        }
      ]
    },
    {
      "metadata": {
        "trusted": false
      },
      "cell_type": "code",
      "source": "my_list[0]",
      "execution_count": 157,
      "outputs": [
        {
          "execution_count": 157,
          "output_type": "execute_result",
          "data": {
            "text/plain": "'a'"
          },
          "metadata": {}
        }
      ]
    },
    {
      "metadata": {
        "trusted": false
      },
      "cell_type": "code",
      "source": "my_list[1]",
      "execution_count": 158,
      "outputs": [
        {
          "execution_count": 158,
          "output_type": "execute_result",
          "data": {
            "text/plain": "'b'"
          },
          "metadata": {}
        }
      ]
    },
    {
      "metadata": {
        "trusted": false
      },
      "cell_type": "code",
      "source": "my_list[1:]",
      "execution_count": 159,
      "outputs": [
        {
          "execution_count": 159,
          "output_type": "execute_result",
          "data": {
            "text/plain": "['b', 'c', 'd']"
          },
          "metadata": {}
        }
      ]
    },
    {
      "metadata": {
        "trusted": false
      },
      "cell_type": "code",
      "source": "my_list[:1]",
      "execution_count": 160,
      "outputs": [
        {
          "execution_count": 160,
          "output_type": "execute_result",
          "data": {
            "text/plain": "['a']"
          },
          "metadata": {}
        }
      ]
    },
    {
      "metadata": {
        "trusted": false
      },
      "cell_type": "code",
      "source": "my_list[0] = 'NEW'",
      "execution_count": 161,
      "outputs": []
    },
    {
      "metadata": {
        "trusted": false
      },
      "cell_type": "code",
      "source": "my_list",
      "execution_count": 162,
      "outputs": [
        {
          "execution_count": 162,
          "output_type": "execute_result",
          "data": {
            "text/plain": "['NEW', 'b', 'c', 'd']"
          },
          "metadata": {}
        }
      ]
    },
    {
      "metadata": {
        "trusted": false
      },
      "cell_type": "code",
      "source": "mylist = ['Rhino', 'Grasshopper', 'Flamingo', 'Bongo']\nB = len(mylist) # This will return the length of the list which is 3. The index is 0, 1, 2, 3.\nprint (mylist[1]) # This will return the value at index 1, which is 'Grasshopper'\nprint (mylist[0:2]) # This will return the first 2 elements in the list.",
      "execution_count": 163,
      "outputs": [
        {
          "name": "stdout",
          "output_type": "stream",
          "text": "Grasshopper\n['Rhino', 'Grasshopper']\n"
        }
      ]
    },
    {
      "metadata": {
        "trusted": false
      },
      "cell_type": "code",
      "source": "nest = [1,2,3,[4,5,['target']]]",
      "execution_count": 164,
      "outputs": []
    },
    {
      "metadata": {
        "trusted": false
      },
      "cell_type": "code",
      "source": "nest[3]",
      "execution_count": 165,
      "outputs": [
        {
          "execution_count": 165,
          "output_type": "execute_result",
          "data": {
            "text/plain": "[4, 5, ['target']]"
          },
          "metadata": {}
        }
      ]
    },
    {
      "metadata": {
        "trusted": false
      },
      "cell_type": "code",
      "source": "nest[3][2]",
      "execution_count": 166,
      "outputs": [
        {
          "execution_count": 166,
          "output_type": "execute_result",
          "data": {
            "text/plain": "['target']"
          },
          "metadata": {}
        }
      ]
    },
    {
      "metadata": {
        "trusted": false
      },
      "cell_type": "code",
      "source": "nest[3][2][0]",
      "execution_count": 167,
      "outputs": [
        {
          "execution_count": 167,
          "output_type": "execute_result",
          "data": {
            "text/plain": "'target'"
          },
          "metadata": {}
        }
      ]
    },
    {
      "metadata": {},
      "cell_type": "markdown",
      "source": "nest[3][2][0].upper()"
    },
    {
      "metadata": {
        "trusted": false
      },
      "cell_type": "code",
      "source": "# assign data to a specific element of the list using an index into the list.\nmylist = [0, 1, 2, 3]\nmylist[0] = 'Rhino'\nmylist[1] = 'Grasshopper'\nmylist[2] = 'Flamingo'\nmylist[3] = 'Bongo'\nprint (mylist[1])",
      "execution_count": 169,
      "outputs": [
        {
          "name": "stdout",
          "output_type": "stream",
          "text": "Grasshopper\n"
        }
      ]
    },
    {
      "metadata": {
        "run_control": {
          "marked": false
        }
      },
      "cell_type": "markdown",
      "source": "The + operator concatenates lists:"
    },
    {
      "metadata": {
        "trusted": true
      },
      "cell_type": "code",
      "source": "a = [1, 2, 3]\nb = [4, 5, 6]\nc = a + b  # \nprint(c)",
      "execution_count": 3,
      "outputs": [
        {
          "output_type": "stream",
          "text": "[1, 2, 3, 4, 5, 6]\n",
          "name": "stdout"
        }
      ]
    },
    {
      "metadata": {},
      "cell_type": "markdown",
      "source": "Similarly, the * operator repeats a list a given number of times:"
    },
    {
      "metadata": {
        "run_control": {
          "marked": false
        },
        "trusted": true
      },
      "cell_type": "code",
      "source": " \n[0] * 4",
      "execution_count": 4,
      "outputs": [
        {
          "output_type": "execute_result",
          "execution_count": 4,
          "data": {
            "text/plain": "[0, 0, 0, 0]"
          },
          "metadata": {}
        }
      ]
    },
    {
      "metadata": {
        "trusted": true
      },
      "cell_type": "code",
      "source": "[1, 2, 3] * 3  # The first example repeats [0] four times. The second example repeats the list [1, 2, 3] three times.",
      "execution_count": 5,
      "outputs": [
        {
          "output_type": "execute_result",
          "execution_count": 5,
          "data": {
            "text/plain": "[1, 2, 3, 1, 2, 3, 1, 2, 3]"
          },
          "metadata": {}
        }
      ]
    },
    {
      "metadata": {},
      "cell_type": "markdown",
      "source": "**The Difference Between “is” and “==” in Python**"
    },
    {
      "metadata": {
        "trusted": true
      },
      "cell_type": "code",
      "source": "a = 'banana'\nb = 'banana'\na is b",
      "execution_count": 6,
      "outputs": [
        {
          "output_type": "execute_result",
          "execution_count": 6,
          "data": {
            "text/plain": "True"
          },
          "metadata": {}
        }
      ]
    },
    {
      "metadata": {
        "trusted": true
      },
      "cell_type": "code",
      "source": "a = [1, 2, 3]\nb = [1, 2, 3]\na is b",
      "execution_count": 7,
      "outputs": [
        {
          "output_type": "execute_result",
          "execution_count": 7,
          "data": {
            "text/plain": "False"
          },
          "metadata": {}
        }
      ]
    },
    {
      "metadata": {},
      "cell_type": "markdown",
      "source": "**What does [::-1} do?**"
    },
    {
      "metadata": {
        "trusted": true
      },
      "cell_type": "code",
      "source": "l = [1,2,3,4,5]\nl[::-1] # reverse the order of list",
      "execution_count": 2,
      "outputs": [
        {
          "output_type": "execute_result",
          "execution_count": 2,
          "data": {
            "text/plain": "[5, 4, 3, 2, 1]"
          },
          "metadata": {}
        }
      ]
    },
    {
      "metadata": {},
      "cell_type": "markdown",
      "source": "follow along:  https://dbader.org/blog/difference-between-is-and-equals-in-python  \nhttps://medium.com/@tyastropheus/tricky-python-i-memory-management-for-mutable-immutable-objects-21507d1e5b95  "
    },
    {
      "metadata": {},
      "cell_type": "markdown",
      "source": "**Built-in Functions with List**\n"
    },
    {
      "metadata": {},
      "cell_type": "markdown",
      "source": "| Function    | Description                                                                                       |\n|-------------|---------------------------------------------------------------------------------------------------|\n| any()       | Return True if any element of the list is true. If the list is empty, return False.               |\n| all()       | Returns `True` if all elements of an iterable are true                  \t                      |\n| len()       |   Return the length (the number of items) in the list.                                            |\n| list()      | Convert an iterable (tuple, string, set, dictionary) to a list.                                   |\n| max()       | Return the largest item in the list.                                                              |\n| min()       | Return the smallest item in the list                                                              |\n| sorted()    |   Return a new sorted list (does not sort the list itself).                                       |\n| reversed()  | Returns a reverse iterator                                              \t|                     \n| sum()       | Return the sum of all elements in the list.                                                       |"
    },
    {
      "metadata": {
        "trusted": true
      },
      "cell_type": "code",
      "source": "x = [True, True, False]\nif any(x):\n    print(\"At least one True\")\nif all(x):\n    print(\"Not one False\")\nif any(x) and not all(x):    \n    print(\"At least one True and one False\")",
      "execution_count": 1,
      "outputs": [
        {
          "output_type": "stream",
          "text": "At least one True\nAt least one True and one False\n",
          "name": "stdout"
        }
      ]
    },
    {
      "metadata": {},
      "cell_type": "markdown",
      "source": "**Python list Methods**"
    },
    {
      "metadata": {},
      "cell_type": "markdown",
      "source": "| Methods       | Functions                                                |\n|---------------|----------------------------------------------------------|\n| append()      | to add element to the end of the list                    |\n| extend()      | to extend all elements of a list to the another list     |\n| insert()      | to insert an element at the another index                |\n| remove()      | to remove an element from the list                       |\n| pop()         | to remove elements return element at the given index     |\n| clear()       | to remove all elements from the list                     |\n| index()       | to return the index of the first matched element         |\n| count()       | to count of number of elements passed as an argument     |\n| sort()        | to sort the elements in ascending order by default       |\n| reverse()     | to reverse order element in a list                       |\n| copy()        | to return a copy of elements in a list                   |"
    },
    {
      "metadata": {},
      "cell_type": "markdown",
      "source": "**`copy()` method vs direct assignment**"
    },
    {
      "metadata": {
        "trusted": true
      },
      "cell_type": "code",
      "source": "l1 = [1,2,3,4]\nl2 = l1\nprint(id(l1))\nprint(id(l2))",
      "execution_count": 1,
      "outputs": [
        {
          "output_type": "stream",
          "text": "140488771147336\n140488771147336\n",
          "name": "stdout"
        }
      ]
    },
    {
      "metadata": {
        "trusted": true
      },
      "cell_type": "code",
      "source": "l1.append(999)\nprint(l2)",
      "execution_count": 2,
      "outputs": [
        {
          "output_type": "stream",
          "text": "[1, 2, 3, 4, 999]\n",
          "name": "stdout"
        }
      ]
    },
    {
      "metadata": {
        "trusted": true
      },
      "cell_type": "code",
      "source": "l1 = [1,2,3,4]\nl2 = l1.copy()\nprint(id(l1))\nprint(id(l2))",
      "execution_count": 3,
      "outputs": [
        {
          "output_type": "stream",
          "text": "140488767397832\n140488771825864\n",
          "name": "stdout"
        }
      ]
    },
    {
      "metadata": {
        "trusted": true
      },
      "cell_type": "code",
      "source": "l1.append(999)\nprint(l2)",
      "execution_count": 4,
      "outputs": [
        {
          "output_type": "stream",
          "text": "[1, 2, 3, 4]\n",
          "name": "stdout"
        }
      ]
    },
    {
      "metadata": {},
      "cell_type": "markdown",
      "source": "https://developers.google.com/edu/python/lists  \nhttp://thepythonguru.com/python-lists/  \nhttps://www.tutorialspoint.com/python/python_lists.htm"
    },
    {
      "metadata": {},
      "cell_type": "markdown",
      "source": "#### Tuples"
    },
    {
      "metadata": {},
      "cell_type": "markdown",
      "source": "* Immutable (we cannot change its content after creation)\n* Better for fixed data\n* useful to share the data with someone but not allow them to manipulate\n* use the data values for arithmatic operations, however the changes is not reflected in the original data\n* contain any type of objects (heterogeneous container for items) \n* similar to arrays\n* faster compare with the lists\n* sequencey type\n* To declare tuples we use parentheses.\n* Unlike Python lists, tuples does not have methods such as `append()`, `remove()`, `extend()`, `insert()` and `pop()` due to its immutable nature. However, there are many other built-in methods to work with tuple \n* Better to use this object for a list of values which order really matters when there is no need to add/delete those items"
    },
    {
      "metadata": {},
      "cell_type": "markdown",
      "source": "> **Example:** \n* List of months, or weekdays..etc\n* List of top 10 sales regions in a quarter"
    },
    {
      "metadata": {
        "trusted": false
      },
      "cell_type": "code",
      "source": "t = (1,2,3)",
      "execution_count": 174,
      "outputs": []
    },
    {
      "metadata": {},
      "cell_type": "markdown",
      "source": "t[0]\n\n`t[0] = 'NEW' # not mutable for tuples`\n```{python}\n---------------------------------------------------------------------------\nTypeError                                 Traceback (most recent call last)\n<ipython-input-212-9650bd97cc9a> in <module>()\n----> 1 t[0] = 'NEW' # not mutable for tuples\n\nTypeError: 'tuple' object does not support item assignment\n```"
    },
    {
      "metadata": {
        "trusted": true
      },
      "cell_type": "code",
      "source": "# real world example\n# works better in spyder tool\n\"\"\" Where's My Mouse? \"\"\"\nimport tkinter\n\ndef mouse_click(event):\n\n    # retrieve XY coords as a tuple\n    coords = root.winfo_pointerxy()\n    print('coords: {}'.format(coords))\n    print('X: {}'.format(coords[0]))\n    print('Y: {}'.format(coords[1]))\n    print(type(coords))\n\nroot = tkinter.Tk()\nroot.bind('<Button>', mouse_click)\nroot.mainloop()",
      "execution_count": null,
      "outputs": []
    },
    {
      "metadata": {},
      "cell_type": "markdown",
      "source": "https://data-flair.training/blogs/python-tuples-syntax-examples/   \nhttp://thepythonguru.com/python-tuples/  "
    },
    {
      "metadata": {},
      "cell_type": "markdown",
      "source": "### Collection data types"
    },
    {
      "metadata": {},
      "cell_type": "markdown",
      "source": "#### Dictionaries"
    },
    {
      "metadata": {},
      "cell_type": "markdown",
      "source": "* Each item is a pair of a key and value\n* It holds word-meaning pairs just like real dictionaries \n* Un ordered\n* Dictionaries are not sorted\n* Access to the list of keys or values independently.\n* To declare a dictionary, we use curly braces.\n* Better to use this object for unordered storage of values which are associated with some keys "
    },
    {
      "metadata": {},
      "cell_type": "markdown",
      "source": "> **Examples:** \n* Employee name associated with Employee ID   \n* Order status of online food"
    },
    {
      "metadata": {
        "trusted": true
      },
      "cell_type": "code",
      "source": "room_num = {'john': 425, 'tom': 212}\nroom_num['john'] = 645  # set the value associated with the 'john' key to 645",
      "execution_count": 19,
      "outputs": []
    },
    {
      "metadata": {
        "scrolled": true,
        "trusted": true
      },
      "cell_type": "code",
      "source": "print(room_num)",
      "execution_count": 20,
      "outputs": [
        {
          "output_type": "stream",
          "text": "{'tom': 212, 'john': 645}\n",
          "name": "stdout"
        }
      ]
    },
    {
      "metadata": {
        "trusted": true
      },
      "cell_type": "code",
      "source": "room_num['james'] = 925",
      "execution_count": 21,
      "outputs": []
    },
    {
      "metadata": {
        "trusted": true
      },
      "cell_type": "code",
      "source": "print(room_num)",
      "execution_count": 22,
      "outputs": [
        {
          "output_type": "stream",
          "text": "{'james': 925, 'tom': 212, 'john': 645}\n",
          "name": "stdout"
        }
      ]
    },
    {
      "metadata": {
        "trusted": true
      },
      "cell_type": "code",
      "source": "room_num.keys()",
      "execution_count": 23,
      "outputs": [
        {
          "output_type": "execute_result",
          "execution_count": 23,
          "data": {
            "text/plain": "dict_keys(['james', 'tom', 'john'])"
          },
          "metadata": {}
        }
      ]
    },
    {
      "metadata": {
        "trusted": true
      },
      "cell_type": "code",
      "source": "room_num.values()\n",
      "execution_count": 24,
      "outputs": [
        {
          "output_type": "execute_result",
          "execution_count": 24,
          "data": {
            "text/plain": "dict_values([925, 212, 645])"
          },
          "metadata": {}
        }
      ]
    },
    {
      "metadata": {
        "trusted": true
      },
      "cell_type": "code",
      "source": "room_num.items()",
      "execution_count": 25,
      "outputs": [
        {
          "output_type": "execute_result",
          "execution_count": 25,
          "data": {
            "text/plain": "dict_items([('james', 925), ('tom', 212), ('john', 645)])"
          },
          "metadata": {}
        }
      ]
    },
    {
      "metadata": {
        "trusted": true
      },
      "cell_type": "code",
      "source": "room_num.pop('james') # takes key as parameter and return corresponding value ",
      "execution_count": 26,
      "outputs": [
        {
          "output_type": "execute_result",
          "execution_count": 26,
          "data": {
            "text/plain": "925"
          },
          "metadata": {}
        }
      ]
    },
    {
      "metadata": {
        "trusted": true
      },
      "cell_type": "code",
      "source": "room_num",
      "execution_count": 27,
      "outputs": [
        {
          "output_type": "execute_result",
          "execution_count": 27,
          "data": {
            "text/plain": "{'john': 645, 'tom': 212}"
          },
          "metadata": {}
        }
      ]
    },
    {
      "metadata": {
        "trusted": true
      },
      "cell_type": "code",
      "source": "room_num.popitem() # doesn't take any parameter and gives some arbitrary element as (key, value) tuple ",
      "execution_count": 28,
      "outputs": [
        {
          "output_type": "execute_result",
          "execution_count": 28,
          "data": {
            "text/plain": "('tom', 212)"
          },
          "metadata": {}
        }
      ]
    },
    {
      "metadata": {
        "trusted": true
      },
      "cell_type": "code",
      "source": "room_num",
      "execution_count": 29,
      "outputs": [
        {
          "output_type": "execute_result",
          "execution_count": 29,
          "data": {
            "text/plain": "{'john': 645}"
          },
          "metadata": {}
        }
      ]
    },
    {
      "metadata": {
        "trusted": true
      },
      "cell_type": "code",
      "source": "room_num['isaac'] = 345 # Add a new key 'isaac' with the associated value\nprint (room_num.keys()) # print out a list of keys in the dictionary\nprint ('isaac' in room_num) # test to asee if 'issac' is in the dictionary.  This returns true.",
      "execution_count": 30,
      "outputs": [
        {
          "output_type": "stream",
          "text": "dict_keys(['isaac', 'john'])\nTrue\n",
          "name": "stdout"
        }
      ]
    },
    {
      "metadata": {
        "trusted": false
      },
      "cell_type": "code",
      "source": "d = {'key1':'value1','key2':'value2'}",
      "execution_count": 171,
      "outputs": []
    },
    {
      "metadata": {
        "trusted": false
      },
      "cell_type": "code",
      "source": "d",
      "execution_count": 172,
      "outputs": [
        {
          "execution_count": 172,
          "output_type": "execute_result",
          "data": {
            "text/plain": "{'key1': 'item1', 'key2': 'item2'}"
          },
          "metadata": {}
        }
      ]
    },
    {
      "metadata": {
        "trusted": false
      },
      "cell_type": "code",
      "source": "d['key1']",
      "execution_count": 173,
      "outputs": [
        {
          "execution_count": 173,
          "output_type": "execute_result",
          "data": {
            "text/plain": "'item1'"
          },
          "metadata": {}
        }
      ]
    },
    {
      "metadata": {},
      "cell_type": "markdown",
      "source": "https://www.tutorialspoint.com/python/python_dictionary.htm  \nhttp://thepythonguru.com/python-dictionaries/    \nhttps://realpython.com/python-dicts/    "
    },
    {
      "metadata": {},
      "cell_type": "markdown",
      "source": "#### Sets"
    },
    {
      "metadata": {},
      "cell_type": "markdown",
      "source": "* Python set is much like a mathematical set theory in that it has well-defined collection of distinct objects\n* The objects of a set are called its “elements”.\n* Sets are unordered collections of unique elements. Duplicates are not allowed.\n* very fast access vs lists\n* A set itself may be modified, but the elements contained in the set must be of an immutable type (eg. it might be a tuple but not a list type).\n* Python provides us with a list of functions and methods like `discard()`, `pop()`, `clear()`, `remove()`, `add()`, and more. Functions like `len()` and `max()` also apply on sets.\n* It is sequenced (automatically while printing), but does not support indexing.\n* To declare a set, write a sequence of items separated with commas, inside curly braces.\n* Better to use this object a collection of sets which needs to membership or mapping really matters"
    },
    {
      "metadata": {
        "trusted": false
      },
      "cell_type": "code",
      "source": "{1,2,3}",
      "execution_count": 175,
      "outputs": [
        {
          "execution_count": 175,
          "output_type": "execute_result",
          "data": {
            "text/plain": "{1, 2, 3}"
          },
          "metadata": {}
        }
      ]
    },
    {
      "metadata": {},
      "cell_type": "markdown",
      "source": "**Adding Elements to a Set**  \n* sets are mutable – but since they are unordered, indexes would not make any sense to it. We will not be able to access or update an element based on the index of an element in a set, as set does not support both indexing and slicing.   \n* we can use the `add()` method to add a single element if we need to add more than one element to a set, we can use the `update()` method"
    },
    {
      "metadata": {
        "trusted": false
      },
      "cell_type": "code",
      "source": "# creating a set\n    a = {1, 3, 5, 7, 11, 13}\n    b = set([1, 3, 5, 7, 11, 13])",
      "execution_count": 4,
      "outputs": []
    },
    {
      "metadata": {},
      "cell_type": "markdown",
      "source": "**Set Operations on Sets**"
    },
    {
      "metadata": {},
      "cell_type": "markdown",
      "source": "* Union\n* Intersection\n* Difference\n* Symmetric Difference"
    },
    {
      "metadata": {
        "trusted": true
      },
      "cell_type": "code",
      "source": "# Union\nA = {1, 2, 3, 4}\nB = {3, 4, 5, 6}\nprint ( A | B)",
      "execution_count": 1,
      "outputs": [
        {
          "output_type": "stream",
          "text": "{1, 2, 3, 4, 5, 6}\n",
          "name": "stdout"
        }
      ]
    },
    {
      "metadata": {
        "trusted": true
      },
      "cell_type": "code",
      "source": "# Intersection\nA = {1, 2, 3, 4}\nB = {3, 4, 5, 6}\nprint ( A & B )",
      "execution_count": 2,
      "outputs": [
        {
          "output_type": "stream",
          "text": "{3, 4}\n",
          "name": "stdout"
        }
      ]
    },
    {
      "metadata": {
        "trusted": true
      },
      "cell_type": "code",
      "source": "# Difference\nA = {1, 2, 3, 4, 5}\nB = {4, 5, 6, 7, 8}\nprint(A - B)",
      "execution_count": 3,
      "outputs": [
        {
          "output_type": "stream",
          "text": "{1, 2, 3}\n",
          "name": "stdout"
        }
      ]
    },
    {
      "metadata": {
        "trusted": true
      },
      "cell_type": "code",
      "source": "# Symmetric Difference\nA = {1, 2, 3, 4, 5}\nB = {4, 5, 6, 7, 8}\nprint(A ^ B)",
      "execution_count": 4,
      "outputs": [
        {
          "output_type": "stream",
          "text": "{1, 2, 3, 6, 7, 8}\n",
          "name": "stdout"
        }
      ]
    },
    {
      "metadata": {},
      "cell_type": "markdown",
      "source": "**Adding element/s to a set**"
    },
    {
      "metadata": {
        "trusted": false
      },
      "cell_type": "code",
      "source": "a.add(8)\nprint(a)\nb.update([5,2,14,7])\nprint(b)",
      "execution_count": 5,
      "outputs": [
        {
          "name": "stdout",
          "output_type": "stream",
          "text": "{1, 3, 5, 7, 8, 11, 13}\n{1, 2, 3, 5, 7, 11, 13, 14}\n"
        }
      ]
    },
    {
      "metadata": {
        "trusted": false
      },
      "cell_type": "code",
      "source": "# initialize my_set\nmy_set = {1,3}\nprint(my_set)\n\n# add list and set\n# Output: {1, 2, 3, 4, 5, 6, 8}\nmy_set.update([4,5], {1,6,8})\nprint(my_set)\n\n# if you uncomment below line\n# you will get an error\n# TypeError: 'set' object does not support indexing\n\n#my_set[0]",
      "execution_count": 25,
      "outputs": [
        {
          "name": "stdout",
          "output_type": "stream",
          "text": "{1, 3}\n{1, 3, 4, 5, 6, 8}\n"
        }
      ]
    },
    {
      "metadata": {},
      "cell_type": "markdown",
      "source": "**Remove Elements From a Set**"
    },
    {
      "metadata": {},
      "cell_type": "markdown",
      "source": "`discard()`    \nThis method takes the item to delete as an argument.\n* deleting an item that doesn’t exist in the set, discard() ignores it"
    },
    {
      "metadata": {
        "trusted": false
      },
      "cell_type": "code",
      "source": "num = {13,12,21,43,16,25}",
      "execution_count": 1,
      "outputs": []
    },
    {
      "metadata": {
        "trusted": false
      },
      "cell_type": "code",
      "source": "num.discard(3)",
      "execution_count": 2,
      "outputs": []
    },
    {
      "metadata": {
        "scrolled": true,
        "trusted": false
      },
      "cell_type": "code",
      "source": "num",
      "execution_count": 3,
      "outputs": [
        {
          "execution_count": 3,
          "output_type": "execute_result",
          "data": {
            "text/plain": "{12, 13, 16, 21, 25, 43}"
          },
          "metadata": {}
        }
      ]
    },
    {
      "metadata": {},
      "cell_type": "markdown",
      "source": "`remove()`\n\nLike the discard() method, remove() deletes an item from the set.\n* deleting an item that doesn’t exist in the set, remove() gives an error"
    },
    {
      "metadata": {
        "trusted": false
      },
      "cell_type": "code",
      "source": "num.remove(5)",
      "execution_count": 14,
      "outputs": []
    },
    {
      "metadata": {
        "trusted": false
      },
      "cell_type": "code",
      "source": "num",
      "execution_count": 15,
      "outputs": [
        {
          "execution_count": 15,
          "output_type": "execute_result",
          "data": {
            "text/plain": "{1, 2, 4, 6}"
          },
          "metadata": {}
        }
      ]
    },
    {
      "metadata": {},
      "cell_type": "markdown",
      "source": "`pop()`\n* here, it does not take an argument. Because a set doesn’t support indexing\n* it pops out an arbitrary item. \n* we will not be able to determine which element of the set will be removed using the `pop()` method. In case of list, the last element of the list gets popped when the pop() method is used. "
    },
    {
      "metadata": {
        "trusted": false
      },
      "cell_type": "code",
      "source": "num = {13,12,21,43,16,25}",
      "execution_count": 22,
      "outputs": []
    },
    {
      "metadata": {
        "scrolled": true,
        "trusted": false
      },
      "cell_type": "code",
      "source": "num.pop()",
      "execution_count": 21,
      "outputs": [
        {
          "ename": "KeyError",
          "evalue": "'pop from an empty set'",
          "output_type": "error",
          "traceback": [
            "\u001b[1;31m---------------------------------------------------------------------------\u001b[0m",
            "\u001b[1;31mKeyError\u001b[0m                                  Traceback (most recent call last)",
            "\u001b[1;32m<ipython-input-21-03a12495f7f5>\u001b[0m in \u001b[0;36m<module>\u001b[1;34m()\u001b[0m\n\u001b[1;32m----> 1\u001b[1;33m \u001b[0mnum\u001b[0m\u001b[1;33m.\u001b[0m\u001b[0mpop\u001b[0m\u001b[1;33m(\u001b[0m\u001b[1;33m)\u001b[0m\u001b[1;33m\u001b[0m\u001b[0m\n\u001b[0m",
            "\u001b[1;31mKeyError\u001b[0m: 'pop from an empty set'"
          ]
        }
      ]
    },
    {
      "metadata": {},
      "cell_type": "markdown",
      "source": "We can also remove all items from a set using `clear()`."
    },
    {
      "metadata": {},
      "cell_type": "markdown",
      "source": "`clear()`\n* It empties the set in Python."
    },
    {
      "metadata": {
        "trusted": false
      },
      "cell_type": "code",
      "source": "num = {13,12,21,43,16,25}",
      "execution_count": 4,
      "outputs": []
    },
    {
      "metadata": {
        "scrolled": false,
        "trusted": false
      },
      "cell_type": "code",
      "source": "num.clear()",
      "execution_count": 5,
      "outputs": []
    },
    {
      "metadata": {
        "scrolled": true,
        "trusted": false
      },
      "cell_type": "code",
      "source": "num",
      "execution_count": 6,
      "outputs": [
        {
          "execution_count": 6,
          "output_type": "execute_result",
          "data": {
            "text/plain": "set()"
          },
          "metadata": {}
        }
      ]
    },
    {
      "metadata": {},
      "cell_type": "markdown",
      "source": "**frozensets**  \n(creating immutable sets)  "
    },
    {
      "metadata": {
        "trusted": true
      },
      "cell_type": "code",
      "source": "S = frozenset([1,2,3])\nprint(S)",
      "execution_count": 1,
      "outputs": [
        {
          "output_type": "stream",
          "text": "frozenset({1, 2, 3})\n",
          "name": "stdout"
        }
      ]
    },
    {
      "metadata": {},
      "cell_type": "markdown",
      "source": "https://realpython.com/python-sets/  \nhttps://www.programiz.com/python-programming/set  \nhttps://stackabuse.com/sets-in-python/  "
    },
    {
      "metadata": {},
      "cell_type": "markdown",
      "source": "## Data types Tree"
    },
    {
      "metadata": {},
      "cell_type": "markdown",
      "source": "![Imgur](https://i.imgur.com/VXwzhyT.jpg)"
    },
    {
      "metadata": {},
      "cell_type": "markdown",
      "source": "## Queues(FIFO) and Stacks(LIFO)"
    },
    {
      "metadata": {
        "run_control": {
          "marked": false
        },
        "trusted": true
      },
      "cell_type": "code",
      "source": "\"\"\" A Queue of Groceries to Put Away \"\"\"\n# queue is a not built-in datatype\n# create a new queue object\nimport queue \nq = queue.Queue() # create a new object by calling new Queue() custroctor\nprint(q.empty())\n\n# put bags into the queue\nq.put('bag1')\nprint(q.empty())\nq.put('bag2')\nq.put('bag3')\n\n# get bags from the queue in FIFO order\nprint(q.get())\nprint(q.get())\nprint(q.get())\n# q.get() # causes an error: blocking method, the program will wait until method completes before continuiing execution\n# (restart the shell) \n\n# create a new queue to hold two items\nq = queue.Queue(2)\nprint(q.empty())\n\n# put two bags into the two-item queue\nq.put('bag1')\nprint(q.full())\nq.put('bag2')\nprint(q.full())\n\n# try to put an extra bag into the queue\nq.put_nowait('bag3') # causes an error\n",
      "execution_count": null,
      "outputs": []
    },
    {
      "metadata": {
        "trusted": true
      },
      "cell_type": "code",
      "source": "\"\"\" A Stack of Bills to Pay \"\"\"\n# python doesn't has built-n stack module, we can use list instead\n# create a list to use as the stack\nstack = list()\n\n# add some bills to the stack\nstack.append('bill1')\nstack.append('bill2')\n\n# remove the top bill to pay it\nprint(stack.pop())\n\n# add two more bills to the stack\nstack.append('bill3')\nstack.append('bill4')\n\n# remove bills from top to bottom\nprint(stack.pop())\nprint(stack.pop())\nprint(stack.pop())\nstack.pop() # causes Indexerror exception\n",
      "execution_count": null,
      "outputs": []
    },
    {
      "metadata": {},
      "cell_type": "markdown",
      "source": "## Type conversion"
    },
    {
      "metadata": {},
      "cell_type": "markdown",
      "source": "### Implicit type conversion"
    },
    {
      "metadata": {
        "trusted": false
      },
      "cell_type": "code",
      "source": "int1 = 4\nfloat1 = int1 + 2.1 # 4 converted to float\n# str1 = \"My int:\" + int1 # Error: no implicit type conversion from int to string\nint2 = 4 + True # 5: bool is implicitly converted to int",
      "execution_count": null,
      "outputs": []
    },
    {
      "metadata": {},
      "cell_type": "markdown",
      "source": "### Explicit type conversion"
    },
    {
      "metadata": {
        "trusted": false
      },
      "cell_type": "code",
      "source": "str1 = \"My int:\" + str(int1)\nv1 = int(2.7) # 2\nv2 = int(-3.9) # -3\nv3 = int(\"2\") # 2\nv4 = int(\"11\", 16) # 17, base 16\nv5 = long(2) # this supports only in python 2 vesion\nv6 = float(2) # 2.0\nv7 = float(\"2.7\") # 2.7\nv8 = float(\"2.7E-2\") # 0.027\nv9 = float(False) # 0.0\nvA = float(True) # 1.0\nvB = str(4.5) # \"4.5\"\nvC = str([1, 3, 5]) # \"[1, 3, 5]\"\nvD = bool(0) # False; bool fn since Python 2.2.1\nvE = bool(3) # True\nvF = bool([]) # False - empty list\nvG = bool([False]) # True - non-empty list\nvH = bool({}) # False - empty dict; same for empty tuple\nvI = bool(\"\") # False - empty string\nvJ = bool(\" \") # True - non-empty string\nvK = bool(None) # False\nvL = bool(len) # True\nvM = set([1, 2])\nvN = list(vM)\nvO = list({1: \"a\", 2: \"b\"}) # dict -> list of keys\nvP = tuple(vN)\nvQ = list(\"abc\") # ['a', 'b', 'c']\nprint v1, v2, v3, type(v1), type(v2), type(v3)",
      "execution_count": null,
      "outputs": []
    },
    {
      "metadata": {},
      "cell_type": "markdown",
      "source": "<span style=\"color:red; font-family:Comic Sans MS\">References</span>  \n<a href=\"https://www.programiz.com\" target=\"_blank\">https://www.programiz.com</a>  \nhttps://realpython.com/python-data-types/#strings  "
    },
    {
      "metadata": {},
      "cell_type": "markdown",
      "source": "<span style=\"color:red; font-family:brandon\">Further  Resources</span>  \n<a href=\"https://realpython.com/python-variables/\" target=\"_blank\">https://realpython.com/python-variables/</a>  \n<a href=\"https://realpython.com/python-data-types/\" target=\"_blank\">https://realpython.com/python-data-types/</a>  \n<a href=\"https://realpython.com/python-operators-expressions/\" target=\"_blank\">https://realpython.com/python-operators-expressions/</a>  \n<a href=\"https://realpython.com/python-strings/\" target=\"_blank\">https://realpython.com/python-strings/</a>  \n  \n<a href=\"https://www.datacamp.com/community/tutorials/data-structures-python\" target=\"_blank\">https://www.datacamp.com/community/tutorials/data-structures-python</a>  "
    }
  ],
  "metadata": {
    "kernelspec": {
      "name": "python3",
      "display_name": "Python 3",
      "language": "python"
    },
    "language_info": {
      "mimetype": "text/x-python",
      "nbconvert_exporter": "python",
      "name": "python",
      "pygments_lexer": "ipython3",
      "version": "3.5.4",
      "file_extension": ".py",
      "codemirror_mode": {
        "version": 3,
        "name": "ipython"
      }
    },
    "toc": {
      "nav_menu": {
        "width": "178px",
        "height": "266px"
      },
      "number_sections": true,
      "sideBar": true,
      "skip_h1_title": false,
      "base_numbering": 1,
      "title_cell": "Table of Contents",
      "title_sidebar": "Contents",
      "toc_cell": true,
      "toc_position": {},
      "toc_section_display": "block",
      "toc_window_display": false
    }
  },
  "nbformat": 4,
  "nbformat_minor": 2
}