{
  "cells": [
    {
      "metadata": {},
      "cell_type": "markdown",
      "source": "## Functions"
    },
    {
      "metadata": {},
      "cell_type": "markdown",
      "source": "* function is a group of related statements that perform a specific task.\n* break our program into smaller and modular chunks\n* in-built functions and user defined functions"
    },
    {
      "metadata": {},
      "cell_type": "markdown",
      "source": "**Syntax of Function**  \n`def function_name(parameters):\n\t\"\"\"docstring\"\"\"\n\tstatement(s)\n    return r`"
    },
    {
      "metadata": {},
      "cell_type": "markdown",
      "source": "https://www.programiz.com/python-programming/function"
    },
    {
      "metadata": {},
      "cell_type": "markdown",
      "source": "<font size=\"3\"><strong>*args and **kwargs</font>"
    },
    {
      "metadata": {},
      "cell_type": "markdown",
      "source": "* To get infinite arguments, use *args and for infinite keyword arguments, use *kwargs.\n* The “args” and “kwargs” words are not important. That’s just convention. "
    },
    {
      "metadata": {
        "trusted": true
      },
      "cell_type": "code",
      "source": "# Let’s take a look at a quick example:\ndef many(*args, **kwargs):\n    print(args)\n    print(kwargs)",
      "execution_count": 1,
      "outputs": []
    },
    {
      "metadata": {
        "trusted": true
      },
      "cell_type": "code",
      "source": "many(1, 2, 3, name=\"Mike\", job=\"programmer\")",
      "execution_count": 2,
      "outputs": [
        {
          "output_type": "stream",
          "text": "(1, 2, 3)\n{'name': 'Mike', 'job': 'programmer'}\n",
          "name": "stdout"
        }
      ]
    },
    {
      "metadata": {},
      "cell_type": "markdown",
      "source": "As you can see, the args parameter turns into a tuple and kwargs turns into a dictionary. You will see this type of coding used in the Python source and in many 3rd party Python packages"
    },
    {
      "metadata": {
        "scrolled": true,
        "trusted": true
      },
      "cell_type": "code",
      "source": "dictionary = {\"a\": 1, \"b\": 2}\n\ndef someFunction(a, b):\n    print(a + b)\n    return\n    \n# these do the same thing:\nprint(someFunction(**dictionary))\nprint(someFunction(a=1, b=2))",
      "execution_count": 2,
      "outputs": [
        {
          "output_type": "stream",
          "text": "3\nNone\n3\nNone\n",
          "name": "stdout"
        }
      ]
    },
    {
      "metadata": {},
      "cell_type": "markdown",
      "source": "https://www.listendata.com/2019/07/args-and-kwargs-in-python.html?  "
    },
    {
      "metadata": {},
      "cell_type": "markdown",
      "source": "**Python's functions are first-class objects:**  \nhttps://dbader.org/blog/python-first-class-functions  "
    },
    {
      "metadata": {},
      "cell_type": "markdown",
      "source": "## lambda expressions (ananymous functions)"
    },
    {
      "metadata": {},
      "cell_type": "markdown",
      "source": "* these are single line expressions (which returns or evaluates a value)\n* function that is defined without a name.\n* While normal functions are defined using the def keyword, in Python anonymous functions are defined using the lambda keyword.\n* use lambda functions when we require a nameless function for a limited period of time even without assigning to a variable.\n1. lambda is a keyword that returns a function object and does not create a 'name'. Whereas def creates name in the local namespace\n2. lambda functions are good for situations where you want to minimize lines of code as you can create function in one line of python code. It is not possible using def \n3. lambda functions are somewhat less readable for most Python users.\n4. lambda functions can be better for one time usage, unless assigned to a variable name.\n5. This function can have any number of arguements but, can have just one expression. \n"
    },
    {
      "metadata": {},
      "cell_type": "markdown",
      "source": "**Syntax of Lambda Function in python**  \n`lambda arguments: expression`  "
    },
    {
      "metadata": {
        "trusted": true
      },
      "cell_type": "code",
      "source": "def times2(var):\n    return var*2\n\ntimes2(2)",
      "execution_count": 1,
      "outputs": [
        {
          "output_type": "execute_result",
          "execution_count": 1,
          "data": {
            "text/plain": "4"
          },
          "metadata": {}
        }
      ]
    },
    {
      "metadata": {
        "trusted": true
      },
      "cell_type": "code",
      "source": "timesLambda = lambda var: var*2\ntimesLambda(2)",
      "execution_count": 2,
      "outputs": [
        {
          "output_type": "execute_result",
          "execution_count": 2,
          "data": {
            "text/plain": "4"
          },
          "metadata": {}
        }
      ]
    },
    {
      "metadata": {
        "trusted": true
      },
      "cell_type": "code",
      "source": "# Lambdas with no arguments\nf = lambda: True\nf()",
      "execution_count": 3,
      "outputs": [
        {
          "output_type": "execute_result",
          "execution_count": 3,
          "data": {
            "text/plain": "True"
          },
          "metadata": {}
        }
      ]
    },
    {
      "metadata": {
        "trusted": true
      },
      "cell_type": "code",
      "source": "# Lambdas with multiple arguments\nf = lambda x, y: x * y\nprint(f(5, 2))\nsum = lambda a, b, c: a + b + c\nprint(sum(1, 2, 3))",
      "execution_count": 7,
      "outputs": [
        {
          "output_type": "stream",
          "text": "10\n6\n",
          "name": "stdout"
        }
      ]
    },
    {
      "metadata": {
        "trusted": true
      },
      "cell_type": "code",
      "source": "lambda x: x + 1 \n# You can apply the function above to an argument by surrounding the function and its argument with parentheses\n(lambda x: x + 1)(2)",
      "execution_count": 12,
      "outputs": [
        {
          "output_type": "execute_result",
          "execution_count": 12,
          "data": {
            "text/plain": "3"
          },
          "metadata": {}
        }
      ]
    },
    {
      "metadata": {
        "scrolled": true,
        "trusted": true
      },
      "cell_type": "code",
      "source": "(lambda x, y: x + y)(2, 3)",
      "execution_count": 13,
      "outputs": [
        {
          "output_type": "execute_result",
          "execution_count": 13,
          "data": {
            "text/plain": "5"
          },
          "metadata": {}
        }
      ]
    },
    {
      "metadata": {
        "trusted": true
      },
      "cell_type": "code",
      "source": "(lambda x, y, z: x + y + z)(1, 2, 3)\n# 6",
      "execution_count": 15,
      "outputs": [
        {
          "output_type": "execute_result",
          "execution_count": 15,
          "data": {
            "text/plain": "6"
          },
          "metadata": {}
        }
      ]
    },
    {
      "metadata": {
        "trusted": true
      },
      "cell_type": "code",
      "source": "(lambda x, y, z=3: x + y + z)(1, 2)\n# 6",
      "execution_count": 16,
      "outputs": [
        {
          "output_type": "execute_result",
          "execution_count": 16,
          "data": {
            "text/plain": "6"
          },
          "metadata": {}
        }
      ]
    },
    {
      "metadata": {
        "trusted": true
      },
      "cell_type": "code",
      "source": "(lambda x, y, z=3: x + y + z)(1, y=2)\n# 6",
      "execution_count": 17,
      "outputs": [
        {
          "output_type": "execute_result",
          "execution_count": 17,
          "data": {
            "text/plain": "6"
          },
          "metadata": {}
        }
      ]
    },
    {
      "metadata": {
        "trusted": true
      },
      "cell_type": "code",
      "source": "(lambda x, *, y=0, z=0: x + y + z)(1, y=2, z=3)\n# 6",
      "execution_count": 21,
      "outputs": [
        {
          "output_type": "execute_result",
          "execution_count": 21,
          "data": {
            "text/plain": "6"
          },
          "metadata": {}
        }
      ]
    },
    {
      "metadata": {
        "scrolled": false,
        "trusted": true
      },
      "cell_type": "code",
      "source": "f = lambda x: 'big' if x > 100 else 'small' # They return a value, and can be used in a lambda.\nf(25)",
      "execution_count": 25,
      "outputs": [
        {
          "output_type": "execute_result",
          "execution_count": 25,
          "data": {
            "text/plain": "'small'"
          },
          "metadata": {}
        }
      ]
    },
    {
      "metadata": {
        "trusted": true
      },
      "cell_type": "code",
      "source": "def func(x): return x ** 3\nprint(func(5))\nlamb = lambda x: x ** 3\nprint(lamb(5))\n\ndef f(x, y, z): return x + y + z\nprint(f(2, 30, 400))\nf = lambda x, y, z: x + y + z\nprint(f(2, 30, 400))",
      "execution_count": 28,
      "outputs": [
        {
          "output_type": "stream",
          "text": "125\n125\n432\n432\n",
          "name": "stdout"
        }
      ]
    },
    {
      "metadata": {},
      "cell_type": "markdown",
      "source": "* Its a good practice to further improvise by using python built-in functions like `map` `filter` and list comprehensions "
    },
    {
      "metadata": {},
      "cell_type": "markdown",
      "source": "## map,  filter and reduce"
    },
    {
      "metadata": {},
      "cell_type": "markdown",
      "source": "| Function      \t| Description                                                             \t|  \n|---------------\t|-------------------------------------------------------------------------\t|  \n| `filter()`    \t| Filters elements from an iterable                                       \t|\n| `map()`       \t| Applies a function to every item of an iterable                         \t|\n"
    },
    {
      "metadata": {},
      "cell_type": "markdown",
      "source": "**`map()`**"
    },
    {
      "metadata": {
        "trusted": true
      },
      "cell_type": "code",
      "source": "seq = [1,2,3,4,5]\n\nmap(times2,seq)\n\nlist(map(times2,seq))\n\nlist(map(lambda var: var*2,seq))",
      "execution_count": 1,
      "outputs": [
        {
          "output_type": "error",
          "ename": "NameError",
          "evalue": "name 'times2' is not defined",
          "traceback": [
            "\u001b[0;31m---------------------------------------------------------------------------\u001b[0m",
            "\u001b[0;31mNameError\u001b[0m                                 Traceback (most recent call last)",
            "\u001b[0;32m<ipython-input-1-1a52c7ea434c>\u001b[0m in \u001b[0;36m<module>\u001b[0;34m\u001b[0m\n\u001b[1;32m      1\u001b[0m \u001b[0mseq\u001b[0m \u001b[0;34m=\u001b[0m \u001b[0;34m[\u001b[0m\u001b[0;36m1\u001b[0m\u001b[0;34m,\u001b[0m\u001b[0;36m2\u001b[0m\u001b[0;34m,\u001b[0m\u001b[0;36m3\u001b[0m\u001b[0;34m,\u001b[0m\u001b[0;36m4\u001b[0m\u001b[0;34m,\u001b[0m\u001b[0;36m5\u001b[0m\u001b[0;34m]\u001b[0m\u001b[0;34m\u001b[0m\u001b[0m\n\u001b[1;32m      2\u001b[0m \u001b[0;34m\u001b[0m\u001b[0m\n\u001b[0;32m----> 3\u001b[0;31m \u001b[0mmap\u001b[0m\u001b[0;34m(\u001b[0m\u001b[0mtimes2\u001b[0m\u001b[0;34m,\u001b[0m\u001b[0mseq\u001b[0m\u001b[0;34m)\u001b[0m\u001b[0;34m\u001b[0m\u001b[0m\n\u001b[0m\u001b[1;32m      4\u001b[0m \u001b[0;34m\u001b[0m\u001b[0m\n\u001b[1;32m      5\u001b[0m \u001b[0mlist\u001b[0m\u001b[0;34m(\u001b[0m\u001b[0mmap\u001b[0m\u001b[0;34m(\u001b[0m\u001b[0mtimes2\u001b[0m\u001b[0;34m,\u001b[0m\u001b[0mseq\u001b[0m\u001b[0;34m)\u001b[0m\u001b[0;34m)\u001b[0m\u001b[0;34m\u001b[0m\u001b[0m\n",
            "\u001b[0;31mNameError\u001b[0m: name 'times2' is not defined"
          ]
        }
      ]
    },
    {
      "metadata": {
        "trusted": true
      },
      "cell_type": "code",
      "source": "nums = [1, 2, 3, 4, 5]\n# this function will calculate square\ndef square_num(x): \n    return x**2\n# non-pythonic approach\nsquares = []\nfor num in nums:\n    squares.append(square_num(num))\n \nprint('Non-Pythonic Approach: ', squares)\n# pythonic approach\nx = map(square_num, nums)\nprint('Pythonic Approach: ', list(x))",
      "execution_count": 1,
      "outputs": [
        {
          "output_type": "stream",
          "text": "Non-Pythonic Approach:  [1, 4, 9, 16, 25]\nPythonic Approach:  [1, 4, 9, 16, 25]\n",
          "name": "stdout"
        }
      ]
    },
    {
      "metadata": {},
      "cell_type": "markdown",
      "source": "**`filter()`**"
    },
    {
      "metadata": {
        "trusted": false
      },
      "cell_type": "code",
      "source": "filter(lambda item: item%2 == 0,seq)\n\nlist(filter(lambda item: item%2 == 0,seq))",
      "execution_count": 2,
      "outputs": [
        {
          "execution_count": 2,
          "output_type": "execute_result",
          "data": {
            "text/plain": "[2, 4]"
          },
          "metadata": {}
        }
      ]
    },
    {
      "metadata": {
        "trusted": true
      },
      "cell_type": "code",
      "source": "numbers = [1, 2, 3, 4, 5, 6, 7, 8, 9, 10]\n# Will return true if input number is even\ndef even(x):\n    return x % 2 == 0\n# non-pythonic approach\neven_nums = []\nfor num in numbers:\n    if even(num):\n        even_nums.append(num)\n \nprint('Non-Pythonic Approach: ', even_nums)\n# pythonic approach\neven_n = filter(even, numbers)\nprint('Pythonic Approach: ', list(even_n))",
      "execution_count": 2,
      "outputs": [
        {
          "output_type": "stream",
          "text": "Non-Pythonic Approach:  [2, 4, 6, 8, 10]\nPythonic Approach:  [2, 4, 6, 8, 10]\n",
          "name": "stdout"
        }
      ]
    },
    {
      "metadata": {},
      "cell_type": "markdown",
      "source": "**`reduce()`**"
    },
    {
      "metadata": {},
      "cell_type": "markdown",
      "source": "* The function `reduce(func, seq)` continually applies the function `func()` to the sequence `seq`. \n* `reduce` is present in the `functools` library in Python 3.0. \n* It accepts an iterator to process, but it's not an iterator itself. It returns a single result:"
    },
    {
      "metadata": {
        "trusted": true
      },
      "cell_type": "code",
      "source": "from functools import reduce\nres= reduce(lambda x,y: x+y, [47,11,42,13])\nprint(res)",
      "execution_count": 1,
      "outputs": [
        {
          "output_type": "stream",
          "text": "113\n",
          "name": "stdout"
        }
      ]
    },
    {
      "metadata": {},
      "cell_type": "markdown",
      "source": "![Imgur](https://i.imgur.com/4gao4Vo.png)"
    },
    {
      "metadata": {},
      "cell_type": "markdown",
      "source": "If seq = [ s1, s2, s3, ... , sn ], calling `reduce(func, seq)` works like this:\n![Imgur](https://i.imgur.com/JwHH5OX.png)"
    },
    {
      "metadata": {
        "scrolled": true,
        "trusted": true
      },
      "cell_type": "code",
      "source": "f = lambda a,b: a if (a > b) else b\nreduce(f, [47,11,42,102,13])",
      "execution_count": 2,
      "outputs": [
        {
          "output_type": "execute_result",
          "execution_count": 2,
          "data": {
            "text/plain": "102"
          },
          "metadata": {}
        }
      ]
    },
    {
      "metadata": {},
      "cell_type": "markdown",
      "source": "https://medium.com/@happymishra66/lambda-map-and-filter-in-python-4935f248593  \nhttps://www.analyticsvidhya.com/blog/2020/03/what-are-lambda-functions-in-python/  "
    },
    {
      "metadata": {},
      "cell_type": "markdown",
      "source": "**List Comprehension vs. For Loop vs. Lambda + map()**"
    },
    {
      "metadata": {},
      "cell_type": "markdown",
      "source": "![Imgur](https://i.imgur.com/VQ7AEK5.jpg)"
    },
    {
      "metadata": {},
      "cell_type": "markdown",
      "source": "## Zip()"
    },
    {
      "metadata": {},
      "cell_type": "markdown",
      "source": "| Function      \t| Description                                                             \t|  \n|---------------\t|-------------------------------------------------------------------------\t|  \n| `zip()`       \t| Creates an iterator that aggregates elements from iterables             \t|  \n\n* zip takes n number of iterables and returns list of tuples.  \n"
    },
    {
      "metadata": {
        "scrolled": true,
        "run_control": {
          "marked": false
        },
        "trusted": false
      },
      "cell_type": "code",
      "source": "list_a = [1, 2, 3, 4, 5]\nlist_b = ['a', 'b', 'c', 'd', 'e']\n\nzipped_list = zip(list_a, list_b)\n\nprint (list(zipped_list)) # [(1, 'a'), (2, 'b'), (3, 'c'), (4, 'd'), (5, 'e')]",
      "execution_count": 2,
      "outputs": [
        {
          "name": "stdout",
          "output_type": "stream",
          "text": "[(1, 'a'), (2, 'b'), (3, 'c'), (4, 'd'), (5, 'e')]\n"
        }
      ]
    },
    {
      "metadata": {
        "run_control": {
          "marked": false
        },
        "scrolled": true,
        "trusted": true
      },
      "cell_type": "code",
      "source": "first = [1, 3, 8, 4, 9]\nsecond = [2, 2, 7, 5, 8]\n# Iterate over two or more list at the same time\nfor x, y in zip(first, second):\n    print(x + y)",
      "execution_count": 3,
      "outputs": [
        {
          "output_type": "stream",
          "text": "3\n5\n15\n9\n17\n",
          "name": "stdout"
        }
      ]
    },
    {
      "metadata": {},
      "cell_type": "markdown",
      "source": "## Unpacking"
    },
    {
      "metadata": {},
      "cell_type": "markdown",
      "source": "* Unpacking lists, tuples and dictionaries"
    },
    {
      "metadata": {},
      "cell_type": "markdown",
      "source": "**On lists**"
    },
    {
      "metadata": {
        "trusted": false
      },
      "cell_type": "code",
      "source": "names = [\"John\", \"James\", \"Frank\"]\nnums = [111,222,333]\nprint(names)\nprint(nums)",
      "execution_count": 4,
      "outputs": [
        {
          "name": "stdout",
          "output_type": "stream",
          "text": "['John', 'James', 'Frank']\n[111, 222, 333]\n"
        }
      ]
    },
    {
      "metadata": {
        "trusted": false
      },
      "cell_type": "code",
      "source": "name1, name2, name3 = names\nprint(name1)\nprint(name3)",
      "execution_count": 5,
      "outputs": [
        {
          "name": "stdout",
          "output_type": "stream",
          "text": "John\nFrank\n"
        }
      ]
    },
    {
      "metadata": {
        "trusted": false
      },
      "cell_type": "code",
      "source": "num1, num2, num3 = nums\nprint(num2)\nprint(num3)",
      "execution_count": 6,
      "outputs": [
        {
          "name": "stdout",
          "output_type": "stream",
          "text": "222\n333\n"
        }
      ]
    },
    {
      "metadata": {},
      "cell_type": "markdown",
      "source": "**On tuple**"
    },
    {
      "metadata": {
        "trusted": false
      },
      "cell_type": "code",
      "source": "tple = (5,8,-9)\nprint(tple)\ntpl1, tpl2, tpl3 =(5,8,-9)\nprint(tpl1, tpl2, tpl3, sep=\"\\n\")",
      "execution_count": 7,
      "outputs": [
        {
          "name": "stdout",
          "output_type": "stream",
          "text": "(5, 8, -9)\n5\n8\n-9\n"
        }
      ]
    },
    {
      "metadata": {},
      "cell_type": "markdown",
      "source": "**On Dictionaries **"
    },
    {
      "metadata": {
        "trusted": false
      },
      "cell_type": "code",
      "source": "d = {34:\"thirty four\", \"letter\": 'A', 5+6j: -98}\nprint(d)",
      "execution_count": 17,
      "outputs": [
        {
          "name": "stdout",
          "output_type": "stream",
          "text": "{34: 'thirty four', 'letter': 'A', (5+6j): -98}\n"
        }
      ]
    },
    {
      "metadata": {
        "trusted": false
      },
      "cell_type": "code",
      "source": "d1, d2, d3 = d\nprint(d3, d1, sep=\"\\n\")\n# only keys will come",
      "execution_count": 34,
      "outputs": [
        {
          "name": "stdout",
          "output_type": "stream",
          "text": "(5+6j)\n34\n"
        }
      ]
    },
    {
      "metadata": {
        "trusted": false
      },
      "cell_type": "code",
      "source": "d1, d2, d3 = d.items()\nprint(d1)\nprint(d3)",
      "execution_count": 32,
      "outputs": [
        {
          "name": "stdout",
          "output_type": "stream",
          "text": "(34, 'thirty four')\n((5+6j), -98)\n"
        }
      ]
    },
    {
      "metadata": {
        "trusted": false
      },
      "cell_type": "code",
      "source": "d1, d2, d3 = d.values()\nprint(d2)\nprint(d1)",
      "execution_count": 33,
      "outputs": [
        {
          "name": "stdout",
          "output_type": "stream",
          "text": "A\nthirty four\n"
        }
      ]
    },
    {
      "metadata": {
        "trusted": true
      },
      "cell_type": "code",
      "source": "a, b, *c = range(8)\nprint(a)\nprint(b)\nprint(c)",
      "execution_count": 1,
      "outputs": [
        {
          "output_type": "stream",
          "text": "0\n1\n[2, 3, 4, 5, 6, 7]\n",
          "name": "stdout"
        }
      ]
    },
    {
      "metadata": {},
      "cell_type": "markdown",
      "source": "## magic functions"
    },
    {
      "metadata": {},
      "cell_type": "markdown",
      "source": " * IPython has a set of predefined ‘magic functions’  \n * **Line magics:** line-oriented, indicate with `%`   \n ex: %timeit  \n * **Cell magics:** cell-oriented, indicate with `%%`   \n ex: %%timeit  "
    },
    {
      "metadata": {
        "scrolled": true,
        "trusted": true
      },
      "cell_type": "code",
      "source": "# available magic functions\n%lsmagic",
      "execution_count": 2,
      "outputs": [
        {
          "output_type": "execute_result",
          "execution_count": 2,
          "data": {
            "application/json": {
              "cell": {
                "markdown": "DisplayMagics",
                "prun": "ExecutionMagics",
                "file": "Other",
                "!": "OSMagics",
                "capture": "ExecutionMagics",
                "timeit": "ExecutionMagics",
                "script": "ScriptMagics",
                "ruby": "Other",
                "system": "OSMagics",
                "perl": "Other",
                "html": "DisplayMagics",
                "bash": "Other",
                "HTML": "Other",
                "python": "Other",
                "SVG": "Other",
                "javascript": "DisplayMagics",
                "js": "DisplayMagics",
                "writefile": "OSMagics",
                "pypy": "Other",
                "python3": "Other",
                "python2": "Other",
                "latex": "DisplayMagics",
                "sx": "OSMagics",
                "svg": "DisplayMagics",
                "sh": "Other",
                "time": "ExecutionMagics",
                "debug": "ExecutionMagics"
              },
              "line": {
                "psource": "NamespaceMagics",
                "logstart": "LoggingMagics",
                "less": "KernelMagics",
                "loadpy": "CodeMagics",
                "colors": "BasicMagics",
                "lsmagic": "BasicMagics",
                "who_ls": "NamespaceMagics",
                "lf": "Other",
                "ll": "Other",
                "popd": "OSMagics",
                "lk": "Other",
                "ls": "Other",
                "save": "CodeMagics",
                "tb": "ExecutionMagics",
                "lx": "Other",
                "pylab": "PylabMagics",
                "killbgscripts": "ScriptMagics",
                "quickref": "BasicMagics",
                "cd": "OSMagics",
                "magic": "BasicMagics",
                "dhist": "OSMagics",
                "edit": "KernelMagics",
                "logstop": "LoggingMagics",
                "gui": "BasicMagics",
                "alias_magic": "BasicMagics",
                "debug": "ExecutionMagics",
                "page": "BasicMagics",
                "logstate": "LoggingMagics",
                "ed": "Other",
                "pushd": "OSMagics",
                "timeit": "ExecutionMagics",
                "set_env": "OSMagics",
                "rep": "Other",
                "hist": "Other",
                "qtconsole": "KernelMagics",
                "rm": "Other",
                "dirs": "OSMagics",
                "run": "ExecutionMagics",
                "reset_selective": "NamespaceMagics",
                "pinfo2": "NamespaceMagics",
                "matplotlib": "PylabMagics",
                "unload_ext": "ExtensionMagics",
                "doctest_mode": "BasicMagics",
                "logoff": "LoggingMagics",
                "reload_ext": "ExtensionMagics",
                "pdb": "ExecutionMagics",
                "load": "CodeMagics",
                "pprint": "BasicMagics",
                "autosave": "KernelMagics",
                "ldir": "Other",
                "pastebin": "CodeMagics",
                "prun": "ExecutionMagics",
                "cp": "Other",
                "autocall": "AutoMagics",
                "bookmark": "OSMagics",
                "connect_info": "KernelMagics",
                "mkdir": "Other",
                "system": "OSMagics",
                "whos": "NamespaceMagics",
                "rmdir": "Other",
                "automagic": "AutoMagics",
                "store": "StoreMagics",
                "more": "KernelMagics",
                "pdef": "NamespaceMagics",
                "precision": "BasicMagics",
                "pinfo": "NamespaceMagics",
                "pwd": "OSMagics",
                "psearch": "NamespaceMagics",
                "reset": "NamespaceMagics",
                "recall": "HistoryMagics",
                "xdel": "NamespaceMagics",
                "xmode": "BasicMagics",
                "cat": "Other",
                "mv": "Other",
                "rerun": "HistoryMagics",
                "logon": "LoggingMagics",
                "history": "HistoryMagics",
                "pycat": "OSMagics",
                "pip": "BasicMagics",
                "unalias": "OSMagics",
                "env": "OSMagics",
                "load_ext": "ExtensionMagics",
                "config": "ConfigMagics",
                "profile": "BasicMagics",
                "pfile": "NamespaceMagics",
                "who": "NamespaceMagics",
                "notebook": "BasicMagics",
                "man": "KernelMagics",
                "sx": "OSMagics",
                "macro": "ExecutionMagics",
                "clear": "KernelMagics",
                "alias": "OSMagics",
                "time": "ExecutionMagics",
                "sc": "OSMagics",
                "rehashx": "OSMagics",
                "pdoc": "NamespaceMagics"
              }
            },
            "text/plain": "Available line magics:\n%alias  %alias_magic  %autocall  %automagic  %autosave  %bookmark  %cat  %cd  %clear  %colors  %config  %connect_info  %cp  %debug  %dhist  %dirs  %doctest_mode  %ed  %edit  %env  %gui  %hist  %history  %killbgscripts  %ldir  %less  %lf  %lk  %ll  %load  %load_ext  %loadpy  %logoff  %logon  %logstart  %logstate  %logstop  %ls  %lsmagic  %lx  %macro  %magic  %man  %matplotlib  %mkdir  %more  %mv  %notebook  %page  %pastebin  %pdb  %pdef  %pdoc  %pfile  %pinfo  %pinfo2  %popd  %pprint  %precision  %profile  %prun  %psearch  %psource  %pushd  %pwd  %pycat  %pylab  %qtconsole  %quickref  %recall  %rehashx  %reload_ext  %rep  %rerun  %reset  %reset_selective  %rm  %rmdir  %run  %save  %sc  %set_env  %store  %sx  %system  %tb  %time  %timeit  %unalias  %unload_ext  %who  %who_ls  %whos  %xdel  %xmode\n\nAvailable cell magics:\n%%!  %%HTML  %%SVG  %%bash  %%capture  %%debug  %%file  %%html  %%javascript  %%js  %%latex  %%markdown  %%perl  %%prun  %%pypy  %%python  %%python2  %%python3  %%ruby  %%script  %%sh  %%svg  %%sx  %%system  %%time  %%timeit  %%writefile\n\nAutomagic is ON, % prefix IS NOT needed for line magics."
          },
          "metadata": {}
        }
      ]
    },
    {
      "metadata": {
        "trusted": true
      },
      "cell_type": "code",
      "source": "%pwd # to know current/present working directory",
      "execution_count": 3,
      "outputs": [
        {
          "output_type": "execute_result",
          "execution_count": 3,
          "data": {
            "text/plain": "'/home/nbuser/library/03-FunctionsMapFilterAndLambdaExpressions'"
          },
          "metadata": {}
        }
      ]
    },
    {
      "metadata": {},
      "cell_type": "markdown",
      "source": "### `%timeit` magic function"
    },
    {
      "metadata": {
        "scrolled": true,
        "trusted": true
      },
      "cell_type": "code",
      "source": "%timeit range(10000)",
      "execution_count": 2,
      "outputs": [
        {
          "output_type": "stream",
          "text": "339 ns ± 18.7 ns per loop (mean ± std. dev. of 7 runs, 1000000 loops each)\n",
          "name": "stdout"
        }
      ]
    },
    {
      "metadata": {
        "scrolled": true,
        "trusted": true
      },
      "cell_type": "code",
      "source": "%%timeit \nx = range(10000)\nmax(x)",
      "execution_count": 11,
      "outputs": [
        {
          "output_type": "stream",
          "text": "418 µs ± 86.6 µs per loop (mean ± std. dev. of 7 runs, 1000 loops each)\n",
          "name": "stdout"
        }
      ]
    },
    {
      "metadata": {
        "scrolled": true,
        "trusted": true
      },
      "cell_type": "code",
      "source": "%matplotlib inline #your matplotlib graphs will be included in your notebook  i.e plot outputs appear and will be stored within the notebook.",
      "execution_count": 5,
      "outputs": [
        {
          "output_type": "stream",
          "text": "UsageError: unrecognized arguments: #your matplotlib graphs will be included in your notebook\n",
          "name": "stderr"
        }
      ]
    },
    {
      "metadata": {},
      "cell_type": "markdown",
      "source": "### loops vs list comprehensions vs numpy array"
    },
    {
      "metadata": {
        "trusted": true
      },
      "cell_type": "code",
      "source": "%%timeit\na = []\nfor i in range(1000):\n    a.append(4+i)",
      "execution_count": 4,
      "outputs": [
        {
          "output_type": "stream",
          "text": "744 µs ± 11.9 µs per loop (mean ± std. dev. of 7 runs, 1000 loops each)\n",
          "name": "stdout"
        }
      ]
    },
    {
      "metadata": {
        "trusted": true
      },
      "cell_type": "code",
      "source": "%timeit a = [4+i for i in range(1000)]",
      "execution_count": 5,
      "outputs": [
        {
          "output_type": "stream",
          "text": "500 µs ± 71.6 µs per loop (mean ± std. dev. of 7 runs, 1000 loops each)\n",
          "name": "stdout"
        }
      ]
    },
    {
      "metadata": {
        "trusted": true
      },
      "cell_type": "code",
      "source": "import numpy as np",
      "execution_count": 6,
      "outputs": []
    },
    {
      "metadata": {
        "trusted": true
      },
      "cell_type": "code",
      "source": "%timeit 4 + np.arange(1000)",
      "execution_count": 8,
      "outputs": [
        {
          "output_type": "stream",
          "text": "23 µs ± 733 ns per loop (mean ± std. dev. of 7 runs, 10000 loops each)\n",
          "name": "stdout"
        }
      ]
    },
    {
      "metadata": {},
      "cell_type": "markdown",
      "source": "****Note:**** *Here numpy takes least amount of time* "
    },
    {
      "metadata": {},
      "cell_type": "markdown",
      "source": "### simple calculations without functions vs with functions"
    },
    {
      "metadata": {
        "trusted": true
      },
      "cell_type": "code",
      "source": "%timeit 5 + 2",
      "execution_count": 9,
      "outputs": [
        {
          "output_type": "stream",
          "text": "89.1 ns ± 3.58 ns per loop (mean ± std. dev. of 7 runs, 10000000 loops each)\n",
          "name": "stdout"
        }
      ]
    },
    {
      "metadata": {
        "trusted": true
      },
      "cell_type": "code",
      "source": "def add2nums(a,b):\n    return a + b",
      "execution_count": 10,
      "outputs": []
    },
    {
      "metadata": {
        "trusted": true
      },
      "cell_type": "code",
      "source": "%timeit add2nums(5,2)",
      "execution_count": 11,
      "outputs": [
        {
          "output_type": "stream",
          "text": "674 ns ± 26.3 ns per loop (mean ± std. dev. of 7 runs, 1000000 loops each)\n",
          "name": "stdout"
        }
      ]
    },
    {
      "metadata": {},
      "cell_type": "markdown",
      "source": "****Note:**** *Dont make over complicated by putting them into functions if there is not necessity for simple operations* "
    },
    {
      "metadata": {},
      "cell_type": "markdown",
      "source": "https://ipython.readthedocs.io/en/stable/interactive/tutorial.html?highlight=Magic%20functions#magic-functions"
    },
    {
      "metadata": {},
      "cell_type": "markdown",
      "source": "## `dir` function"
    },
    {
      "metadata": {},
      "cell_type": "markdown",
      "source": "**View module content in python using `dir` function**  "
    },
    {
      "metadata": {},
      "cell_type": "markdown",
      "source": "https://www.dummies.com/programming/python/how-to-view-module-content-in-python/  "
    },
    {
      "metadata": {},
      "cell_type": "markdown",
      "source": "## How to retrieve source code of Python functions\n* using inspect package\n* `pip install inspect-it`\n* `import inspect`  \nhttps://opensource.com/article/18/5/how-retrieve-source-code-python-functions  "
    }
  ],
  "metadata": {
    "kernelspec": {
      "name": "python36",
      "display_name": "Python 3.6",
      "language": "python"
    },
    "language_info": {
      "mimetype": "text/x-python",
      "nbconvert_exporter": "python",
      "name": "python",
      "pygments_lexer": "ipython3",
      "version": "3.6.6",
      "file_extension": ".py",
      "codemirror_mode": {
        "version": 3,
        "name": "ipython"
      }
    },
    "toc": {
      "nav_menu": {},
      "number_sections": true,
      "sideBar": true,
      "skip_h1_title": false,
      "base_numbering": 1,
      "title_cell": "Table of Contents",
      "title_sidebar": "Contents",
      "toc_cell": false,
      "toc_position": {},
      "toc_section_display": true,
      "toc_window_display": false
    }
  },
  "nbformat": 4,
  "nbformat_minor": 2
}