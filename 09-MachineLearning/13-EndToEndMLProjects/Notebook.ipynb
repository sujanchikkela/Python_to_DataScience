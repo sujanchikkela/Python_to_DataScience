{
  "cells": [
    {
      "metadata": {},
      "cell_type": "markdown",
      "source": "![Imgur](https://i.imgur.com/ZJypn6y.jpg)  \n<sub>source: <a href=\"https://dzone.com/articles/machine-learning-in-a-box-week-2-project-methodolo-1\" target=\"_blank\">https://dzone.com/articles/machine-learning-in-a-box-week-2-project-methodolo-1</a></sub>     "
    },
    {
      "metadata": {},
      "cell_type": "markdown",
      "source": "**Python Cheat Sheet for Data Science**  \nhttps://elitedatascience.com/python-cheat-sheet     "
    },
    {
      "metadata": {},
      "cell_type": "markdown",
      "source": "https://elitedatascience.com/python-machine-learning-tutorial-scikit-learn"
    },
    {
      "metadata": {},
      "cell_type": "markdown",
      "source": "https://analyticsindiamag.com/start-building-first-machine-learning-project-famous-dataset/"
    },
    {
      "metadata": {},
      "cell_type": "markdown",
      "source": "**A Journey through Titanic**(*classification*)  \nhttps://www.kaggle.com/omarelgabry/a-journey-through-titanic  \nhttps://github.com/savarin/pyconuk-introtutorial  "
    },
    {
      "metadata": {},
      "cell_type": "markdown",
      "source": "# Machine Learning project Task Template\n*project1*  \n\n**Project Goal:**  \nPredict whether income exceeds $50K/yr based on census data. Also known as \"Adult\" dataset\n\n**Dataset Location:**  \nCensus Income Data Set (https://archive.ics.uci.edu/ml/datasets/census+income)    \nLocal source (a sample dataset): `data/census_income.csv`  \n**Dataset Description:**  \nhttps://archive.ics.uci.edu/ml/datasets/census+income    "
    },
    {
      "metadata": {},
      "cell_type": "markdown",
      "source": "## Step 1 — Import necessary libraries"
    },
    {
      "metadata": {
        "trusted": false
      },
      "cell_type": "code",
      "source": "# your code here",
      "execution_count": null,
      "outputs": []
    },
    {
      "metadata": {},
      "cell_type": "markdown",
      "source": "## Step 2 — Import the dataset"
    },
    {
      "metadata": {
        "trusted": false
      },
      "cell_type": "code",
      "source": "# your code here",
      "execution_count": null,
      "outputs": []
    },
    {
      "metadata": {},
      "cell_type": "markdown",
      "source": "## Step 3 — Handle missing data"
    },
    {
      "metadata": {
        "trusted": false
      },
      "cell_type": "code",
      "source": "# your code here",
      "execution_count": null,
      "outputs": []
    },
    {
      "metadata": {},
      "cell_type": "markdown",
      "source": "## Step 4 — Convert categorical variables to numeric variables"
    },
    {
      "metadata": {
        "trusted": false
      },
      "cell_type": "code",
      "source": "# your code here",
      "execution_count": null,
      "outputs": []
    },
    {
      "metadata": {},
      "cell_type": "markdown",
      "source": "## Step 5 — Perform scaling"
    },
    {
      "metadata": {
        "trusted": false
      },
      "cell_type": "code",
      "source": "# your code here",
      "execution_count": null,
      "outputs": []
    },
    {
      "metadata": {},
      "cell_type": "markdown",
      "source": "## Step 6 — Split the dataset into training and testing data"
    },
    {
      "metadata": {
        "trusted": false
      },
      "cell_type": "code",
      "source": "# your code here",
      "execution_count": null,
      "outputs": []
    },
    {
      "metadata": {},
      "cell_type": "markdown",
      "source": "## Step 7 —  Model Building \n(any one classification algorithm)  "
    },
    {
      "metadata": {
        "trusted": false
      },
      "cell_type": "code",
      "source": "# your code here",
      "execution_count": null,
      "outputs": []
    },
    {
      "metadata": {},
      "cell_type": "markdown",
      "source": "## Step 8 —  Model Prediction"
    },
    {
      "metadata": {
        "trusted": false
      },
      "cell_type": "code",
      "source": "# your code here",
      "execution_count": null,
      "outputs": []
    },
    {
      "metadata": {},
      "cell_type": "markdown",
      "source": "## Step 9 —  Model Evaluation"
    },
    {
      "metadata": {
        "trusted": false
      },
      "cell_type": "code",
      "source": "# your code here",
      "execution_count": null,
      "outputs": []
    },
    {
      "metadata": {},
      "cell_type": "markdown",
      "source": "*source:*  \nhttps://repl.it/@DataScienceSci1/Census-Income-Prediction  "
    }
  ],
  "metadata": {
    "kernelspec": {
      "name": "python36",
      "display_name": "Python 3.6",
      "language": "python"
    },
    "language_info": {
      "mimetype": "text/x-python",
      "nbconvert_exporter": "python",
      "name": "python",
      "pygments_lexer": "ipython3",
      "version": "3.6.6",
      "file_extension": ".py",
      "codemirror_mode": {
        "version": 3,
        "name": "ipython"
      }
    },
    "toc": {
      "nav_menu": {},
      "number_sections": true,
      "sideBar": true,
      "skip_h1_title": false,
      "base_numbering": 1,
      "title_cell": "Table of Contents",
      "title_sidebar": "Contents",
      "toc_cell": false,
      "toc_position": {},
      "toc_section_display": true,
      "toc_window_display": false
    }
  },
  "nbformat": 4,
  "nbformat_minor": 2
}