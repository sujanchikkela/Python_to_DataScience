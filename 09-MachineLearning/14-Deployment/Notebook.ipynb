{
  "cells": [
    {
      "metadata": {},
      "cell_type": "markdown",
      "source": "https://github.com/gauravmodi/Titanic-Flask-App  \nhttps://github.com/baleboy/kaggle_titanic"
    },
    {
      "metadata": {},
      "cell_type": "markdown",
      "source": "https://medium.com/datadriveninvestor/deploy-your-machine-learning-model-using-flask-made-easy-now-635d2f12c50c  \nhttps://github.com/MaajidKhan/DeployMLModel-Flask  "
    },
    {
      "metadata": {},
      "cell_type": "markdown",
      "source": "https://hackernoon.com/deploy-a-machine-learning-model-using-flask-da580f84e60c  \nhttps://github.com/vyashemang/flask-salary-predictor/  "
    }
  ],
  "metadata": {
    "language_info": {
      "mimetype": "text/x-python",
      "nbconvert_exporter": "python",
      "name": "python",
      "pygments_lexer": "ipython3",
      "version": "3.6.6",
      "file_extension": ".py",
      "codemirror_mode": {
        "version": 3,
        "name": "ipython"
      }
    },
    "kernelspec": {
      "name": "python36",
      "display_name": "Python 3.6",
      "language": "python"
    },
    "toc": {
      "nav_menu": {},
      "number_sections": true,
      "sideBar": true,
      "skip_h1_title": false,
      "base_numbering": 1,
      "title_cell": "Table of Contents",
      "title_sidebar": "Contents",
      "toc_cell": false,
      "toc_position": {},
      "toc_section_display": true,
      "toc_window_display": false
    }
  },
  "nbformat": 4,
  "nbformat_minor": 2
}