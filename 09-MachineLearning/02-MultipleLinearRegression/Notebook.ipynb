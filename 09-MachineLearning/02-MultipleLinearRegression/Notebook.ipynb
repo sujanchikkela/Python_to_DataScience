{
  "cells": [
    {
      "metadata": {
        "trusted": true
      },
      "cell_type": "code",
      "source": "#1 Importing the libraries\nimport numpy as np\nimport pandas as pd\n\n#2 Importing the data set\ndataset = pd.read_csv('data/beer_data.csv')\n\n\n#Printing first 10 rows of the dataset\nprint(\"\\n----------------------------\\n\",dataset.head(10))\n\n\n#3 Dealing with the categorical data\n\n#spliting Cellar Temperature into Maximum and Minimum based on the given data and converting the type from str to int\ndataset['Minimum_Cellar_Temp'] = dataset['Cellar Temperature'].apply(lambda x : int(x.split('-')[0].strip()))\ndataset['Maximum_Cellar_Temp'] = dataset['Cellar Temperature'].apply(lambda x : int(x.split('-')[1].strip()))\n\n#New dataset with selected features\ndataset = dataset[['ABV', 'Ratings','Minimum_Cellar_Temp','Maximum_Cellar_Temp', 'Score']]\n\n#Printing first 10 rows of the dataset\nprint(\"\\n----------------------------\\n\",dataset.head(10))\n\n#Printing the summary of the dataset\nprint(\"\\n----------------------------\\n\")\nprint(dataset.info())\n\n\n#4 Classifying dependent and independent variables\n\n#All columns except the last column are independent features- (Selecting every column except Score)\nX = dataset.iloc[:,:-1].values\n\n#Only the last column is the dependent feature or the target variable(Score)\ny = dataset.iloc[:,-1].values\n\n\n#5 Creating training and test sets\nfrom sklearn.model_selection import train_test_split\nX_train, X_test, y_train, y_test = train_test_split(X,y,test_size = 0.2,random_state = 0)\n\n\n#################Data Preprocessing Ends #################################\n\n\n\"\"\" Multiple Linear regression \"\"\"\n\n#6 Creating the Regressor and training it with the training set\n\nfrom sklearn.linear_model import LinearRegression\nregressor = LinearRegression(normalize = True)\n\n#7 Feeding the data and training the model\nregressor.fit(X_train,y_train)\n\n\n#8 Predicting the Score for test set observations\ny_pred = regressor.predict(X_test)\n\n#printing the predictions\nprint(\"\\n----------------------------\\nPredictions = \\n\",y_pred)\n\n#9 Calculating score from Root Mean Log Squared Error\n\ndef rmlse(y_test, y_pred):\n    error = np.square(np.log10(y_pred +1) - np.log10(y_test +1)).mean() ** 0.5\n    score = 1 - error\n    return score\n\nprint(\"\\n----------------------------\\nRMLSE Score = \", rmlse(y_test, y_pred))",
      "execution_count": 3,
      "outputs": [
        {
          "output_type": "stream",
          "text": "\n----------------------------\n    ABV  Ratings Cellar Temperature  Score\n0  7.5        1              40-45   4.08\n1  5.3       22              40-45   3.82\n2  9.0        1              45-50   4.03\n3  4.6        1              35-40   4.00\n4  6.9        1              45-50   3.75\n5  7.9       32              40-45   4.26\n6  4.7      141              35-40   3.47\n7  5.6        1              40-45   3.70\n8  5.0        1              40-45   3.90\n9  5.4       12              40-45   3.79\n\n----------------------------\n    ABV  Ratings  Minimum_Cellar_Temp  Maximum_Cellar_Temp  Score\n0  7.5        1                   40                   45   4.08\n1  5.3       22                   40                   45   3.82\n2  9.0        1                   45                   50   4.03\n3  4.6        1                   35                   40   4.00\n4  6.9        1                   45                   50   3.75\n5  7.9       32                   40                   45   4.26\n6  4.7      141                   35                   40   3.47\n7  5.6        1                   40                   45   3.70\n8  5.0        1                   40                   45   3.90\n9  5.4       12                   40                   45   3.79\n\n----------------------------\n\n<class 'pandas.core.frame.DataFrame'>\nRangeIndex: 1631 entries, 0 to 1630\nData columns (total 5 columns):\nABV                    1631 non-null float64\nRatings                1631 non-null int64\nMinimum_Cellar_Temp    1631 non-null int64\nMaximum_Cellar_Temp    1631 non-null int64\nScore                  1631 non-null float64\ndtypes: float64(2), int64(3)\nmemory usage: 63.8 KB\nNone\n\n----------------------------\nPredictions = \n [2.89362768 2.90755783 3.07058711 3.48413975 3.65433446 2.9310254\n 3.12667115 2.90202462 3.11905124 3.1177165  3.13259288 3.13790974\n 2.84802728 2.95505068 3.58824928 3.15091575 2.85489522 3.2262689\n 3.13565087 3.184115   3.23524861 3.64880125 3.11084856 5.82687381\n 3.37539607 3.53546761 3.54748025 3.08718673 3.12458445 3.27929496\n 3.23944708 3.54100082 3.16387461 3.19384668 3.56883606 3.08031878\n 3.38869332 3.2505135  2.98405145 3.05685121 3.14538254 3.14972514\n 3.13259288 3.26844786 3.23391387 3.2241822  4.24094226 3.7083318\n 3.08451725 3.67646729 3.57475778 3.1177165  3.21864899 2.91576051\n 3.23381064 3.14538254 3.15511422 3.17858179 3.20071463 3.12189289\n 3.30031237 3.25031924 3.25604671 3.16618064 2.88675973 3.4108733\n 3.61980047 3.15758944 2.9666748  6.49031035 3.39274468 2.96822886\n 3.06791763 3.54080656 2.96002618 3.16331691 3.1121833  3.01936247\n 3.22799215 3.13984934 3.10186884 3.26364155 3.44832413 3.73313411\n 3.41640651 2.91097927 3.23391387 3.07764931 3.22092995 3.49154033\n 3.22284746 3.05685121 3.53546761 3.2241822  3.17171385 3.02884976\n 2.93216588 2.95082714 3.32225095 3.10665009 2.9046941  3.14652302\n 3.14727499 3.38740573 3.21178104 3.10133918 3.1299234  2.93545196\n 3.31652348 3.17858179 3.05675409 3.23391387 2.91442577 3.28924596\n 3.11084856 3.51180579 2.91231401 3.32508962 3.12324971 3.14671728\n 3.23828154 2.99055595 3.21311578 3.21178104 3.05248653 2.85069675\n 3.79113567 3.53583106 3.20624783 3.45513897 3.17438332 3.23257914\n 2.9502945  3.29931602 3.10931956 3.16006466 3.20758257 3.04122585\n 3.19518142 3.21711999 3.53813709 3.39293894 3.1562547  2.90202462\n 3.28596864 2.85889943 8.46101308 3.40953856 3.32906876 2.88122652\n 3.15902741 3.13298139 3.22151272 3.01402352 3.09978214 3.28074578\n 3.14404781 3.19937989 3.29303085 3.56713787 3.0029571  3.12458445\n 3.87218465 3.27264633 2.9680346  3.25738145 3.1177165  3.15225049\n 3.16189115 3.28885744 3.23658335 3.1035921  3.46809344 2.92566138\n 2.92549219 3.22073569 4.22552699 3.56446839 2.90850405 3.6228334\n 2.92262846 2.9310254  3.18659022 2.90889257 3.17724706 2.9974239\n 3.13431613 2.91136778 2.98577471 3.55194489 3.39713741 3.61275708\n 3.18525548 3.51581    2.90202462 3.29058069 3.13431613 2.9102273\n 3.56446839 3.14805202 3.34314007 3.37080611 3.52020273 3.44827102\n 3.86996336 3.49234243 3.18659022 3.12191497 3.26157992 3.15511422\n 3.07309036 3.28591852 2.9310254  3.23811235 3.56560887 3.04158633\n 3.23811235 3.14404781 3.15091575 3.13210284 3.21178104 2.94417852\n 3.28924596 3.53546761 3.08595523 3.15511422 3.31947824 3.53527336\n 3.76919709 3.70413333 3.26024518 2.88809447 3.19518142 3.12191497\n 3.60186611 3.1476635  2.89362768 3.33816457 3.34942822 3.16198217\n 3.15491997 3.09558367 3.23658335 3.14193604 3.37080611 3.53469058\n 2.99055595 2.87569332 3.18792496 3.51180579 3.57626171 2.89229294\n 3.07345084 3.36947137 3.05682615 3.57514629 3.28924596 3.78127867\n 2.96555938 3.67646729 2.93655861 2.90202462 4.98814472 3.26900557\n 3.16445739 3.75813068 3.17991653 3.55893518 3.10092262 3.22245894\n 3.2049131  3.48154844 2.92376894 3.12324971 3.11198904 3.54748025\n 3.10665009 3.26424939 3.34591278 2.91986185 3.71663772 3.41507177\n 3.33484636 3.73046464 2.90335936 3.57876199 3.12191497 3.16634983\n 3.26473191 3.16288124 3.43194382 2.90755783 3.26024518 3.62113521\n 3.05952069 2.82036124 2.91270252 3.23658335 3.01258555 2.85775895\n 3.51847947 3.17991653 3.13298139 3.59194018 3.28235295 3.56980734\n 3.12189289 3.26711312 2.93636435 3.22952115 3.66406614 2.90335936\n 3.7027986  3.16487974 3.23391387 3.17991653 3.39788938 3.02508994\n 2.9046941  3.65853293 3.26558413 3.18964821 3.15644896 3.215591\n 2.90755783 2.92471516 3.53983528]\n\n----------------------------\nRMLSE Score =  0.7662895343841157\n",
          "name": "stdout"
        }
      ]
    },
    {
      "metadata": {
        "trusted": true
      },
      "cell_type": "code",
      "source": "",
      "execution_count": null,
      "outputs": []
    }
  ],
  "metadata": {
    "kernelspec": {
      "name": "python36",
      "display_name": "Python 3.6",
      "language": "python"
    },
    "language_info": {
      "mimetype": "text/x-python",
      "nbconvert_exporter": "python",
      "name": "python",
      "pygments_lexer": "ipython3",
      "version": "3.6.6",
      "file_extension": ".py",
      "codemirror_mode": {
        "version": 3,
        "name": "ipython"
      }
    },
    "toc": {
      "nav_menu": {},
      "number_sections": true,
      "sideBar": true,
      "skip_h1_title": false,
      "base_numbering": 1,
      "title_cell": "Table of Contents",
      "title_sidebar": "Contents",
      "toc_cell": false,
      "toc_position": {},
      "toc_section_display": true,
      "toc_window_display": false
    }
  },
  "nbformat": 4,
  "nbformat_minor": 2
}