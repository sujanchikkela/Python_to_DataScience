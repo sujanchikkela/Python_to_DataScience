{
  "cells": [
    {
      "metadata": {
        "trusted": true
      },
      "cell_type": "code",
      "source": "# install XGBoost module\n!pip install xgboost",
      "execution_count": 3,
      "outputs": [
        {
          "output_type": "stream",
          "text": "Collecting xgboost\n\u001b[?25l  Downloading https://files.pythonhosted.org/packages/70/91/551d37ba472bcbd70a25e667acc65a18a9d053657b13afcf0f87aa24d7bb/xgboost-1.0.2-py3-none-manylinux1_x86_64.whl (109.7MB)\n\u001b[K     |████████████████████████████████| 109.8MB 12kB/s s eta 0:00:01    |████████████████▊               | 57.4MB 12.5MB/s eta 0:00:05     |█████████████████▊              | 60.7MB 5.7MB/s eta 0:00:09| 61.6MB 5.7MB/s eta 0:00:09██████▏         | 75.9MB 1.2MB/s eta 0:00:28 eta 0:00:05��▏       | 83.0MB 6.3MB/s eta 0:00:05��▉       | 85.1MB 6.3MB/s eta 0:00:04��██████████████████▌     | 90.9MB 1.0MB/s eta 0:00:19MB/s eta 0:00:15MB/s eta 0:00:14��████▌   | 97.7MB 1.0MB/s eta 0:00:12███████████████████▍  | 100.7MB 11.4MB/s eta 0:00:01     |█████████████████████████████▉  | 102.5MB 11.4MB/s eta 0:00:01ta 0:00:01:00:01��█████████████▏| 106.9MB 12.3MB/s eta 0:00:01\n\u001b[?25hRequirement already satisfied: scipy in /home/nbuser/anaconda3_501/lib/python3.6/site-packages (from xgboost) (1.1.0)\nRequirement already satisfied: numpy in /home/nbuser/anaconda3_501/lib/python3.6/site-packages (from xgboost) (1.16.2)\nInstalling collected packages: xgboost\nSuccessfully installed xgboost-1.0.2\n\u001b[33mWARNING: You are using pip version 19.3.1; however, version 20.0.2 is available.\nYou should consider upgrading via the 'pip install --upgrade pip' command.\u001b[0m\n",
          "name": "stdout"
        }
      ]
    },
    {
      "metadata": {
        "trusted": true
      },
      "cell_type": "code",
      "source": "#Importing libraries\nimport pandas as pd\n\n# Dataset Link https://archive.ics.uci.edu/ml/datasets/iris\n\n#Importing dataset\ndataset = pd.read_csv('Iris.csv')\n\nprint(\"\\n-------------------------\\nDataset\\n\", dataset.head())\n\n#Dealing with categorical variable\nprint(\"\\n-------------------------\\nLabel Encoding The Categorical Variable - Species\\n-------------------------\")\n\nfrom sklearn.preprocessing import LabelEncoder\nlabelencoder = LabelEncoder()\ndataset['Species'] = labelencoder.fit_transform(dataset['Species'])\n\nprint(\"\\n-------------------------\\nDataset after Label Encoding Species:- Species\\n-------------------------\\n\", dataset.head())\n\n\n\"\"\"Classifying dependent and independent variables\n   here SepalLengthCm, SepalWidthCm, PetalLengthCm and PetalWidthCm are independent variables where as Species is dependent\"\"\"\nX = dataset.iloc[:,:-1].values  \ny = dataset.iloc[:,-1].values  \n\n\n#Splitting into training set and test set\nfrom sklearn.model_selection import train_test_split\nX_train, X_test, y_train,y_test = train_test_split(X,y,test_size = 0.25, random_state=0)\n\nprint(\"\\n-------------------------\\nScaling or Normalizing the features \\n-------------------------\")\n\n#Feature scaling\nfrom sklearn.preprocessing import StandardScaler\nsc = StandardScaler()\nX_train = sc.fit_transform(X_train)\nX_test = sc.transform(X_test) \n\nprint(\"\\n-------------------------\\nDataset after Scaling:\\n-------------------------\\n\", )\n\nprint(\"\\nX_train :\\n\", X_train)\nprint(\"-------------------------\")\nprint(\"\\nX_test :\\n\", X_test)\n\n\n######### XGBoost Classification ################\n\n#Create an XGB classifier \nfrom xgboost import XGBClassifier\nclassifier = XGBClassifier()\n\n#Feed the training data to the classifier\nclassifier.fit(X_train,y_train)\n\n#Predicting the species for test set\ny_pred = classifier.predict(X_test)\n\nprint(\"\\n---------------------------\\n\")\nprint(\"Predicted Values for Test Set :\\n\",y_pred)\nprint(\"\\n---------------------------\\n\")\nprint(\"Actual Values for Test Set :\\n\",y_test)\n\n\n#Using confusion matrix to find the accuracy\nfrom sklearn.metrics import confusion_matrix\ncm = confusion_matrix(y_test,y_pred)\n\naccuracy = cm.diagonal().sum()/cm.sum()\n\nprint(\"\\n---------------------------\\n\")\nprint(\"Accuracy of Predictions = \",accuracy )",
      "execution_count": 4,
      "outputs": [
        {
          "output_type": "stream",
          "text": "\n-------------------------\nDataset\n    Sepal Length  Sepal Width    Species\n0           5.1          3.7     Setosa\n1           5.3          3.8     Setosa\n2           7.2          3.0  Virginica\n3           5.4          3.4     Setosa\n4           5.1          3.3     Setosa\n\n-------------------------\nLabel Encoding The Categorical Variable - Species\n-------------------------\n\n-------------------------\nDataset after Label Encoding Species:- Species\n-------------------------\n    Sepal Length  Sepal Width  Species\n0           5.1          3.7        0\n1           5.3          3.8        0\n2           7.2          3.0        2\n3           5.4          3.4        0\n4           5.1          3.3        0\n\n-------------------------\nScaling or Normalizing the features \n-------------------------\n\n-------------------------\nDataset after Scaling:\n-------------------------\n\n\nX_train :\n [[-0.40213949 -1.0855497 ]\n [-1.03407298  0.64782805]\n [ 2.28357783  0.07003546]\n [ 0.86172748 -0.89295217]\n [ 0.07181062 -0.31515959]\n [ 0.54576074 -0.31515959]\n [ 0.86172748 -1.27814723]\n [-0.56012286  0.84042557]\n [-1.03407298  1.41821815]\n [-0.56012286  1.80341321]\n [-1.03407298 -0.89295217]]\n-------------------------\n\nX_test :\n [[-0.71810624  1.61081568]\n [ 2.59954458 -0.31515959]\n [ 2.44156121 -0.12256206]\n [ 0.38777737 -0.50775712]]\n\n---------------------------\n\nPredicted Values for Test Set :\n [0 1 2 1]\n\n---------------------------\n\nActual Values for Test Set :\n [0 2 2 1]\n\n---------------------------\n\nAccuracy of Predictions =  0.75\n",
          "name": "stdout"
        }
      ]
    },
    {
      "metadata": {
        "trusted": true
      },
      "cell_type": "code",
      "source": "",
      "execution_count": null,
      "outputs": []
    }
  ],
  "metadata": {
    "kernelspec": {
      "name": "python36",
      "display_name": "Python 3.6",
      "language": "python"
    },
    "language_info": {
      "mimetype": "text/x-python",
      "nbconvert_exporter": "python",
      "name": "python",
      "pygments_lexer": "ipython3",
      "version": "3.6.6",
      "file_extension": ".py",
      "codemirror_mode": {
        "version": 3,
        "name": "ipython"
      }
    },
    "toc": {
      "nav_menu": {},
      "number_sections": true,
      "sideBar": true,
      "skip_h1_title": false,
      "base_numbering": 1,
      "title_cell": "Table of Contents",
      "title_sidebar": "Contents",
      "toc_cell": false,
      "toc_position": {},
      "toc_section_display": true,
      "toc_window_display": false
    }
  },
  "nbformat": 4,
  "nbformat_minor": 2
}