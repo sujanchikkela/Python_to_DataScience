{
  "metadata": {
    "kernelspec": {
      "display_name": "Python 3",
      "language": "python",
      "name": "python3"
    },
    "language_info": {
      "mimetype": "text/x-python",
      "nbconvert_exporter": "python",
      "name": "python",
      "pygments_lexer": "ipython3",
      "version": "3.5.4",
      "file_extension": ".py",
      "codemirror_mode": {
        "version": 3,
        "name": "ipython"
      }
    }
  },
  "nbformat_minor": 2,
  "nbformat": 4,
  "cells": [
    {
      "cell_type": "markdown",
      "source": "## Email Spam Filtering Using the Decsion Tree Classifier Approach",
      "metadata": {}
    },
    {
      "cell_type": "markdown",
      "source": "#### Part 1: Data Preprocessing",
      "metadata": {}
    },
    {
      "cell_type": "code",
      "source": "# import the libraries\nimport numpy as np                  # used for multidimensional array\nimport pandas as pd                 # used for import the dataset\nimport matplotlib.pyplot as plt     # used for ploting the graph",
      "metadata": {},
      "execution_count": 1,
      "outputs": []
    },
    {
      "cell_type": "code",
      "source": "# import the dataset\ndataset= pd.read_csv('Email spam.csv')\nX= dataset.iloc[:, :-1].values     # predictor attributes\ny= dataset.iloc[:, -1].values      # Target attribute",
      "metadata": {},
      "execution_count": 2,
      "outputs": []
    },
    {
      "cell_type": "code",
      "source": "# split the dataset into test set and train set\nfrom sklearn.model_selection import train_test_split\nX_train, X_test, y_train, y_test = train_test_split(X,y, test_size=0.005, random_state=0)",
      "metadata": {},
      "execution_count": 3,
      "outputs": []
    },
    {
      "cell_type": "markdown",
      "source": "#### Part 2: Building the  model",
      "metadata": {}
    },
    {
      "cell_type": "code",
      "source": "# import the Decision tree classider from scikit learn\nfrom sklearn.tree import DecisionTreeClassifier",
      "metadata": {},
      "execution_count": 4,
      "outputs": []
    },
    {
      "cell_type": "code",
      "source": "#initialize the Decision tree model\nclassifier=DecisionTreeClassifier(criterion ='entropy', random_state= 0)",
      "metadata": {},
      "execution_count": 5,
      "outputs": []
    },
    {
      "cell_type": "code",
      "source": "# fir the model\nclassifier.fit(X_train,y_train)",
      "metadata": {},
      "execution_count": 6,
      "outputs": [
        {
          "execution_count": 6,
          "output_type": "execute_result",
          "data": {
            "text/plain": "DecisionTreeClassifier(class_weight=None, criterion='entropy', max_depth=None,\n            max_features=None, max_leaf_nodes=None,\n            min_impurity_decrease=0.0, min_impurity_split=None,\n            min_samples_leaf=1, min_samples_split=2,\n            min_weight_fraction_leaf=0.0, presort=False, random_state=0,\n            splitter='best')"
          },
          "metadata": {}
        }
      ]
    },
    {
      "cell_type": "markdown",
      "source": "#### Part 3:Predicted the result and Visulising the result",
      "metadata": {}
    },
    {
      "cell_type": "code",
      "source": "# predicted the result\ny_pred = classifier.predict(X_test)\ny_pred",
      "metadata": {},
      "execution_count": 7,
      "outputs": [
        {
          "execution_count": 7,
          "output_type": "execute_result",
          "data": {
            "text/plain": "array(['y', 'n', 'n', 'y', 'n', 'n', 'n', 'n', 'y', 'y', 'y', 'n', 'y',\n       'y', 'n', 'y', 'y', 'y', 'y', 'n', 'n', 'n', 'n', 'y'],\n      dtype=object)"
          },
          "metadata": {}
        }
      ]
    },
    {
      "cell_type": "code",
      "source": "# making a confusion matrix\nfrom sklearn.metrics import confusion_matrix\ncm=confusion_matrix(y_test, y_pred)\ncm",
      "metadata": {},
      "execution_count": 8,
      "outputs": [
        {
          "execution_count": 8,
          "output_type": "execute_result",
          "data": {
            "text/plain": "array([[11,  3],\n       [ 1,  9]], dtype=int64)"
          },
          "metadata": {}
        }
      ]
    },
    {
      "cell_type": "code",
      "source": "# accuracy score\nfrom sklearn.metrics import accuracy_score\nac=accuracy_score(y_test,y_pred)\nac",
      "metadata": {},
      "execution_count": 9,
      "outputs": [
        {
          "execution_count": 9,
          "output_type": "execute_result",
          "data": {
            "text/plain": "0.8333333333333334"
          },
          "metadata": {}
        }
      ]
    },
    {
      "cell_type": "code",
      "source": "",
      "metadata": {},
      "execution_count": null,
      "outputs": []
    }
  ]
}