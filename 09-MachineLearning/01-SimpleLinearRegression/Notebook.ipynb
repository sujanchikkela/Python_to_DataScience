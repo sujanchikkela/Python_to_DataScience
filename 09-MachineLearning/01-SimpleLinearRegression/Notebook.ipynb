{
  "cells": [
    {
      "metadata": {
        "trusted": true
      },
      "cell_type": "code",
      "source": "\"\"\"# I. Preparing the dataset \"\"\"\n\n#1 Importing essential libraries\nimport pandas as pd\n\n#2 Importing the dataset\ndataset = pd.read_csv('data/Salary_Data.csv')",
      "execution_count": 6,
      "outputs": []
    },
    {
      "metadata": {
        "trusted": true
      },
      "cell_type": "code",
      "source": "#3 classify dependent and independent variables\nX = dataset.iloc[:,:-1].values  #independent variable YearsofExperience\ny = dataset.iloc[:,-1].values  #dependent variable salary\n\nprint(\"\\nIdependent Variable (Experience):\\n\", X)\nprint(\"\\nDependent Variable (Salary):\\n\", y)",
      "execution_count": 7,
      "outputs": [
        {
          "output_type": "stream",
          "text": "\nIdependent Variable (Experience):\n [[ 1.1]\n [ 1.3]\n [ 1.5]\n [ 2. ]\n [ 2.2]\n [ 2.9]\n [ 3. ]\n [ 3.2]\n [ 3.2]\n [ 3.7]\n [ 3.9]\n [ 4. ]\n [ 4. ]\n [ 4.1]\n [ 4.5]\n [ 4.9]\n [ 5.1]\n [ 5.3]\n [ 5.9]\n [ 6. ]\n [ 6.8]\n [ 7.1]\n [ 7.9]\n [ 8.2]\n [ 8.7]\n [ 9. ]\n [ 9.5]\n [ 9.6]\n [10.3]\n [10.5]]\n\nDependent Variable (Salary):\n [ 39343.  46205.  37731.  43525.  39891.  56642.  60150.  54445.  64445.\n  57189.  63218.  55794.  56957.  57081.  61111.  67938.  66029.  83088.\n  81363.  93940.  91738.  98273. 101302. 113812. 109431. 105582. 116969.\n 112635. 122391. 121872.]\n",
          "name": "stdout"
        }
      ]
    },
    {
      "metadata": {
        "trusted": true
      },
      "cell_type": "code",
      "source": "#4 Creating training set and testing set\nfrom sklearn.model_selection import train_test_split\nX_train, X_test, y_train, y_test = train_test_split(X ,y, test_size = 1/3,random_state = 0) \n\nprint(\"\\n\\nTraining Set :\\n----------------\\n\")\nprint(\"X = \\n\", X_train)\nprint(\"y = \\n\", y_train)\n\nprint(\"\\n\\nTest Set :\\n----------------\\n\")\nprint(\"X = \\n\",X_test)\nprint(\"y = \\n\", y_test)",
      "execution_count": 8,
      "outputs": [
        {
          "output_type": "stream",
          "text": "\n\nTraining Set :\n----------------\n\nX = \n [[ 2.9]\n [ 5.1]\n [ 3.2]\n [ 4.5]\n [ 8.2]\n [ 6.8]\n [ 1.3]\n [10.5]\n [ 3. ]\n [ 2.2]\n [ 5.9]\n [ 6. ]\n [ 3.7]\n [ 3.2]\n [ 9. ]\n [ 2. ]\n [ 1.1]\n [ 7.1]\n [ 4.9]\n [ 4. ]]\ny = \n [ 56642.  66029.  64445.  61111. 113812.  91738.  46205. 121872.  60150.\n  39891.  81363.  93940.  57189.  54445. 105582.  43525.  39343.  98273.\n  67938.  56957.]\n\n\nTest Set :\n----------------\n\nX = \n [[ 1.5]\n [10.3]\n [ 4.1]\n [ 3.9]\n [ 9.5]\n [ 8.7]\n [ 9.6]\n [ 4. ]\n [ 5.3]\n [ 7.9]]\ny = \n [ 37731. 122391.  57081.  63218. 116969. 109431. 112635.  55794.  83088.\n 101302.]\n",
          "name": "stdout"
        }
      ]
    },
    {
      "metadata": {
        "trusted": true
      },
      "cell_type": "code",
      "source": "\"\"\"# II. Simple Linear Regressor \"\"\"\n\n#5 import SLR library\nfrom sklearn.linear_model import LinearRegression",
      "execution_count": 9,
      "outputs": []
    },
    {
      "metadata": {
        "trusted": true
      },
      "cell_type": "code",
      "source": "#6 Train the Regressor with training set\nregressor = LinearRegression()\nregressor.fit(X_train, y_train)",
      "execution_count": 10,
      "outputs": [
        {
          "output_type": "execute_result",
          "execution_count": 10,
          "data": {
            "text/plain": "LinearRegression(copy_X=True, fit_intercept=True, n_jobs=None,\n         normalize=False)"
          },
          "metadata": {}
        }
      ]
    },
    {
      "metadata": {
        "trusted": true
      },
      "cell_type": "code",
      "source": "#7 predict the outcome of test sets\ny_Pred = regressor.predict(X_test)\nprint(\"\\n\\nPredictions = \", y_Pred)",
      "execution_count": 11,
      "outputs": [
        {
          "output_type": "stream",
          "text": "\n\nPredictions =  [ 40835.10590871 123079.39940819  65134.55626083  63265.36777221\n 115602.64545369 108125.8914992  116537.23969801  64199.96201652\n  76349.68719258 100649.1375447 ]\n",
          "name": "stdout"
        }
      ]
    },
    {
      "metadata": {
        "trusted": true
      },
      "cell_type": "code",
      "source": "#8 Claculating the Accuracy of the predictions\nfrom sklearn import metrics\nprint(\"Prediction Accuracy = \", metrics.r2_score(y_test, y_Pred))",
      "execution_count": 12,
      "outputs": [
        {
          "output_type": "stream",
          "text": "Prediction Accuracy =  0.9749154407708353\n",
          "name": "stdout"
        }
      ]
    },
    {
      "metadata": {
        "trusted": true
      },
      "cell_type": "code",
      "source": "#9 Comparing Actual and Predicted Salaries for he test set\nprint(\"\\nActual vs Predicted Salaries \\n-------------------------\\n\")\nprint(\"Actual :\\n \", y_test)\nprint(\"Predicted :\\n \", y_Pred)",
      "execution_count": 13,
      "outputs": [
        {
          "output_type": "stream",
          "text": "\nActual vs Predicted Salaries \n-------------------------\n\nActual :\n  [ 37731. 122391.  57081.  63218. 116969. 109431. 112635.  55794.  83088.\n 101302.]\nPredicted :\n  [ 40835.10590871 123079.39940819  65134.55626083  63265.36777221\n 115602.64545369 108125.8914992  116537.23969801  64199.96201652\n  76349.68719258 100649.1375447 ]\n",
          "name": "stdout"
        }
      ]
    }
  ],
  "metadata": {
    "kernelspec": {
      "name": "python36",
      "display_name": "Python 3.6",
      "language": "python"
    },
    "toc": {
      "nav_menu": {},
      "number_sections": true,
      "sideBar": true,
      "skip_h1_title": false,
      "base_numbering": 1,
      "title_cell": "Table of Contents",
      "title_sidebar": "Contents",
      "toc_cell": false,
      "toc_position": {},
      "toc_section_display": true,
      "toc_window_display": false
    },
    "language_info": {
      "mimetype": "text/x-python",
      "nbconvert_exporter": "python",
      "name": "python",
      "pygments_lexer": "ipython3",
      "version": "3.6.6",
      "file_extension": ".py",
      "codemirror_mode": {
        "version": 3,
        "name": "ipython"
      }
    }
  },
  "nbformat": 4,
  "nbformat_minor": 2
}