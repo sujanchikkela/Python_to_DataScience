{
  "cells": [
    {
      "metadata": {},
      "cell_type": "markdown",
      "source": "## Machine Learning"
    },
    {
      "metadata": {},
      "cell_type": "markdown",
      "source": "### Definition"
    },
    {
      "metadata": {},
      "cell_type": "markdown",
      "source": "**Machine Learning** is a concept which allows the machine to learn from examples and experience, and that too without being explicitly programmed. So instead of you writing the code, what you do is you feed data to the generic algorithm, and the algorithm/ machine builds the logic based on the given data."
    },
    {
      "metadata": {},
      "cell_type": "markdown",
      "source": "### Who's using it?"
    },
    {
      "metadata": {},
      "cell_type": "markdown",
      "source": "* Financial services\n* Government\n* Health care\n* Retail\n* Oil and gas\n* Transportation  \n...and more"
    },
    {
      "metadata": {},
      "cell_type": "markdown",
      "source": "## Terminology"
    },
    {
      "metadata": {},
      "cell_type": "markdown",
      "source": "| Row               | Column                   |\n|-------------------------------------|---------------------------------------|\n|observation | Variable |\n|case              | attribute / field                    |"
    },
    {
      "metadata": {},
      "cell_type": "markdown",
      "source": "| Independent variables               | Dependent variable                    |\n|-------------------------------------|---------------------------------------|\n| Input variables(input to the model) | Output Variables(output of the model) |\n| Explanatory variables               | Response Variables                    |\n| Predictors                 | Target Variables / Predictant                     |"
    },
    {
      "metadata": {},
      "cell_type": "markdown",
      "source": "**Feature:** An input variable used in making predictions.  \n\n**Example:** One row of a data set. An example contains one or more features and possibly a label.  \n\n**Label:** Result of the feature.  \n\n**Algorithm:** algorithm learns and finds patterns in the training data then it outputs an ML model. it has a target function (f) that best maps input variables (X) to an output variable (Y): Y = f(X)   \n\n**Model:** ML model captures these patterns from algorithm by training and then use these ML model to get predictions on new data \n\n**Predictions:** A model’s output when provided with an input example.  "
    },
    {
      "metadata": {},
      "cell_type": "markdown",
      "source": "## Basic searching and sorting `algorithms`\n(python data structures and algorithms)  "
    },
    {
      "metadata": {},
      "cell_type": "markdown",
      "source": "**Theory & Coding:** https://www.sanfoundry.com/python-programming-examples-searching-sorting/  \n(http://pythontutor.com/)  \n**Visual Animation1:** https://www.toptal.com/developers/sorting-algorithms  \n**Visual Animation2:** https://visualgo.net/bn/sorting        \n**Analysis of different sorting techniques:** https://www.geeksforgeeks.org/analysis-of-different-sorting-techniques/  "
    },
    {
      "metadata": {},
      "cell_type": "markdown",
      "source": "## Types of Machine Learning"
    },
    {
      "metadata": {},
      "cell_type": "markdown",
      "source": "### Supervised Machine Learning\n\nThe major use case is Prediction.  We provide a set of \ntraining data including the input and output, then train a model that can \npredict output from an unseen input.  "
    },
    {
      "metadata": {},
      "cell_type": "markdown",
      "source": "**Regression:**  \n**Classification:**  "
    },
    {
      "metadata": {},
      "cell_type": "markdown",
      "source": "### Un Supervised Machine Learning\n\nThe major use case is Pattern extraction(inference).  We provide \na set of data that has no output, the algorithm will try to extract the \nunderlying non-trivial structure within the data.  "
    },
    {
      "metadata": {},
      "cell_type": "markdown",
      "source": "**Clustering:**  \n**Dimentionality Reduction:**  "
    },
    {
      "metadata": {},
      "cell_type": "markdown",
      "source": "## Processing Steps"
    },
    {
      "metadata": {},
      "cell_type": "markdown",
      "source": "**Step 1:** Define Problem  \n**Step 2:** Gathering Data  \n**Step 3:** Hypothesis Testing  \n**Step 4:** Pre-processing, Cleaning, Exploring and Transforming Data  \n**Step 5:** Model Building  \n**Step 6:** Model Evaluation    \n**Step 7:** Model Deployment  \n    "
    },
    {
      "metadata": {},
      "cell_type": "markdown",
      "source": "## Scikitlearn Package "
    },
    {
      "metadata": {
        "trusted": true
      },
      "cell_type": "code",
      "source": "from IPython.display import IFrame    \nIFrame('https://scikit-learn.org/stable/', width=1000, height=700)",
      "execution_count": 15,
      "outputs": [
        {
          "output_type": "execute_result",
          "execution_count": 15,
          "data": {
            "text/plain": "<IPython.lib.display.IFrame at 0x7f4d40074128>",
            "text/html": "\n        <iframe\n            width=\"1000\"\n            height=\"700\"\n            src=\"https://scikit-learn.org/stable/\"\n            frameborder=\"0\"\n            allowfullscreen\n        ></iframe>\n        "
          },
          "metadata": {}
        }
      ]
    },
    {
      "metadata": {
        "collapsed": true
      },
      "cell_type": "markdown",
      "source": "**Flowchart**  \nhttp://scikit-learn.org/stable/tutorial/machine_learning_map/index.html  "
    },
    {
      "metadata": {},
      "cell_type": "markdown",
      "source": "**Cheatsheet**"
    },
    {
      "metadata": {
        "trusted": true,
        "scrolled": true
      },
      "cell_type": "code",
      "source": "from IPython.display import IFrame    \nIFrame('https://s3.amazonaws.com/assets.datacamp.com/blog_assets/Scikit_Learn_Cheat_Sheet_Python.pdf', width=1000, height=700)",
      "execution_count": 3,
      "outputs": [
        {
          "output_type": "execute_result",
          "execution_count": 3,
          "data": {
            "text/plain": "<IPython.lib.display.IFrame at 0x7f29e70bac18>",
            "text/html": "\n        <iframe\n            width=\"1000\"\n            height=\"700\"\n            src=\"https://s3.amazonaws.com/assets.datacamp.com/blog_assets/Scikit_Learn_Cheat_Sheet_Python.pdf\"\n            frameborder=\"0\"\n            allowfullscreen\n        ></iframe>\n        "
          },
          "metadata": {}
        }
      ]
    },
    {
      "metadata": {},
      "cell_type": "markdown",
      "source": "https://www.edureka.co/blog/cheatsheets/python-scikit-learn-cheat-sheet/  "
    },
    {
      "metadata": {},
      "cell_type": "markdown",
      "source": "**A comparison Scikit Learn’s many Machine Learning models**"
    },
    {
      "metadata": {},
      "cell_type": "markdown",
      "source": "![Imgur](https://i.imgur.com/06Z5SiU.png)"
    },
    {
      "metadata": {},
      "cell_type": "markdown",
      "source": "**Microsoft Azure Machine Learning: Algorithm Cheat Sheet**  \n(how to choose the appropriate algorithm)  \nhttps://s3-ap-south-1.amazonaws.com/av-blog-media/wp-content/uploads/2017/02/17090804/microsoft-machine-learning-algorithm-cheat-sheet-v6.pdf"
    },
    {
      "metadata": {},
      "cell_type": "markdown",
      "source": "**API and Class design for scikit-learn project **  \nhttps://arxiv.org/pdf/1309.0238v1.pdf  "
    },
    {
      "metadata": {},
      "cell_type": "markdown",
      "source": "**sklearn ml workflow**"
    },
    {
      "metadata": {},
      "cell_type": "markdown",
      "source": "![Imgur](https://i.imgur.com/O58bk6V.jpg)"
    },
    {
      "metadata": {
        "trusted": true
      },
      "cell_type": "markdown",
      "source": "## Sklearn Design"
    },
    {
      "metadata": {},
      "cell_type": "markdown",
      "source": "* Object Oriented\n    * it defines classes\n    * we create objects from classes  \n* Consistency in class design\n    * Estimators \n         * An estimator is any object that learns from data which estimates parameters of a dataset  \n         * `fit` method to invoke the estimators (*estimator.`fit`(data)*)\n         * All supervised & unsupervised learning algorithms impliment this interface\n    * Transformers\n        * filter or change data before feeding to algorithm\n        * transform methods (eg. `StandardScaler` or `MinMaxScaler`)\n        * `fit_transform` method combines two steps `fit` & `transform`into one, it just calls first fit() and then transform() on the same data as the initial fitting of parameters on the training set x, but it also returns a transformed x′.        \n    * Predictors\n        * `predict` method\n        * to predict target values on a dataset\n        * `score` method to measure accuracy of predictions\n* Inspection\n    * Many objects attributes can directly read \n    * its convenient to use in inspecting the parameters, learned parameters, hyper-parameters and statistics\n* Non-profileration of classes\n    * creating new classes is avoided\n    * widely avaialable data formats are used\n    * data is fed as numpy arrays, scipy sparce matrices, pandas series and dataframes    \n* Composition\n    * modules are reused wherever possible\n    * different componenst can be combined to form larger component\n* Sensible defaults\n    * provides sensible default values for most of parameters to constructors\n    * facilitate creating a baseline solution\n* sklearn components and libraries\n    * datasets\n    * model selection utilities\n    * preprocessing\n    * common supervised and unsupervised models and algorithms\n    * metrics\n    * feature selection\n    * pipeline and workflow definition\n    * text analysis utilities\n"
    },
    {
      "metadata": {},
      "cell_type": "markdown",
      "source": "<span style=\"color:red; font-family:Comic Sans MS\">Further Resources: </span>     \n**Machine Learning Complete Course With Python**  \nhttps://medium.com/machine-learning-researcher  \nhttps://www.youtube.com/playlist?list=PLonlF40eS6nynU5ayxghbz2QpDsUAyCVF\n\n**Machine Learning for Humans Simple, plain-English explanations accompanied by math, code, and real-world examples:** https://medium.com/machine-learning-for-humans/why-machine-learning-matters-6164faf1df12\n\n**Machine Learning is Fun! The world’s easiest introduction to Machine Learning- part 1 to part 8**  \nhttps://medium.com/@ageitgey/machine-learning-is-fun-80ea3ec3c471  "
    }
  ],
  "metadata": {
    "kernelspec": {
      "name": "python3",
      "display_name": "Python 3",
      "language": "python"
    },
    "language_info": {
      "mimetype": "text/x-python",
      "nbconvert_exporter": "python",
      "name": "python",
      "pygments_lexer": "ipython3",
      "version": "3.5.4",
      "file_extension": ".py",
      "codemirror_mode": {
        "version": 3,
        "name": "ipython"
      }
    },
    "toc": {
      "nav_menu": {
        "width": "184px",
        "height": "103px"
      },
      "number_sections": true,
      "sideBar": true,
      "skip_h1_title": false,
      "base_numbering": 1,
      "title_cell": "Table of Contents",
      "title_sidebar": "Contents",
      "toc_cell": false,
      "toc_position": {},
      "toc_section_display": true,
      "toc_window_display": false
    }
  },
  "nbformat": 4,
  "nbformat_minor": 2
}