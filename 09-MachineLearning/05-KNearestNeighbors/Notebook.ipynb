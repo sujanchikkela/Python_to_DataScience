{
  "cells": [
    {
      "metadata": {},
      "cell_type": "markdown",
      "source": "## Iris datset(UCI) Prediction using the K nearest neighbor(kNN) with Scikit Learn"
    },
    {
      "metadata": {},
      "cell_type": "markdown",
      "source": "#### Part 1: Data Preprocessing"
    },
    {
      "metadata": {
        "trusted": false
      },
      "cell_type": "code",
      "source": "#import the Libraries\nimport numpy as np                    # used for multdimensional array\nimport pandas as pd                   # used for import the dataset\nimport matplotlib.pyplot as plt       # used for plot the graph",
      "execution_count": 32,
      "outputs": []
    },
    {
      "metadata": {
        "trusted": false
      },
      "cell_type": "code",
      "source": "#import the dataset\ndataset=pd.read_csv('https://archive.ics.uci.edu/ml/machine-learning-databases/iris/iris.data')\nX=dataset.iloc[:,:-1].values    # predictor attributes\ny=dataset.iloc[:,-1].values     # target attributes",
      "execution_count": 33,
      "outputs": []
    },
    {
      "metadata": {
        "trusted": false
      },
      "cell_type": "code",
      "source": "# Encoding the categorical data\nfrom sklearn.preprocessing import LabelEncoder\nLabelencoder_y= LabelEncoder()\ny= Labelencoder_y.fit_transform(y)",
      "execution_count": 35,
      "outputs": []
    },
    {
      "metadata": {
        "trusted": false
      },
      "cell_type": "code",
      "source": "# split the dataset into test set and train set\nfrom sklearn.model_selection import train_test_split\nX_train, X_test, y_train, y_test = train_test_split(X,y, test_size=0.2, random_state=0)",
      "execution_count": 36,
      "outputs": []
    },
    {
      "metadata": {
        "trusted": false
      },
      "cell_type": "code",
      "source": "# Feature Scaling\nfrom sklearn.preprocessing import StandardScaler\nsc_X= StandardScaler()\nX_train=sc_X.fit_transform(X_train)\nX_test=sc_X.transform(X_test)",
      "execution_count": 37,
      "outputs": []
    },
    {
      "metadata": {},
      "cell_type": "markdown",
      "source": "#### Part 2: Building the model"
    },
    {
      "metadata": {
        "trusted": false
      },
      "cell_type": "code",
      "source": "# import the kNN model from scikit learn\nfrom sklearn.neighbors import KNeighborsClassifier",
      "execution_count": 38,
      "outputs": []
    },
    {
      "metadata": {
        "trusted": false
      },
      "cell_type": "code",
      "source": "# init the model\nknn= KNeighborsClassifier(n_neighbors=5 , metric= 'minkowski', p=2)  #minkowski= distance formul and p=2 power 2 of distformula",
      "execution_count": 39,
      "outputs": []
    },
    {
      "metadata": {
        "trusted": false
      },
      "cell_type": "code",
      "source": "#fit the kNN model\nknn.fit(X_train,y_train)",
      "execution_count": 40,
      "outputs": [
        {
          "execution_count": 40,
          "output_type": "execute_result",
          "data": {
            "text/plain": "KNeighborsClassifier(algorithm='auto', leaf_size=30, metric='minkowski',\n           metric_params=None, n_jobs=1, n_neighbors=5, p=2,\n           weights='uniform')"
          },
          "metadata": {}
        }
      ]
    },
    {
      "metadata": {},
      "cell_type": "markdown",
      "source": "#### Part 3: Making Prediction and accuracy score"
    },
    {
      "metadata": {
        "trusted": false
      },
      "cell_type": "code",
      "source": "# Making the Prediction\ny_pred = knn.predict(X_test)\ny_pred",
      "execution_count": 44,
      "outputs": [
        {
          "execution_count": 44,
          "output_type": "execute_result",
          "data": {
            "text/plain": "array([1, 2, 1, 1, 0, 2, 2, 1, 1, 1, 0, 0, 1, 0, 0, 1, 2, 1, 0, 0, 1, 0,\n       1, 0, 1, 1, 1, 0, 0, 2], dtype=int64)"
          },
          "metadata": {}
        }
      ]
    },
    {
      "metadata": {
        "trusted": false
      },
      "cell_type": "code",
      "source": "# Confusion metrics\nfrom sklearn.metrics import confusion_matrix\ncm = confusion_matrix(y_test, y_pred)\ncm",
      "execution_count": 45,
      "outputs": [
        {
          "execution_count": 45,
          "output_type": "execute_result",
          "data": {
            "text/plain": "array([[11,  1,  0],\n       [ 0, 10,  0],\n       [ 0,  3,  5]], dtype=int64)"
          },
          "metadata": {}
        }
      ]
    },
    {
      "metadata": {
        "trusted": false
      },
      "cell_type": "code",
      "source": "# accuracy score\nfrom sklearn.metrics import accuracy_score\nac= accuracy_score(y_test, y_pred)\nac",
      "execution_count": 46,
      "outputs": [
        {
          "execution_count": 46,
          "output_type": "execute_result",
          "data": {
            "text/plain": "0.8666666666666667"
          },
          "metadata": {}
        }
      ]
    },
    {
      "metadata": {},
      "cell_type": "markdown",
      "source": "**further read**  \nhttps://www.analyticsvidhya.com/blog/2018/08/k-nearest-neighbor-introduction-regression-python/   "
    }
  ],
  "metadata": {
    "kernelspec": {
      "name": "python3",
      "display_name": "Python 3",
      "language": "python"
    },
    "language_info": {
      "mimetype": "text/x-python",
      "nbconvert_exporter": "python",
      "name": "python",
      "file_extension": ".py",
      "version": "3.5.4",
      "pygments_lexer": "ipython3",
      "codemirror_mode": {
        "version": 3,
        "name": "ipython"
      }
    },
    "toc": {
      "nav_menu": {},
      "number_sections": true,
      "sideBar": true,
      "skip_h1_title": false,
      "base_numbering": 1,
      "title_cell": "Table of Contents",
      "title_sidebar": "Contents",
      "toc_cell": false,
      "toc_position": {},
      "toc_section_display": true,
      "toc_window_display": false
    }
  },
  "nbformat": 4,
  "nbformat_minor": 2
}